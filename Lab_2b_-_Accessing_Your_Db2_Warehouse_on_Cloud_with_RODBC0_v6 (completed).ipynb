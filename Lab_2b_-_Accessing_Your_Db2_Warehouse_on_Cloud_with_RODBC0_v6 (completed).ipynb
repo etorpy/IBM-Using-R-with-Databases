{
 "cells": [
  {
   "cell_type": "markdown",
   "metadata": {},
   "source": [
    "<a href=\"https://www.bigdatauniversity.com\"><img src = \"https://ibm.box.com/shared/static/n4369i3g2fkg38kendjtcbw6hzm4vel5.png\" width = 100, align = \"center\"></a>\n",
    "\n",
    "<h1 align=center><font size = 5>Lab 2b: Accessing Your Db2 Warehouse on Cloud Database with RODBC</h1>"
   ]
  },
  {
   "cell_type": "markdown",
   "metadata": {},
   "source": [
    "### Welcome!\n",
    "\n",
    "In this hands-on lab we will examine how to populate a relational database with source data. To accomplish this we will review some data modeling techniques, create tables and load the data.\n",
    "\n",
    "We will then examine how to query the data from R using SQL and the RODBC interface."
   ]
  },
  {
   "cell_type": "markdown",
   "metadata": {},
   "source": [
    "<div class=\"alert alert-block alert-info\" style=\"margin-top: 20px\">\n",
    "<h3>Tasks</h3>\n",
    "<ol><ol><ol>\n",
    "<li><a href=\"#ref6a\">Pre-requisites</a></li>\n",
    "<li><a href=\"#ref6b\">Create an R notebook</a></li>\n",
    "<li><a href=\"#ref6c\">Load RODBC</a></li>\n",
    "<li><a href=\"#ref6d\">Connection information</a></li>\n",
    "<li><a href=\"#ref6e\">Create a database connection</a></li>\n",
    "<li><a href=\"#ref6f\">Connection Attributes</a></li>\n",
    "<li><a href=\"#ref6g\">Connection Metadata</a></li>\n",
    "<li><a href=\"#ref6h\">Supported Datatypes</a></li>\n",
    "<li><a href=\"#ref6i\">List of Tables</a></li>\n",
    "<li><a href=\"#ref6j\">Columns in a Table</a></li>\n",
    "<li><a href=\"#ref6k\">Fetch Data</a></li>\n",
    "<li><a href=\"#ref6l\">Analyze</a></li>\n",
    "<li><a href=\"#ref6m\">Plot</a></li>\n",
    "<li><a href=\"#ref6n\">Dis-connect</a></li>\n",
    "</ol></ol></ol>\n",
    "<br>\n",
    "Estimated Time Needed: <strong>25 min</strong>\n",
    "</div>"
   ]
  },
  {
   "cell_type": "markdown",
   "metadata": {},
   "source": [
    "<a id=\"ref6a\"></a>\n",
    "<h3>a. Pre-requisites</h3>"
   ]
  },
  {
   "cell_type": "markdown",
   "metadata": {},
   "source": [
    "In this lab we will use Jupyter Notebooks within CC Labs to access data in a Db2 Warehouse on Cloud database (previously called dashDB) using RODBC.  Information about these services is provided in the lab setup."
   ]
  },
  {
   "cell_type": "markdown",
   "metadata": {},
   "source": [
    "<a id=\"ref6b\"></a>\n",
    "<h3>b. Create an R notebook</h3>"
   ]
  },
  {
   "cell_type": "markdown",
   "metadata": {},
   "source": [
    "Create a new Jupyter notebook in CC Labs. Set it to use R (using the dropdown in the top right corner)."
   ]
  },
  {
   "cell_type": "markdown",
   "metadata": {},
   "source": [
    "<img src=https://ibm.box.com/shared/static/vb8qv1tyq3b40sq4urgyfk9fwi2i8rpm.png width=50%>"
   ]
  },
  {
   "cell_type": "markdown",
   "metadata": {},
   "source": [
    "<a id=\"ref6c\"></a>\n",
    "<h3>c. Load RODBC</h3>"
   ]
  },
  {
   "cell_type": "markdown",
   "metadata": {},
   "source": [
    "The RODBC package and the ODBC driver for Db2 Warehouse are pre-installed on your workbench. Let’s create a new cell and load the RODBC package by typing the following command and executing it (Ctrl+Enter):"
   ]
  },
  {
   "cell_type": "code",
   "execution_count": 1,
   "metadata": {
    "collapsed": true
   },
   "outputs": [],
   "source": [
    "library(RODBC);"
   ]
  },
  {
   "cell_type": "markdown",
   "metadata": {},
   "source": [
    "<div align=\"left\">\n",
    "<a href=\"#tipc\" class=\"btn btn-default\" data-toggle=\"collapse\" >Click here to view/hide tip</a></div>\n",
    "<div id=\"tipc\" class=\"collapse\"><br>\n",
    "  \n",
    "```\n",
    "# Fill in the ...\n",
    "library(...);\n",
    "```\n",
    "  \n",
    "</div>"
   ]
  },
  {
   "cell_type": "markdown",
   "metadata": {},
   "source": [
    "<div align=\"left\">\n",
    "<a href=\"#solc\" class=\"btn btn-default\" data-toggle=\"collapse\" >Click here to view/hide solution</a></div>\n",
    "<div id=\"solc\" class=\"collapse\"><br>\n",
    "  \n",
    "```\n",
    "library(RODBC);\n",
    "```\n",
    "  \n",
    "</div>"
   ]
  },
  {
   "cell_type": "markdown",
   "metadata": {},
   "source": [
    "<a id=\"ref6d\"></a>\n",
    "<h3>d. Connection information</h3>"
   ]
  },
  {
   "cell_type": "markdown",
   "metadata": {},
   "source": [
    "In a new cell enter the connection details for your instance of Db2 Warehouse and run it. Remember to update the values for hostname, userid, and password. "
   ]
  },
  {
   "cell_type": "code",
   "execution_count": 2,
   "metadata": {
    "collapsed": true
   },
   "outputs": [],
   "source": [
    "#Enter the values for you database connection\n",
    "\n",
    "# dsn_driver = \"com.ibm.db2.jcc.DB2Driver\"    # NOTE: This line is from Lab2a and is not in the Db2 credentials info\n",
    "dsn_driver <- \"{IBM DB2 ODBC Driver}\"         # NOTE: This appears to be an alternative way to specify the ODBC driver\n",
    "dsn_database = \"BLUDB\"            # e.g. \"BLUDB\"      # all of the credentials info is under the section (\"dsn\":) near the bottom\n",
    "dsn_hostname = \"dashdb-entry-yp-dal10-01.services.dal.bluemix.net\"   # e.g. replace <yourhostname> with your hostname, e.g., \"Db2 Warehouse01.datascientstworkbench.com\"\n",
    "dsn_port = \"50000\"                # e.g. \"50000\" \n",
    "dsn_protocol = \"TCPIP\"            # i.e. \"TCPIP\"\n",
    "dsn_uid = \"dash100497\"              # e.g. replace <userid> with your userid\n",
    "dsn_pwd = \"8_dKQbPO_j0o\"            # e.g. replace <password> with your password\n"
   ]
  },
  {
   "cell_type": "markdown",
   "metadata": {},
   "source": [
    "<div align=\"left\">\n",
    "<a href=\"#tipd\"class=\"btn btn-default\" data-toggle=\"collapse\" >Click here to view/hide tip</a></div>\n",
    "<div id=\"tipd\" class=\"collapse\"><br>\n",
    "  \n",
    "```\n",
    "# Fill in the <...>\n",
    "dsn_driver <- \"{...}\"\n",
    "dsn_database <- \"...\"            \n",
    "dsn_hostname <- \"<Enter Hostname>\" \n",
    "dsn_port <- \"...\"                \n",
    "dsn_protocol <- \"...\"            \n",
    "dsn_uid <- \"<Enter UserID>\"        \n",
    "dsn_pwd <- \"<Enter Password>\"     \n",
    "```\n",
    "  \n",
    "</div>"
   ]
  },
  {
   "cell_type": "markdown",
   "metadata": {},
   "source": [
    "<div align=\"left\">\n",
    "<a href=\"#sold\" class=\"btn btn-default\" data-toggle=\"collapse\" >Click here to view/hide solution</a></div>\n",
    "<div id=\"sold\" class=\"collapse\"><br>\n",
    "  \n",
    "```\n",
    "dsn_driver <- \"{IBM DB2 ODBC Driver}\"\n",
    "dsn_database <- \"BLUDB\"            # e.g. \"BLUDB\"\n",
    "dsn_hostname <- \"<Enter Hostname>\" # e.g.: \"awh-yp-small03.services.dal.bluemix.net\"\n",
    "dsn_port <- \"50000\"                # e.g. \"50000\" \n",
    "dsn_protocol <- \"TCPIP\"            # i.e. \"TCPIP\"\n",
    "dsn_uid <- \"<Enter UserID>\"        # e.g. \"dash104434\"\n",
    "dsn_pwd <- \"<Enter Password>\"      # e.g. \"7dBZ39xN6$o0JiX!m\"  \n",
    "```\n",
    "  \n",
    "</div>"
   ]
  },
  {
   "cell_type": "markdown",
   "metadata": {},
   "source": [
    "<a id=\"ref6e\"></a>\n",
    "<h3>e. Create a database connection</h3>"
   ]
  },
  {
   "cell_type": "markdown",
   "metadata": {},
   "source": [
    "Create a connection string and connect:"
   ]
  },
  {
   "cell_type": "code",
   "execution_count": 3,
   "metadata": {
    "collapsed": false
   },
   "outputs": [
    {
     "data": {
      "text/plain": [
       "RODBC Connection 1\n",
       "Details:\n",
       "  case=nochange\n",
       "  DRIVER={IBM DB2 ODBC DRIVER}\n",
       "  UID=dash100497\n",
       "  PWD=******\n",
       "  DATABASE=BLUDB\n",
       "  HOSTNAME=dashdb-entry-yp-dal10-01.services.dal.bluemix.net\n",
       "  PORT=50000\n",
       "  PROTOCOL=TCPIP"
      ]
     },
     "metadata": {},
     "output_type": "display_data"
    }
   ],
   "source": [
    "# Since this uses the vaiables we created above for our credentials, this code never needs to change.\n",
    "conn_path <- paste(\"DRIVER=\",dsn_driver,\n",
    "                  \";DATABASE=\",dsn_database,\n",
    "                  \";HOSTNAME=\",dsn_hostname,\n",
    "                  \";PORT=\",dsn_port,\n",
    "                  \";PROTOCOL=\",dsn_protocol,\n",
    "                  \";UID=\",dsn_uid,\n",
    "                  \";PWD=\",dsn_pwd,sep=\"\")\n",
    "conn <- odbcDriverConnect(conn_path)\n",
    "conn"
   ]
  },
  {
   "cell_type": "markdown",
   "metadata": {},
   "source": [
    "<div align=\"left\">\n",
    "<a href=\"#tipe\" class=\"btn btn-default\" data-toggle=\"collapse\" >Click here to view/hide tip</a></div>\n",
    "<div id=\"tipe\" class=\"collapse\"><br>\n",
    "  \n",
    "```\n",
    "# Fill in the ...\n",
    "conn_path <- paste(\"DRIVER=\",...\n",
    "                  \";DATABASE=\",...\n",
    "                  \";HOSTNAME=\",...\n",
    "                  \";PORT=\",...\n",
    "                  \";PROTOCOL=\",...\n",
    "                  \";UID=\",...\n",
    "                  \";PWD=\",...\")\n",
    "conn <- ...(...)\n",
    "...\n",
    "```\n",
    "  \n",
    "</div>"
   ]
  },
  {
   "cell_type": "markdown",
   "metadata": {},
   "source": [
    "<div align=\"left\">\n",
    "<a href=\"#sole\" class=\"btn btn-default\" data-toggle=\"collapse\" >Click here to view/hide solution</a></div>\n",
    "<div id=\"sole\" class=\"collapse\"><br>\n",
    "  \n",
    "```\n",
    "conn_path <- paste(\"DRIVER=\",dsn_driver,\n",
    "                  \";DATABASE=\",dsn_database,\n",
    "                  \";HOSTNAME=\",dsn_hostname,\n",
    "                  \";PORT=\",dsn_port,\n",
    "                  \";PROTOCOL=\",dsn_protocol,\n",
    "                  \";UID=\",dsn_uid,\n",
    "                  \";PWD=\",dsn_pwd,sep=\"\")\n",
    "conn <- odbcDriverConnect(conn_path)\n",
    "conn\n",
    "```\n",
    "  \n",
    "</div>"
   ]
  },
  {
   "cell_type": "markdown",
   "metadata": {},
   "source": [
    "<a id=\"ref6f\"></a>\n",
    "<h3>f. Connection Attributes</h3>"
   ]
  },
  {
   "cell_type": "markdown",
   "metadata": {},
   "source": [
    "Let’s examine the connection attributes:"
   ]
  },
  {
   "cell_type": "code",
   "execution_count": 4,
   "metadata": {
    "collapsed": true
   },
   "outputs": [
    {
     "data": {
      "text/plain": [
       "$connection.string\n",
       "[1] \"DRIVER={IBM DB2 ODBC DRIVER};UID=dash100497;PWD=******;DATABASE=BLUDB;HOSTNAME=dashdb-entry-yp-dal10-01.services.dal.bluemix.net;PORT=50000;PROTOCOL=TCPIP;\"\n",
       "\n",
       "$handle_ptr\n",
       "<pointer: 0x5652ded681d0>\n",
       "\n",
       "$class\n",
       "[1] \"RODBC\"\n",
       "\n",
       "$case\n",
       "[1] \"nochange\"\n",
       "\n",
       "$id\n",
       "[1] 30145\n",
       "\n",
       "$believeNRows\n",
       "[1] TRUE\n",
       "\n",
       "$colQuote\n",
       "[1] \"\\\"\"\n",
       "\n",
       "$tabQuote\n",
       "[1] \"\\\"\"\n",
       "\n",
       "$interpretDot\n",
       "[1] TRUE\n",
       "\n",
       "$encoding\n",
       "[1] \"\"\n",
       "\n",
       "$rows_at_time\n",
       "[1] 100\n",
       "\n",
       "$isMySQL\n",
       "[1] FALSE\n",
       "\n",
       "$call\n",
       "odbcDriverConnect(connection = \"DRIVER={IBM DB2 ODBC Driver};DATABASE=BLUDB;HOSTNAME=dashdb-entry-yp-dal10-01.services.dal.bluemix.net;PORT=50000;PROTOCOL=TCPIP;UID=dash100497;PWD=******;\")\n"
      ]
     },
     "metadata": {},
     "output_type": "display_data"
    }
   ],
   "source": [
    "attributes(conn)"
   ]
  },
  {
   "cell_type": "markdown",
   "metadata": {},
   "source": [
    "<div align=\"left\">\n",
    "<a href=\"#tipf\" class=\"btn btn-default\" data-toggle=\"collapse\" >Click here to view/hide tip</a></div>\n",
    "<div id=\"tipf\" class=\"collapse\"><br>\n",
    "  \n",
    "```\n",
    "# Fill in the ...\n",
    "...(conn)\n",
    "```\n",
    "  \n",
    "</div>"
   ]
  },
  {
   "cell_type": "markdown",
   "metadata": {},
   "source": [
    "<div align=\"left\">\n",
    "<a href=\"#solf\" class=\"btn btn-default\" data-toggle=\"collapse\" >Click here to view/hide solution</a></div>\n",
    "<div id=\"solf\" class=\"collapse\"><br>\n",
    "  \n",
    "```\n",
    "attributes(conn)\n",
    "```\n",
    "  \n",
    "</div>"
   ]
  },
  {
   "cell_type": "markdown",
   "metadata": {},
   "source": [
    "<a id=\"ref6g\"></a>\n",
    "<h3>g. Connection Metadata</h3>"
   ]
  },
  {
   "cell_type": "markdown",
   "metadata": {},
   "source": [
    "And review the connection metadata using  the odbcGetInfo() function:"
   ]
  },
  {
   "cell_type": "code",
   "execution_count": 5,
   "metadata": {
    "collapsed": true
   },
   "outputs": [],
   "source": [
    "conn.info <- odbcGetInfo(conn)"
   ]
  },
  {
   "cell_type": "markdown",
   "metadata": {},
   "source": [
    "<div align=\"left\">\n",
    "<a href=\"#tipg1\" class=\"btn btn-default\" data-toggle=\"collapse\" >Click here to view/hide tip</a></div>\n",
    "<div id=\"tipg1\" class=\"collapse\"><br>\n",
    "  \n",
    "```\n",
    "conn.... <- odbc...(conn) \n",
    "```\n",
    "  \n",
    "</div>"
   ]
  },
  {
   "cell_type": "markdown",
   "metadata": {},
   "source": [
    "<div align=\"left\">\n",
    "<a href=\"#solg1\" class=\"btn btn-default\" data-toggle=\"collapse\" >Click here to view/hide solution</a></div>\n",
    "<div id=\"solg1\" class=\"collapse\"><br>\n",
    "  \n",
    "```\n",
    "conn.info <- odbcGetInfo(conn) \n",
    "```\n",
    "  \n",
    "</div>"
   ]
  },
  {
   "cell_type": "code",
   "execution_count": 6,
   "metadata": {
    "collapsed": true
   },
   "outputs": [
    {
     "data": {
      "text/html": [
       "<strong>DBMS_Name:</strong> 'DB2/LINUXX8664'"
      ],
      "text/latex": [
       "\\textbf{DBMS\\textbackslash{}\\_Name:} 'DB2/LINUXX8664'"
      ],
      "text/markdown": [
       "**DBMS_Name:** 'DB2/LINUXX8664'"
      ],
      "text/plain": [
       "       DBMS_Name \n",
       "\"DB2/LINUXX8664\" "
      ]
     },
     "metadata": {},
     "output_type": "display_data"
    },
    {
     "data": {
      "text/html": [
       "<strong>DBMS_Ver:</strong> '11.01.0009'"
      ],
      "text/latex": [
       "\\textbf{DBMS\\textbackslash{}\\_Ver:} '11.01.0009'"
      ],
      "text/markdown": [
       "**DBMS_Ver:** '11.01.0009'"
      ],
      "text/plain": [
       "    DBMS_Ver \n",
       "\"11.01.0009\" "
      ]
     },
     "metadata": {},
     "output_type": "display_data"
    },
    {
     "data": {
      "text/html": [
       "<strong>Driver_ODBC_Ver:</strong> '03.51'"
      ],
      "text/latex": [
       "\\textbf{Driver\\textbackslash{}\\_ODBC\\textbackslash{}\\_Ver:} '03.51'"
      ],
      "text/markdown": [
       "**Driver_ODBC_Ver:** '03.51'"
      ],
      "text/plain": [
       "Driver_ODBC_Ver \n",
       "        \"03.51\" "
      ]
     },
     "metadata": {},
     "output_type": "display_data"
    }
   ],
   "source": [
    "conn.info[\"DBMS_Name\"]\n",
    "conn.info[\"DBMS_Ver\"] \n",
    "conn.info[\"Driver_ODBC_Ver\"]"
   ]
  },
  {
   "cell_type": "markdown",
   "metadata": {},
   "source": [
    "<div align=\"left\">\n",
    "<a href=\"#tipg2\" class=\"btn btn-default\" data-toggle=\"collapse\" >Click here to view/hide tip</a></div>\n",
    "<div id=\"tipg2\" class=\"collapse\"><br>\n",
    "  \n",
    "```\n",
    "# Fill in the ...\n",
    "conn....[\"DBMS_...\"]\n",
    "conn....[\"DBMS_...\"] \n",
    "conn....[\"Driver_..._...\"]\n",
    "```\n",
    "  \n",
    "</div>"
   ]
  },
  {
   "cell_type": "markdown",
   "metadata": {},
   "source": [
    "<div align=\"left\">\n",
    "<a href=\"#solg2\" class=\"btn btn-default\" data-toggle=\"collapse\" >Click here to view/hide solution</a></div>\n",
    "<div id=\"solg2\" class=\"collapse\"><br>\n",
    "  \n",
    "```\n",
    "conn.info[\"DBMS_Name\"]\n",
    "conn.info[\"DBMS_Ver\"] \n",
    "conn.info[\"Driver_ODBC_Ver\"]\n",
    "```\n",
    "  \n",
    "</div>"
   ]
  },
  {
   "cell_type": "markdown",
   "metadata": {},
   "source": [
    "<a id=\"ref6h\"></a>\n",
    "<h3>h. Supported Datatypes</h3>"
   ]
  },
  {
   "cell_type": "markdown",
   "metadata": {},
   "source": [
    "Let’s now examine the datatypes supported by the database:"
   ]
  },
  {
   "cell_type": "code",
   "execution_count": 7,
   "metadata": {
    "collapsed": true
   },
   "outputs": [
    {
     "name": "stdout",
     "output_type": "stream",
     "text": [
      "                 TYPE_NAME COLUMN_SIZE\n",
      "                       XML           0\n",
      "                  DECFLOAT          34\n",
      "                      CLOB  2147483647\n",
      "                      BLOB  2147483647\n",
      " LONG VARCHAR FOR BIT DATA       32700\n",
      "                 VARBINARY       32672\n",
      "                    BINARY         254\n",
      "              LONG VARCHAR       32700\n",
      "                      CHAR         254\n",
      "                   NUMERIC          31\n",
      "                   DECIMAL          31\n",
      "                   INTEGER          10\n",
      "                  SMALLINT           5\n",
      "                     FLOAT          53\n",
      "                      REAL          24\n",
      "                    DOUBLE          53\n",
      "                   VARCHAR       32672\n",
      "                      DATE          10\n",
      "                      TIME           8\n",
      "                 TIMESTAMP          32\n",
      "                VARGRAPHIC       16336\n",
      "                   GRAPHIC         127\n",
      "           LONG VARGRAPHIC       16350\n",
      "                    DBCLOB  1073741823\n",
      "                    BIGINT          19\n"
     ]
    }
   ],
   "source": [
    "sql.info <- sqlTypeInfo(conn)\n",
    "print(sql.info[c(1,3)], row.names=FALSE) "
   ]
  },
  {
   "cell_type": "markdown",
   "metadata": {},
   "source": [
    "<div align=\"left\">\n",
    "<a href=\"#tiph\" class=\"btn btn-default\" data-toggle=\"collapse\" >Click here to view/hide tip</a></div>\n",
    "<div id=\"tiph\" class=\"collapse\"><br>\n",
    "  \n",
    "```\n",
    "# Fill in the ...\n",
    "sql.... <- sql...(conn)\n",
    "print(sql....[c(1,...)], row....=FALSE) \n",
    "```\n",
    "  \n",
    "</div>"
   ]
  },
  {
   "cell_type": "markdown",
   "metadata": {},
   "source": [
    "<div align=\"left\">\n",
    "<a href=\"#solh\" class=\"btn btn-default\" data-toggle=\"collapse\" >Click here to view/hide solution</a></div>\n",
    "<div id=\"solh\" class=\"collapse\"><br>\n",
    "  \n",
    "```\n",
    "sql.info <- sqlTypeInfo(conn)\n",
    "print(sql.info[c(1,3)], row.names=FALSE) \n",
    "```\n",
    "  \n",
    "</div>"
   ]
  },
  {
   "cell_type": "markdown",
   "metadata": {},
   "source": [
    "<a id=\"ref6i\"></a>\n",
    "<h3>i. List of Tables</h3>"
   ]
  },
  {
   "cell_type": "markdown",
   "metadata": {},
   "source": [
    "We will use the sqlTables() function to return a dataframe with information about table-like objects (i.e. TABLEs, VIEWs, ALIASes, etc.) in a specified schema called “GOSALES”. First we will output the number of tables in the schema, and then display their names."
   ]
  },
  {
   "cell_type": "code",
   "execution_count": 8,
   "metadata": {
    "collapsed": true
   },
   "outputs": [
    {
     "data": {
      "text/html": [
       "24"
      ],
      "text/latex": [
       "24"
      ],
      "text/markdown": [
       "24"
      ],
      "text/plain": [
       "[1] 24"
      ]
     },
     "metadata": {},
     "output_type": "display_data"
    },
    {
     "data": {
      "text/html": [
       "<ol class=list-inline>\n",
       "\t<li>'BRANCH'</li>\n",
       "\t<li>'CONVERSION_RATE'</li>\n",
       "\t<li>'COUNTRY'</li>\n",
       "\t<li>'CURRENCY_LOOKUP'</li>\n",
       "\t<li>'EURO_CONVERSION'</li>\n",
       "\t<li>'INVENTORY_LEVELS'</li>\n",
       "\t<li>'ORDER_DETAILS'</li>\n",
       "\t<li>'ORDER_HEADER'</li>\n",
       "\t<li>'ORDER_METHOD'</li>\n",
       "\t<li>'PRODUCT'</li>\n",
       "\t<li>'PRODUCT_BRAND'</li>\n",
       "\t<li>'PRODUCT_COLOR_LOOKUP'</li>\n",
       "\t<li>'PRODUCT_FORECAST'</li>\n",
       "\t<li>'PRODUCT_LINE'</li>\n",
       "\t<li>'PRODUCT_NAME_LOOKUP'</li>\n",
       "\t<li>'PRODUCT_SIZE_LOOKUP'</li>\n",
       "\t<li>'PRODUCT_TYPE'</li>\n",
       "\t<li>'RETURNED_ITEM'</li>\n",
       "\t<li>'RETURN_REASON'</li>\n",
       "\t<li>'SALES_REGION'</li>\n",
       "\t<li>'SALES_TARGET'</li>\n",
       "\t<li>'TIME_DIMENSION'</li>\n",
       "\t<li>'TIME_QUARTER_LOOKUP'</li>\n",
       "\t<li>'XGOREV'</li>\n",
       "</ol>\n"
      ],
      "text/latex": [
       "\\begin{enumerate*}\n",
       "\\item 'BRANCH'\n",
       "\\item 'CONVERSION\\_RATE'\n",
       "\\item 'COUNTRY'\n",
       "\\item 'CURRENCY\\_LOOKUP'\n",
       "\\item 'EURO\\_CONVERSION'\n",
       "\\item 'INVENTORY\\_LEVELS'\n",
       "\\item 'ORDER\\_DETAILS'\n",
       "\\item 'ORDER\\_HEADER'\n",
       "\\item 'ORDER\\_METHOD'\n",
       "\\item 'PRODUCT'\n",
       "\\item 'PRODUCT\\_BRAND'\n",
       "\\item 'PRODUCT\\_COLOR\\_LOOKUP'\n",
       "\\item 'PRODUCT\\_FORECAST'\n",
       "\\item 'PRODUCT\\_LINE'\n",
       "\\item 'PRODUCT\\_NAME\\_LOOKUP'\n",
       "\\item 'PRODUCT\\_SIZE\\_LOOKUP'\n",
       "\\item 'PRODUCT\\_TYPE'\n",
       "\\item 'RETURNED\\_ITEM'\n",
       "\\item 'RETURN\\_REASON'\n",
       "\\item 'SALES\\_REGION'\n",
       "\\item 'SALES\\_TARGET'\n",
       "\\item 'TIME\\_DIMENSION'\n",
       "\\item 'TIME\\_QUARTER\\_LOOKUP'\n",
       "\\item 'XGOREV'\n",
       "\\end{enumerate*}\n"
      ],
      "text/markdown": [
       "1. 'BRANCH'\n",
       "2. 'CONVERSION_RATE'\n",
       "3. 'COUNTRY'\n",
       "4. 'CURRENCY_LOOKUP'\n",
       "5. 'EURO_CONVERSION'\n",
       "6. 'INVENTORY_LEVELS'\n",
       "7. 'ORDER_DETAILS'\n",
       "8. 'ORDER_HEADER'\n",
       "9. 'ORDER_METHOD'\n",
       "10. 'PRODUCT'\n",
       "11. 'PRODUCT_BRAND'\n",
       "12. 'PRODUCT_COLOR_LOOKUP'\n",
       "13. 'PRODUCT_FORECAST'\n",
       "14. 'PRODUCT_LINE'\n",
       "15. 'PRODUCT_NAME_LOOKUP'\n",
       "16. 'PRODUCT_SIZE_LOOKUP'\n",
       "17. 'PRODUCT_TYPE'\n",
       "18. 'RETURNED_ITEM'\n",
       "19. 'RETURN_REASON'\n",
       "20. 'SALES_REGION'\n",
       "21. 'SALES_TARGET'\n",
       "22. 'TIME_DIMENSION'\n",
       "23. 'TIME_QUARTER_LOOKUP'\n",
       "24. 'XGOREV'\n",
       "\n",
       "\n"
      ],
      "text/plain": [
       " [1] \"BRANCH\"               \"CONVERSION_RATE\"      \"COUNTRY\"             \n",
       " [4] \"CURRENCY_LOOKUP\"      \"EURO_CONVERSION\"      \"INVENTORY_LEVELS\"    \n",
       " [7] \"ORDER_DETAILS\"        \"ORDER_HEADER\"         \"ORDER_METHOD\"        \n",
       "[10] \"PRODUCT\"              \"PRODUCT_BRAND\"        \"PRODUCT_COLOR_LOOKUP\"\n",
       "[13] \"PRODUCT_FORECAST\"     \"PRODUCT_LINE\"         \"PRODUCT_NAME_LOOKUP\" \n",
       "[16] \"PRODUCT_SIZE_LOOKUP\"  \"PRODUCT_TYPE\"         \"RETURNED_ITEM\"       \n",
       "[19] \"RETURN_REASON\"        \"SALES_REGION\"         \"SALES_TARGET\"        \n",
       "[22] \"TIME_DIMENSION\"       \"TIME_QUARTER_LOOKUP\"  \"XGOREV\"              "
      ]
     },
     "metadata": {},
     "output_type": "display_data"
    }
   ],
   "source": [
    "tab.frame <- sqlTables(conn, schema=\"GOSALES\")\n",
    "nrow(tab.frame)\n",
    "tab.frame$TABLE_NAME"
   ]
  },
  {
   "cell_type": "markdown",
   "metadata": {},
   "source": [
    "<div align=\"left\">\n",
    "<a href=\"#tipi\" class=\"btn btn-default\" data-toggle=\"collapse\" >Click here to view/hide tip</a></div>\n",
    "<div id=\"tipi\" class=\"collapse\"><br>\n",
    "  \n",
    "```\n",
    "# Fill in the ...\n",
    "tab.... <- sql...(conn, ...=\"GOSALES\")\n",
    "nrow(tab....)\n",
    "tab.frame$...\n",
    "```\n",
    "  \n",
    "</div>"
   ]
  },
  {
   "cell_type": "markdown",
   "metadata": {},
   "source": [
    "<div align=\"left\">\n",
    "<a href=\"#soli\" class=\"btn btn-default\" data-toggle=\"collapse\" >Click here to view/hide solution</a></div>\n",
    "<div id=\"soli\" class=\"collapse\"><br>\n",
    "  \n",
    "```\n",
    "tab.frame <- sqlTables(conn, schema=\"GOSALES\")\n",
    "nrow(tab.frame)\n",
    "tab.frame$TABLE_NAME\n",
    "```\n",
    "  \n",
    "</div>"
   ]
  },
  {
   "cell_type": "markdown",
   "metadata": {},
   "source": [
    "<a id=\"ref6j\"></a>\n",
    "<h3>j. Columns in a Table</h3>"
   ]
  },
  {
   "cell_type": "markdown",
   "metadata": {},
   "source": [
    "Next, let’s look at column metadata for columns in a sample table like “GOSALES.ORDER_DETAILS” in the database:"
   ]
  },
  {
   "cell_type": "code",
   "execution_count": 9,
   "metadata": {
    "collapsed": true
   },
   "outputs": [
    {
     "name": "stdout",
     "output_type": "stream",
     "text": [
      "       COLUMN_NAME TYPE_NAME COLUMN_SIZE DECIMAL_DIGITS IS_NULLABLE\n",
      " ORDER_DETAIL_CODE   INTEGER          10              0          NO\n",
      "      ORDER_NUMBER   INTEGER          10              0          NO\n",
      "         SHIP_DATE TIMESTAMP          26              6          NO\n",
      "    PRODUCT_NUMBER   INTEGER          10              0          NO\n",
      "    PROMOTION_CODE   INTEGER          10              0          NO\n",
      "          QUANTITY    BIGINT          19              0          NO\n",
      "         UNIT_COST   DECIMAL          19              2         YES\n",
      "        UNIT_PRICE   DECIMAL          19              2         YES\n",
      "   UNIT_SALE_PRICE   DECIMAL          19              2         YES\n"
     ]
    }
   ],
   "source": [
    "tab.name <- \"GOSALES.ORDER_DETAILS\"\n",
    "col.detail <- sqlColumns(conn, tab.name)\n",
    "print(col.detail[c(4,6,7,9,18)], row.names=FALSE)"
   ]
  },
  {
   "cell_type": "markdown",
   "metadata": {},
   "source": [
    "<div align=\"left\">\n",
    "<a href=\"#tipj\" class=\"btn btn-default\" data-toggle=\"collapse\" >Click here to view/hide tip</a></div>\n",
    "<div id=\"tipj\" class=\"collapse\"><br>\n",
    "  \n",
    "```\n",
    "# Fill in the ...\n",
    "tab.... <- \"GOSALES....\"\n",
    "col.detail <- sql...(conn, tab....)\n",
    "print(....detail[c(...,...,7,...,...)], row....=FALSE)\n",
    "```\n",
    "  \n",
    "</div>"
   ]
  },
  {
   "cell_type": "markdown",
   "metadata": {},
   "source": [
    "<div align=\"left\">\n",
    "<a href=\"#solj\" class=\"btn btn-default\" data-toggle=\"collapse\" >Click here to view/hide solution</a></div>\n",
    "<div id=\"solj\" class=\"collapse\"><br>\n",
    "  \n",
    "```\n",
    "tab.name <- \"GOSALES.ORDER_DETAILS\"\n",
    "col.detail <- sqlColumns(conn, tab.name)\n",
    "print(col.detail[c(4,6,7,9,18)], row.names=FALSE)\n",
    "```\n",
    "  \n",
    "</div>"
   ]
  },
  {
   "cell_type": "markdown",
   "metadata": {},
   "source": [
    "<a id=\"ref6k\"></a>\n",
    "<h3>k. Fetch Data</h3>"
   ]
  },
  {
   "cell_type": "markdown",
   "metadata": {},
   "source": [
    "Now let’s use the SQLFetch() function to retrieve the contents of the table (Note: ORDER_DETAILS table has almost half a million rows and hence this may take a little long to run) into a R dataframe. See how many rows are there and examine the datatypes of columns in the dataframe. Compare them to the datatypes in the columns of the corresponding table in the database (see previous step)."
   ]
  },
  {
   "cell_type": "code",
   "execution_count": 10,
   "metadata": {
    "collapsed": true
   },
   "outputs": [
    {
     "data": {
      "text/html": [
       "446023"
      ],
      "text/latex": [
       "446023"
      ],
      "text/markdown": [
       "446023"
      ],
      "text/plain": [
       "[1] 446023"
      ]
     },
     "metadata": {},
     "output_type": "display_data"
    },
    {
     "name": "stdout",
     "output_type": "stream",
     "text": [
      "'data.frame':\t446023 obs. of  9 variables:\n",
      " $ ORDER_DETAIL_CODE: int  1000001 1000002 1000013 1000014 1000015 1000016 1000017 1000028 1000029 1000030 ...\n",
      " $ ORDER_NUMBER     : int  100001 100001 100002 100002 100002 100002 100002 100003 100003 100003 ...\n",
      " $ SHIP_DATE        : POSIXct, format: \"2010-01-19\" \"2010-02-17\" ...\n",
      " $ PRODUCT_NUMBER   : int  41110 69110 75110 76110 85110 65110 100110 90110 95110 79110 ...\n",
      " $ PROMOTION_CODE   : int  0 0 0 0 0 0 0 0 0 0 ...\n",
      " $ QUANTITY         : int  256 92 162 172 74 90 422 3252 1107 88 ...\n",
      " $ UNIT_COST        : num  15.6 49.7 80 23.5 176.5 ...\n",
      " $ UNIT_PRICE       : num  35.1 110 119.7 40.5 359.6 ...\n",
      " $ UNIT_SALE_PRICE  : num  33.7 102.3 111.3 38.9 334.4 ...\n"
     ]
    }
   ],
   "source": [
    "# This may take 30 seconds or more to run - output will appear below when finished\n",
    "orderdet <- sqlFetch(conn, tab.name)\n",
    "nrow(orderdet)\n",
    "str(orderdet)"
   ]
  },
  {
   "cell_type": "markdown",
   "metadata": {},
   "source": [
    "<div align=\"left\">\n",
    "<a href=\"#tipk\" class=\"btn btn-default\" data-toggle=\"collapse\" >Click here to view/hide tip</a></div>\n",
    "<div id=\"tipk\" class=\"collapse\"><br>\n",
    "  \n",
    "```\n",
    "# Fill in the ...\n",
    "order... <- sql...(conn, tab....)\n",
    "nrow(...)\n",
    "str(...)\n",
    "```\n",
    "  \n",
    "</div>"
   ]
  },
  {
   "cell_type": "markdown",
   "metadata": {},
   "source": [
    "<div align=\"left\">\n",
    "<a href=\"#solk\" class=\"btn btn-default\" data-toggle=\"collapse\" >Click here to view/hide solution</a></div>\n",
    "<div id=\"solk\" class=\"collapse\"><br>\n",
    "  \n",
    "```\n",
    "orderdet <- sqlFetch(conn, tab.name)\n",
    "nrow(orderdet)\n",
    "str(orderdet)\n",
    "```\n",
    "  \n",
    "</div>"
   ]
  },
  {
   "cell_type": "markdown",
   "metadata": {},
   "source": [
    "<a id=\"ref6l\"></a>\n",
    "<h3>l. Analyze</h3>"
   ]
  },
  {
   "cell_type": "markdown",
   "metadata": {},
   "source": [
    "Now that we have the data in a R dataframe let’s, we can do some analysis. Let’s see if there is any co-relation between the number of orders by month. First, add a MONTH column to the dataframe that extracts the month number from the SHIP_DATE. Then add a new column having a value of 1 in every row."
   ]
  },
  {
   "cell_type": "code",
   "execution_count": 11,
   "metadata": {
    "collapsed": true
   },
   "outputs": [],
   "source": [
    "# We should begin by examining the distribution of SHIP_DATE to better understand the data.\n",
    "# Unfortunately, this exercise does not do this.\n",
    "orderdet$MONTH <- c(as.integer(format(orderdet$SHIP_DATE,\"%m\")))\n",
    "orderdet$ONES <- rep(1,nrow(orderdet))"
   ]
  },
  {
   "cell_type": "markdown",
   "metadata": {},
   "source": [
    "<div align=\"left\">\n",
    "<a href=\"#tipl1\" class=\"btn btn-default\" data-toggle=\"collapse\" >Click here to view/hide tip</a></div>\n",
    "<div id=\"tipl1\" class=\"collapse\"><br>\n",
    "  \n",
    "```\n",
    "# Fill in the ...\n",
    "orderdet$... <- c(as....(format(orderdet$...,\"%...\")))\n",
    "orderdet$... <- rep(1,n...(order...))\n",
    "```\n",
    "  \n",
    "</div>"
   ]
  },
  {
   "cell_type": "markdown",
   "metadata": {},
   "source": [
    "<div align=\"left\">\n",
    "<a href=\"#soll1\" class=\"btn btn-default\" data-toggle=\"collapse\" >Click here to view/hide solution</a></div>\n",
    "<div id=\"soll1\" class=\"collapse\"><br>\n",
    "  \n",
    "```\n",
    "orderdet$MONTH <- c(as.integer(format(orderdet$SHIP_DATE,\"%m\")))\n",
    "orderdet$ONES <- rep(1,nrow(orderdet))\n",
    "```\n",
    "  \n",
    "</div>"
   ]
  },
  {
   "cell_type": "markdown",
   "metadata": {},
   "source": [
    "Let’s find out the total numbers of orders per month. We can create a new dataframe containing the total number of orders by month."
   ]
  },
  {
   "cell_type": "code",
   "execution_count": 12,
   "metadata": {
    "collapsed": true
   },
   "outputs": [
    {
     "data": {
      "text/html": [
       "<table>\n",
       "<thead><tr><th scope=col>MONTH</th><th scope=col>x</th></tr></thead>\n",
       "<tbody>\n",
       "\t<tr><td> 1   </td><td>40002</td></tr>\n",
       "\t<tr><td> 2   </td><td>40858</td></tr>\n",
       "\t<tr><td> 3   </td><td>41823</td></tr>\n",
       "\t<tr><td> 4   </td><td>41762</td></tr>\n",
       "\t<tr><td> 5   </td><td>42769</td></tr>\n",
       "\t<tr><td> 6   </td><td>41773</td></tr>\n",
       "\t<tr><td> 7   </td><td>43423</td></tr>\n",
       "\t<tr><td> 8   </td><td>30219</td></tr>\n",
       "\t<tr><td> 9   </td><td>29815</td></tr>\n",
       "\t<tr><td>10   </td><td>31516</td></tr>\n",
       "\t<tr><td>11   </td><td>31307</td></tr>\n",
       "\t<tr><td>12   </td><td>30756</td></tr>\n",
       "</tbody>\n",
       "</table>\n"
      ],
      "text/latex": [
       "\\begin{tabular}{r|ll}\n",
       " MONTH & x\\\\\n",
       "\\hline\n",
       "\t  1    & 40002\\\\\n",
       "\t  2    & 40858\\\\\n",
       "\t  3    & 41823\\\\\n",
       "\t  4    & 41762\\\\\n",
       "\t  5    & 42769\\\\\n",
       "\t  6    & 41773\\\\\n",
       "\t  7    & 43423\\\\\n",
       "\t  8    & 30219\\\\\n",
       "\t  9    & 29815\\\\\n",
       "\t 10    & 31516\\\\\n",
       "\t 11    & 31307\\\\\n",
       "\t 12    & 30756\\\\\n",
       "\\end{tabular}\n"
      ],
      "text/markdown": [
       "\n",
       "MONTH | x | \n",
       "|---|---|---|---|---|---|---|---|---|---|---|---|\n",
       "|  1    | 40002 | \n",
       "|  2    | 40858 | \n",
       "|  3    | 41823 | \n",
       "|  4    | 41762 | \n",
       "|  5    | 42769 | \n",
       "|  6    | 41773 | \n",
       "|  7    | 43423 | \n",
       "|  8    | 30219 | \n",
       "|  9    | 29815 | \n",
       "| 10    | 31516 | \n",
       "| 11    | 31307 | \n",
       "| 12    | 30756 | \n",
       "\n",
       "\n"
      ],
      "text/plain": [
       "   MONTH x    \n",
       "1   1    40002\n",
       "2   2    40858\n",
       "3   3    41823\n",
       "4   4    41762\n",
       "5   5    42769\n",
       "6   6    41773\n",
       "7   7    43423\n",
       "8   8    30219\n",
       "9   9    29815\n",
       "10 10    31516\n",
       "11 11    31307\n",
       "12 12    30756"
      ]
     },
     "metadata": {},
     "output_type": "display_data"
    }
   ],
   "source": [
    "# NOTE: It is possible that there are multiple years where some months may have more years than other months\n",
    "orderspermonth <- aggregate(orderdet$ONES,by=list(MONTH=orderdet$MONTH), FUN=sum)\n",
    "orderspermonth"
   ]
  },
  {
   "cell_type": "markdown",
   "metadata": {},
   "source": [
    "<div align=\"left\">\n",
    "<a href=\"#tipl2\" class=\"btn btn-default\" data-toggle=\"collapse\" >Click here to view/hide tip</a></div>\n",
    "<div id=\"tipl2\" class=\"collapse\"><br>\n",
    "  \n",
    "```\n",
    "# Fill in the ...\n",
    "orders... <- aggregate(...$ONES,by=...(MONTH=...$...), FUN=...)\n",
    "orders...\n",
    "```\n",
    "  \n",
    "</div>"
   ]
  },
  {
   "cell_type": "markdown",
   "metadata": {},
   "source": [
    "<div align=\"left\">\n",
    "<a href=\"#soll2\" class=\"btn btn-default\" data-toggle=\"collapse\" >Click here to view/hide solution</a></div>\n",
    "<div id=\"soll2\" class=\"collapse\"><br>\n",
    "  \n",
    "```\n",
    "orderspermonth <- aggregate(orderdet$ONES,by=list(MONTH=orderdet$MONTH), FUN=sum)\n",
    "orderspermonth\n",
    "```\n",
    "  \n",
    "</div>"
   ]
  },
  {
   "cell_type": "markdown",
   "metadata": {},
   "source": [
    "<a id=\"ref6m\"></a>\n",
    "<h3>m. Plot</h3>"
   ]
  },
  {
   "cell_type": "markdown",
   "metadata": {},
   "source": [
    "Create a simple scatter plot. Which month had most orders? Does there appear to be any co-relation?"
   ]
  },
  {
   "cell_type": "code",
   "execution_count": 13,
   "metadata": {
    "collapsed": true
   },
   "outputs": [
    {
     "data": {
      "image/png": "[encoded data removed]",
      "text/plain": [
       "Plot with title “Total Orders by Month”"
      ]
     },
     "metadata": {},
     "output_type": "display_data",
     "source": "R display func"
    }
   ],
   "source": [
    "# NOTE: the scatter plot suggests that months 8-12 have 3 years of data and months 1-7 have 4 years.\n",
    "with(orderspermonth, plot(MONTH,x, main=\"Total Orders by Month\" ))"
   ]
  },
  {
   "cell_type": "markdown",
   "metadata": {},
   "source": [
    "<div align=\"left\">\n",
    "<a href=\"#tipm\" class=\"btn btn-default\" data-toggle=\"collapse\" >Click here to view/hide tip</a></div>\n",
    "<div id=\"tipm\" class=\"collapse\"><br>\n",
    "  \n",
    "```\n",
    "# Fill in the ...\n",
    "with(orders..., plot(...,..., main=\"...\" ))\n",
    "```\n",
    "  \n",
    "</div>"
   ]
  },
  {
   "cell_type": "markdown",
   "metadata": {},
   "source": [
    "<div align=\"left\">\n",
    "<a href=\"#solm\" class=\"btn btn-default\" data-toggle=\"collapse\" >Click here to view/hide solution</a></div>\n",
    "<div id=\"solm\" class=\"collapse\"><br>\n",
    "  \n",
    "```\n",
    "with(orderspermonth, plot(MONTH,x, main=\"Total Orders by Month\" ))\n",
    "```\n",
    "  \n",
    "</div>"
   ]
  },
  {
   "cell_type": "markdown",
   "metadata": {},
   "source": [
    "<a id=\"ref6n\"></a>\n",
    "<h3>n. Dis-connect</h3>"
   ]
  },
  {
   "cell_type": "markdown",
   "metadata": {},
   "source": [
    "Finally, as a best practice we should close the database connection once we're done with it."
   ]
  },
  {
   "cell_type": "code",
   "execution_count": 14,
   "metadata": {
    "collapsed": true
   },
   "outputs": [],
   "source": [
    "odbcCloseAll()"
   ]
  },
  {
   "cell_type": "markdown",
   "metadata": {},
   "source": [
    "<div align=\"left\">\n",
    "<a href=\"#tipn\" class=\"btn btn-default\" data-toggle=\"collapse\" >Click here to view/hide tip</a></div>\n",
    "<div id=\"tipn\" class=\"collapse\"><br>\n",
    "  \n",
    "```\n",
    "odbc...()\n",
    "```\n",
    "  \n",
    "</div>"
   ]
  },
  {
   "cell_type": "markdown",
   "metadata": {},
   "source": [
    "<div align=\"left\">\n",
    "<a href=\"#soln\" class=\"btn btn-default\" data-toggle=\"collapse\" >Click here to view/hide solution</a></div>\n",
    "<div id=\"soln\" class=\"collapse\"><br>\n",
    "  \n",
    "```\n",
    "odbcCloseAll()\n",
    "```\n",
    "  \n",
    "</div>"
   ]
  },
  {
   "cell_type": "markdown",
   "metadata": {},
   "source": [
    "<a id=\"ref6o\"></a>\n",
    "<h3>Summary</h3>"
   ]
  },
  {
   "cell_type": "markdown",
   "metadata": {},
   "source": [
    "In this lab you accessed data in a Db2 Warehouse data warehouse using RODBC connection from an R notebook in Jupyter.\n",
    "\n",
    "This notebook is part of the free course on Cognitive Class called *Using R with Databases*. If you accessed this notebook outside the course, you can take this free self-paced course, online by going to: https://cognitiveclass.ai/courses/using-r-with-databases/"
   ]
  },
  {
   "cell_type": "markdown",
   "metadata": {},
   "source": [
    "<hr>\n",
    "<h3>Tell your friends that you're taking the Using R with Database course!</h3>\n",
    "\n",
    "<script type=\"text/javascript\" async src=\"https://platform.twitter.com/widgets.js\"></script>\n",
    "\n",
    "<a href=https://twitter.com/intent/tweet?url=https%3A%2F%2Fgoo.gl%2Fb6kJAj&via=bigdatau&text=I%20can%20now%20program%20in%20R!%20I%20finished%20this%20R%20course%20on%20IBM%27s%20Big%20Data%20University!&hashtags=rstats%2Cdatascience&related=bigdatau>\n",
    "<textarea name=\"textarea1\" disabled=\"disabled\" style=\"resize:none;border-color:#00aced;color:#808080;height:80px\" cols=75>Just learnt how to use #RODBC to access my Db2 Warehouse from #jupyter notebooks Thanks @cognitiveclass</textarea></a>\n",
    "<p></p><a class=\"twitter-share-button\" data-size=large href=https://twitter.com/intent/tweet?url=https%3A%2F%2Fgoo.gl%2Fb6kJAj&via=bigdatau&text=I%20can%20now%20program%20in%20R!%20I%20finished%20this%20R%20course%20on%20IBM%27s%20Big%20Data%20University!&hashtags=rstats%2Cdatascience&related=bigdatau></a>\n",
    "\n",
    "<a href=https://twitter.com/intent/tweet?text=Just+learnt+how+to+use+%23RODBC+to+access+my+Db2 Warehouse+from+%23jupyter+notebooks+Thanks+%40BigDataU>Tweet Now!</a>"
   ]
  },
  {
   "cell_type": "markdown",
   "metadata": {},
   "source": [
    "#### Thank you for completing this module on getting connected and querying databases using RJDBC and RODBC."
   ]
  },
  {
   "cell_type": "markdown",
   "metadata": {},
   "source": [
    "<hr>\n",
    "### About the Authors:  \n",
    "Hi! It's [Rav Ahuja](https://ca.linkedin.com/in/rav-ahuja-8aa4562a) and [Agatha Colangelo](https://www.linkedin.com/in/agathacolangelo), the authors of this notebook. We hope you found this lab easy to do! There's lots more to learn about R and Relational Databases but you're well on your way. Feel free to connect with us if you have any questions.\n",
    "<hr>"
   ]
  },
  {
   "cell_type": "markdown",
   "metadata": {},
   "source": [
    "Copyright &copy; 2017 [Cognitive Class](https://cognitiveclass.ai/?utm_source=bducopyrightlink&utm_medium=dswb&utm_campaign=bdu). This notebook and its source code are released under the terms of the [MIT License](https://cognitiveclass.ai/mit-license/)."
   ]
  }
 ],
 "metadata": {
  "kernelspec": {
   "display_name": "R",
   "language": "R",
   "name": "ir"
  },
  "language_info": {
   "codemirror_mode": "r",
   "file_extension": ".r",
   "mimetype": "text/x-r-source",
   "name": "R",
   "pygments_lexer": "r",
   "version": "3.5.1"
  },
  "widgets": {
   "state": {},
   "version": "1.1.2"
  }
 },
 "nbformat": 4,
 "nbformat_minor": 2
}
