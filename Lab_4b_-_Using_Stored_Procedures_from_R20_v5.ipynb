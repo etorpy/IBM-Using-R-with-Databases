{
 "cells": [
  {
   "cell_type": "markdown",
   "metadata": {},
   "source": [
    "<a href=\"https://www.bigdatauniversity.com\"><img src = \"https://ibm.box.com/shared/static/n4369i3g2fkg38kendjtcbw6hzm4vel5.png\" width = 100, align = \"center\"></a>\n",
    "# <center>Lab 4b: Using Database Stored Procedures from R</center>"
   ]
  },
  {
   "cell_type": "markdown",
   "metadata": {},
   "source": [
    "Welcome to this Lab on using database stored procedures from R."
   ]
  },
  {
   "cell_type": "markdown",
   "metadata": {},
   "source": [
    "<div class=\"alert alert-block alert-info\" style=\"margin-top: 20px\">\n",
    "<h3>Tasks</h3>\n",
    "<ol><ol><ol>\n",
    "<li><a href=\"#refa\">Pre-requisites</a></li>\n",
    "<li><a href=\"#refb\">Load the RODBC package</a></li>\n",
    "<li><a href=\"#refc\">Connect to your Database</a></li>\n",
    "<li>Create a simple stored procedure:\n",
    "<ol>\n",
    "<li><a href=\"#refd1\">Construct the stored procedure</a></li>\n",
    "<li><a href=\"#refd2\">Execute the sqlQuery statement</a></li>\n",
    "</ol></li>\n",
    "<li><a href=\"#refe\">Invoke the stored procedure</a></li>\n",
    "<li><a href=\"#reff\">Pass parameters to a stored procedure</a></li>\n",
    "<li><a href=\"#refg\">Update data with a stored procedure</a></li>\n",
    "</ol></ol></ol>\n",
    "<br>\n",
    "Estimated Time Needed: <strong>30 min</strong>\n",
    "</div>"
   ]
  },
  {
   "cell_type": "markdown",
   "metadata": {},
   "source": [
    "<a id=\"refa\"></a>\n",
    "<h3>a. Pre-requisites</h3>"
   ]
  },
  {
   "cell_type": "markdown",
   "metadata": {},
   "source": [
    "In this lab we will use Jupyter Notebooks within CC Labs to create and invoke stored procedures from R.  Information about these services is provided in the lab setup."
   ]
  },
  {
   "cell_type": "markdown",
   "metadata": {},
   "source": [
    "<a id=\"refb\"></a>\n",
    "<h3>b. Load the RODBC package</h3>\n",
    "<br>\n",
    "Let's start by loading the <b>RODBC</b> package. <b>ibmdbR</b> utilizes <b>RODBC</b> to connect to interact with the database so ensure that the database is accessable using <b>RODBC</b>. Type the code and execute it (Ctrl+Enter):"
   ]
  },
  {
   "cell_type": "code",
   "execution_count": null,
   "metadata": {
    "collapsed": false
   },
   "outputs": [],
   "source": []
  },
  {
   "cell_type": "markdown",
   "metadata": {},
   "source": [
    "<div align=\"left\">\n",
    "<a href=\"#tipb\" class=\"btn btn-default\" data-toggle=\"collapse\" >Click here to view/hide tip</a></div>\n",
    "<div id=\"tipb\" class=\"collapse\"><br>\n",
    "  \n",
    "```\n",
    "# Fill in the ...\n",
    "library(...)\n",
    "```\n",
    "  \n",
    "</div>"
   ]
  },
  {
   "cell_type": "markdown",
   "metadata": {},
   "source": [
    "<div align=\"left\">\n",
    "<a href=\"#solb\" class=\"btn btn-default\" data-toggle=\"collapse\" >Click here to view/hide solution</a></div>\n",
    "<div id=\"solb\" class=\"collapse\"><br>\n",
    "  \n",
    "```\n",
    "library(RODBC)\n",
    "```\n",
    "  \n",
    "</div>"
   ]
  },
  {
   "cell_type": "markdown",
   "metadata": {},
   "source": [
    "<a id=\"refc\"></a>\n",
    "<h3>c. Connect to your database</h3>\n",
    "<br>\n",
    "Enter the values for your database connection."
   ]
  },
  {
   "cell_type": "code",
   "execution_count": null,
   "metadata": {
    "collapsed": true
   },
   "outputs": [],
   "source": [
    "#Enter the values for your database connection"
   ]
  },
  {
   "cell_type": "markdown",
   "metadata": {},
   "source": [
    "<div align=\"left\">\n",
    "<a href=\"#tipc1\" class=\"btn btn-default\" data-toggle=\"collapse\" >Click here to view/hide tip</a></div>\n",
    "<div id=\"tipc1\" class=\"collapse\"><br>\n",
    "  \n",
    "```\n",
    "# Fill in the ...\n",
    "dsn_...ver <- \"{IBM DB2 ... Driver}\"\n",
    "dsn_...base <- \"...\"            \n",
    "dsn_...name <- \"YOUR.DASHDB.HOSTNAME\"\n",
    "dsn_port <- \"...\"                \n",
    "dsn_protocol <- \"...\"            \n",
    "dsn_... <- \"YOURDASHDBPASSWORD\"       \n",
    "dsn_... <- \"YOURDASHDBUSERNAME\"      \n",
    "```\n",
    "  \n",
    "</div>"
   ]
  },
  {
   "cell_type": "markdown",
   "metadata": {},
   "source": [
    "<div align=\"left\">\n",
    "<a href=\"#solc1\" class=\"btn btn-default\" data-toggle=\"collapse\" >Click here to view/hide solution</a></div>\n",
    "<div id=\"solc1\" class=\"collapse\"><br>\n",
    "  \n",
    "```\n",
    "#Enter the values for your database connection\n",
    "dsn_driver <- \"{IBM DB2 ODBC Driver}\"\n",
    "dsn_database <- \"BLUDB\"            # e.g. \"BLUDB\"\n",
    "dsn_hostname <- \"YOUR.DASHDB.HOSTNAME\" # e.g.: \"awh-yp-small03.services.dal.bluemix.net\"\n",
    "dsn_port <- \"50000\"                # e.g. \"50000\" \n",
    "dsn_protocol <- \"TCPIP\"            # i.e. \"TCPIP\"\n",
    "dsn_uid <- \"YOURDASHDBPASSWORD\"    # e.g. \"dash104434\"\n",
    "dsn_pwd <- \"YOURDASHDBUSERNAME\"    # e.g. \"7dBZ39xN6$o0JiX!m\"\n",
    "```\n",
    "  \n",
    "</div>"
   ]
  },
  {
   "cell_type": "markdown",
   "metadata": {},
   "source": [
    "Create a connection string and connect to the database."
   ]
  },
  {
   "cell_type": "code",
   "execution_count": null,
   "metadata": {
    "collapsed": false
   },
   "outputs": [],
   "source": [
    "#Create a connection string and connect to the database"
   ]
  },
  {
   "cell_type": "markdown",
   "metadata": {},
   "source": [
    "<div align=\"left\">\n",
    "<a href=\"#tipc2\" class=\"btn btn-default\" data-toggle=\"collapse\" >Click here to view/hide tip</a></div>\n",
    "<div id=\"tipc2\" class=\"collapse\"><br>\n",
    "  \n",
    "```\n",
    "# Fill in the ...\n",
    "..._path <- paste(\"DRIVER=\",dsn_...,\n",
    "                  \";DATABASE=\",dsn_...,\n",
    "                  \";HOSTNAME=\",dsn_...,\n",
    "                  \";PORT=\",dsn_...,\n",
    "                  \";PROTOCOL=\",dsn_...,\n",
    "                  \";...=\",dsn_...,\n",
    "                  \";...=\",dsn_...,...=\"\")\n",
    "conn <- ...Driver...(conn_...)\n",
    "conn\n",
    "```\n",
    "  \n",
    "</div>"
   ]
  },
  {
   "cell_type": "markdown",
   "metadata": {},
   "source": [
    "<div align=\"left\">\n",
    "<a href=\"#solc2\" class=\"btn btn-default\" data-toggle=\"collapse\" >Click here to view/hide solution</a></div>\n",
    "<div id=\"solc2\" class=\"collapse\"><br>\n",
    "  \n",
    "```\n",
    "#Create a connection string and connect to the database\n",
    "conn_path <- paste(\"DRIVER=\",dsn_driver,\n",
    "                  \";DATABASE=\",dsn_database,\n",
    "                  \";HOSTNAME=\",dsn_hostname,\n",
    "                  \";PORT=\",dsn_port,\n",
    "                  \";PROTOCOL=\",dsn_protocol,\n",
    "                  \";UID=\",dsn_uid,\n",
    "                  \";PWD=\",dsn_pwd,sep=\"\")\n",
    "conn <- odbcDriverConnect(conn_path)\n",
    "conn\n",
    "```\n",
    "  \n",
    "</div>"
   ]
  },
  {
   "cell_type": "markdown",
   "metadata": {},
   "source": [
    "View the database and driver information."
   ]
  },
  {
   "cell_type": "code",
   "execution_count": null,
   "metadata": {
    "collapsed": false
   },
   "outputs": [],
   "source": [
    "#View database and driver information"
   ]
  },
  {
   "cell_type": "markdown",
   "metadata": {},
   "source": [
    "<div align=\"left\">\n",
    "<a href=\"#tipc3\" class=\"btn btn-default\" data-toggle=\"collapse\" >Click here to view/hide tip</a></div>\n",
    "<div id=\"tipc3\" class=\"collapse\"><br>\n",
    "  \n",
    "```\n",
    "# Fill in the ...\n",
    "sql.... <- sql...(conn)\n",
    "conn.... <- ...Get...(...)\n",
    "conn....[..._Name\"]\n",
    "conn....[\"..._Ver\"]\n",
    "conn....[\"Driver_..._Ver\"]\n",
    "```\n",
    "  \n",
    "</div>"
   ]
  },
  {
   "cell_type": "markdown",
   "metadata": {},
   "source": [
    "<div align=\"left\">\n",
    "<a href=\"#solc3\" class=\"btn btn-default\" data-toggle=\"collapse\" >Click here to view/hide solution</a></div>\n",
    "<div id=\"solc3\" class=\"collapse\"><br>\n",
    "  \n",
    "```\n",
    "#View database and driver information\n",
    "sql.info <- sqlTypeInfo(conn)\n",
    "conn.info <- odbcGetInfo(conn)\n",
    "conn.info[\"DBMS_Name\"]\n",
    "conn.info[\"DBMS_Ver\"]\n",
    "conn.info[\"Driver_ODBC_Ver\"]\n",
    "```\n",
    "  \n",
    "</div>"
   ]
  },
  {
   "cell_type": "markdown",
   "metadata": {},
   "source": [
    "<a id=\"refd1\"></a>\n",
    "<h3>d.i Create a simple stored procedure</h3>\n",
    "<br>\n",
    "Let's create a very simple stored procedure that simply performs a select from a sample table and returns the results.\n",
    "NOTE: Typically the stored procedures are created directly on the database server and invoked from client applications, however, here we are  creating it in the R notebook just for illustration."
   ]
  },
  {
   "cell_type": "markdown",
   "metadata": {},
   "source": [
    "Construct the statement for creating the stored procedure."
   ]
  },
  {
   "cell_type": "code",
   "execution_count": null,
   "metadata": {
    "collapsed": true
   },
   "outputs": [],
   "source": []
  },
  {
   "cell_type": "markdown",
   "metadata": {},
   "source": [
    "<div align=\"left\">\n",
    "<a href=\"#tipd1\" class=\"btn btn-default\" data-toggle=\"collapse\" >Click here to view/hide tip</a></div>\n",
    "<div id=\"tipd1\" class=\"collapse\"><br>\n",
    "  \n",
    "```\n",
    "# Fill in the ...\n",
    "...1 <- \"... OR ... PROCEDURE ... \n",
    "RESULT ... 1\n",
    "\n",
    "BEGIN ... c1 ... WITH ... FOR \n",
    "SEL... * FROM SAMPLES....;\n",
    "\n",
    "... c1;\n",
    "END \n",
    "\"\n",
    "```\n",
    "  \n",
    "</div>"
   ]
  },
  {
   "cell_type": "markdown",
   "metadata": {},
   "source": [
    "<div align=\"left\">\n",
    "<a href=\"#sold1\" class=\"btn btn-default\" data-toggle=\"collapse\" >Click here to view/hide solution</a></div>\n",
    "<div id=\"sold1\" class=\"collapse\"><br>\n",
    "  \n",
    "```\n",
    "query1 <- \"CREATE OR REPLACE PROCEDURE getcows \n",
    "RESULT SETS 1\n",
    "\n",
    "BEGIN DECLARE c1 CURSOR WITH RETURN FOR \n",
    "SELECT * FROM SAMPLES.COW;\n",
    "\n",
    "OPEN c1;\n",
    "END \n",
    "\"\n",
    "```\n",
    "  \n",
    "</div>"
   ]
  },
  {
   "cell_type": "markdown",
   "metadata": {},
   "source": [
    "<a id=\"refd2\"></a>\n",
    "<h3>d.ii Execute the sqlQuery statement</h3>\n",
    "\n",
    "Use <b>sqlQuery</b> to execute the statement for creating stored procedures"
   ]
  },
  {
   "cell_type": "code",
   "execution_count": null,
   "metadata": {
    "collapsed": true
   },
   "outputs": [],
   "source": []
  },
  {
   "cell_type": "markdown",
   "metadata": {},
   "source": [
    "<div align=\"left\">\n",
    "<a href=\"#tipd2\" class=\"btn btn-default\" data-toggle=\"collapse\" >Click here to view/hide tip</a></div>\n",
    "<div id=\"tipd2\" class=\"collapse\"><br>\n",
    "  \n",
    "```\n",
    "# Fill in the ...\n",
    "...1 <- sql...(conn,...1)\n",
    "```\n",
    "  \n",
    "</div>"
   ]
  },
  {
   "cell_type": "markdown",
   "metadata": {},
   "source": [
    "<div align=\"left\">\n",
    "<a href=\"#sold2\" class=\"btn btn-default\" data-toggle=\"collapse\" >Click here to view/hide solution</a></div>\n",
    "<div id=\"sold2\" class=\"collapse\"><br>\n",
    "  \n",
    "```\n",
    "df1 <- sqlQuery(conn,query1)\n",
    "```\n",
    "  \n",
    "</div>"
   ]
  },
  {
   "cell_type": "markdown",
   "metadata": {
    "collapsed": false
   },
   "source": [
    "<a id=\"refe\"></a>\n",
    "<h3>e. Invoke the stored procedure</h3>\n",
    "<br>\n",
    "Now lets invoke the stored procedure and print the results"
   ]
  },
  {
   "cell_type": "code",
   "execution_count": null,
   "metadata": {
    "collapsed": true
   },
   "outputs": [],
   "source": []
  },
  {
   "cell_type": "markdown",
   "metadata": {},
   "source": [
    "<div align=\"left\">\n",
    "<a href=\"#tipe1\" class=\"btn btn-default\" data-toggle=\"collapse\" >Click here to view/hide tip</a></div>\n",
    "<div id=\"tipe1\" class=\"collapse\"><br>\n",
    "  \n",
    "```\n",
    "# Fill in the ...\n",
    "...2 <- \"CALL ...()\"\n",
    "```\n",
    "  \n",
    "</div>"
   ]
  },
  {
   "cell_type": "markdown",
   "metadata": {},
   "source": [
    "<div align=\"left\">\n",
    "<a href=\"#sole1\" class=\"btn btn-default\" data-toggle=\"collapse\" >Click here to view/hide solution</a></div>\n",
    "<div id=\"sole1\" class=\"collapse\"><br>\n",
    "  \n",
    "```\n",
    "query2 <- \"CALL getcows()\"\n",
    "```\n",
    "  \n",
    "</div>"
   ]
  },
  {
   "cell_type": "code",
   "execution_count": null,
   "metadata": {
    "collapsed": false
   },
   "outputs": [],
   "source": [
    "#The stored procedure returns a result set which we can retrieve into a dataframe"
   ]
  },
  {
   "cell_type": "markdown",
   "metadata": {},
   "source": [
    "<div align=\"left\">\n",
    "<a href=\"#tipe2\" class=\"btn btn-default\" data-toggle=\"collapse\" >Click here to view/hide tip</a></div>\n",
    "<div id=\"tipe2\" class=\"collapse\"><br>\n",
    "  \n",
    "```\n",
    "# Fill in the ...\n",
    "...2 <- sql...(conn,...2)\n",
    "print (..., ....names=FALSE)\n",
    "```\n",
    "  \n",
    "</div>"
   ]
  },
  {
   "cell_type": "markdown",
   "metadata": {},
   "source": [
    "<div align=\"left\">\n",
    "<a href=\"#sole2\" class=\"btn btn-default\" data-toggle=\"collapse\" >Click here to view/hide solution</a></div>\n",
    "<div id=\"sole2\" class=\"collapse\"><br>\n",
    "  \n",
    "```\n",
    "#The stored procedure returns a result set which we can retrieve into a dataframe\n",
    "df2 <- sqlQuery(conn,query2)\n",
    "print (df2, row.names=FALSE)\n",
    "```\n",
    "  \n",
    "</div>"
   ]
  },
  {
   "cell_type": "markdown",
   "metadata": {
    "collapsed": true
   },
   "source": [
    "<a id=\"reff\"></a>\n",
    "<h3>f. Pass parameters to a stored procedure</h3>\n",
    "<br>\n",
    "Now let's try a stored procedure to which you can pass a parameter "
   ]
  },
  {
   "cell_type": "code",
   "execution_count": null,
   "metadata": {
    "collapsed": true
   },
   "outputs": [],
   "source": []
  },
  {
   "cell_type": "markdown",
   "metadata": {},
   "source": [
    "<div align=\"left\">\n",
    "<a href=\"#tipf1\" class=\"btn btn-default\" data-toggle=\"collapse\" >Click here to view/hide tip</a></div>\n",
    "<div id=\"tipf1\" class=\"collapse\"><br>\n",
    "  \n",
    "```\n",
    "# Fill in the ...\n",
    "...3 <- \"... OR ... PROCEDURE ... (IN ... CHAR(6))\n",
    "RESULT ... 1\n",
    "\n",
    "BEGIN ... c1 ... WITH ... FOR \n",
    "SEL... * FROM ...S.... WHERE ... = C... ;\n",
    "\n",
    "... c1;\n",
    "END \n",
    "\"\n",
    "...3 <- sql...(conn,...3)\n",
    "```\n",
    "  \n",
    "</div>"
   ]
  },
  {
   "cell_type": "markdown",
   "metadata": {},
   "source": [
    "<div align=\"left\">\n",
    "<a href=\"#solf1\" class=\"btn btn-default\" data-toggle=\"collapse\" >Click here to view/hide solution</a></div>\n",
    "<div id=\"solf1\" class=\"collapse\"><br>\n",
    "  \n",
    "```\n",
    "query3 <- \"CREATE OR REPLACE PROCEDURE getcow (IN CCODE CHAR(6))\n",
    "RESULT SETS 1\n",
    "\n",
    "BEGIN DECLARE c1 CURSOR WITH RETURN FOR \n",
    "SELECT * FROM SAMPLES.COW WHERE COW_CODE = CCODE ;\n",
    "\n",
    "OPEN c1;\n",
    "END \n",
    "\"\n",
    "df3 <- sqlQuery(conn,query3)\n",
    "```\n",
    "  \n",
    "</div>"
   ]
  },
  {
   "cell_type": "code",
   "execution_count": null,
   "metadata": {
    "collapsed": false
   },
   "outputs": [],
   "source": [
    "#Now invoke the procedure with cowcode of say 2"
   ]
  },
  {
   "cell_type": "markdown",
   "metadata": {},
   "source": [
    "<div align=\"left\">\n",
    "<a href=\"#tipf2\" class=\"btn btn-default\" data-toggle=\"collapse\" >Click here to view/hide tip</a></div>\n",
    "<div id=\"tipf2\" class=\"collapse\"><br>\n",
    "  \n",
    "```\n",
    "# Fill in the ...\n",
    "...4 <- \"CALL ...(...)\"\n",
    "...4 <- sql...(conn,...4)\n",
    "print (...4, ....names=FALSE)\n",
    "```\n",
    "  \n",
    "</div>"
   ]
  },
  {
   "cell_type": "markdown",
   "metadata": {},
   "source": [
    "<div align=\"left\">\n",
    "<a href=\"#solf2\" class=\"btn btn-default\" data-toggle=\"collapse\" >Click here to view/hide solution</a></div>\n",
    "<div id=\"solf2\" class=\"collapse\"><br>\n",
    "  \n",
    "```\n",
    "#Now invoke the procedure with cowcode of say 2\n",
    "query4 <- \"CALL getcow(2)\"\n",
    "df4 <- sqlQuery(conn,query4)\n",
    "print (df4, row.names=FALSE)\n",
    "```\n",
    "  \n",
    "</div>"
   ]
  },
  {
   "cell_type": "markdown",
   "metadata": {
    "collapsed": true
   },
   "source": [
    "<a id=\"refg\"></a>\n",
    "<h3>g. Update data with a stored procedure</h3>\n",
    "<br>\n",
    "Let's now look at a stored procedure that updates some data in the database."
   ]
  },
  {
   "cell_type": "code",
   "execution_count": null,
   "metadata": {
    "collapsed": false
   },
   "outputs": [],
   "source": [
    "# First create a dataframe with sample IDs, names, salaries, and bonus\n",
    "#drop the salary table in case it exists\n",
    "#insert the dataframe contents into a database table\n",
    "#check the data that was written to database"
   ]
  },
  {
   "cell_type": "markdown",
   "metadata": {},
   "source": [
    "<div align=\"left\">\n",
    "<a href=\"#tipg1\" class=\"btn btn-default\" data-toggle=\"collapse\" >Click here to view/hide tip</a></div>\n",
    "<div id=\"tipg1\" class=\"collapse\"><br>\n",
    "  \n",
    "```\n",
    "# Fill in the ...\n",
    "ID <- c(as....(1),as.integer(2),as.integer(3),as.integer(4))\n",
    "NAME <- c(\"...\", \"...\", \"...\", \"...\")\n",
    "BASE... <- c(1..., 2..., 3..., 4...)\n",
    "RATING <- c(..., ..., ..., ...)\n",
    "BONUS <- c(..., ..., ..., ....)\n",
    "...df <- data....(ID, ..., ...SALARY, ..., BO...)\n",
    "\n",
    "...ttab <- sql...(conn, \"...\")\n",
    "\n",
    "sql...(conn, ...df, \"...\", ...=TRUE, ...=FALSE, ...ames=FALSE, ...names=FALSE)\n",
    "\n",
    "...db <- sql...(conn, \"...\", strings...=FALSE)\n",
    "...db\n",
    "```\n",
    "  \n",
    "</div>"
   ]
  },
  {
   "cell_type": "markdown",
   "metadata": {},
   "source": [
    "<div align=\"left\">\n",
    "<a href=\"#solg1\" class=\"btn btn-default\" data-toggle=\"collapse\" >Click here to view/hide solution</a></div>\n",
    "<div id=\"solg1\" class=\"collapse\"><br>\n",
    "  \n",
    "```\n",
    "# First create a dataframe with sample IDs, names, salaries, and bonus\n",
    "ID <- c(as.integer(1),as.integer(2),as.integer(3),as.integer(4))\n",
    "NAME <- c(\"Agatha\", \"Polong\", \"Rav\", \"Saeed\")\n",
    "BASESALARY <- c(1000, 2000, 3000, 4000)\n",
    "RATING <- c(4, 1, 3, 2)\n",
    "BONUS <- c(0, 0, 0, 0)\n",
    "salarydf <- data.frame(ID, NAME, BASESALARY, RATING, BONUS)\n",
    "#drop the salary table in case it exists\n",
    "dropttab <- sqlDrop(conn, \"SALARY\")\n",
    "#insert the dataframe contents into a database table\n",
    "sqlSave(conn, salarydf, \"SALARY\", append=TRUE, fast=FALSE, rownames=FALSE, colnames=FALSE)\n",
    "#check the data that was written to database\n",
    "salarydb <- sqlFetch(conn, \"SALARY\", stringsAsFactors=FALSE)\n",
    "salarydb\n",
    "```\n",
    "  \n",
    "</div>"
   ]
  },
  {
   "cell_type": "code",
   "execution_count": null,
   "metadata": {
    "collapsed": true
   },
   "outputs": [],
   "source": [
    "#This procedure based on an input value gives all teachers in the salary table a bonus"
   ]
  },
  {
   "cell_type": "markdown",
   "metadata": {},
   "source": [
    "<div align=\"left\">\n",
    "<a href=\"#tipg2\" class=\"btn btn-default\" data-toggle=\"collapse\" >Click here to view/hide tip</a></div>\n",
    "<div id=\"tipg2\" class=\"collapse\"><br>\n",
    "  \n",
    "```\n",
    "# Fill in the ...\n",
    "...5 <- \"... OR ... PROCEDURE ...bonus (IN ... ...)\n",
    "BEGIN  \n",
    "... SALARY ... BONUS = ...SALARY * (...bonus * ...);\n",
    "END\n",
    "\"\n",
    "df5 <- sql...(conn,...5)\n",
    "```\n",
    "  \n",
    "</div>"
   ]
  },
  {
   "cell_type": "markdown",
   "metadata": {},
   "source": [
    "<div align=\"left\">\n",
    "<a href=\"#solg2\" class=\"btn btn-default\" data-toggle=\"collapse\" >Click here to view/hide solution</a></div>\n",
    "<div id=\"solg2\" class=\"collapse\"><br>\n",
    "  \n",
    "```\n",
    "#This procedure based on an input value gives all teachers in the salary table a bonus\n",
    "query5 <- \"CREATE OR REPLACE PROCEDURE givebonus (IN basebonus DOUBLE)\n",
    "BEGIN  \n",
    "UPDATE SALARY SET BONUS = BASESALARY * (basebonus * RATING);\n",
    "END\n",
    "\"\n",
    "df5 <- sqlQuery(conn,query5)\n",
    "```\n",
    "  \n",
    "</div>"
   ]
  },
  {
   "cell_type": "code",
   "execution_count": null,
   "metadata": {
    "collapsed": true
   },
   "outputs": [],
   "source": [
    "#lets invoke the procedure with a 5% basebonus"
   ]
  },
  {
   "cell_type": "markdown",
   "metadata": {},
   "source": [
    "<div align=\"left\">\n",
    "<a href=\"#tipg3\" class=\"btn btn-default\" data-toggle=\"collapse\" >Click here to view/hide tip</a></div>\n",
    "<div id=\"tipg3\" class=\"collapse\"><br>\n",
    "  \n",
    "```\n",
    "# Fill in the ...\n",
    "...6 <- \"CALL ...(....05)\"\n",
    "...6 <- sql...(conn,...6)\n",
    "```\n",
    "  \n",
    "</div>"
   ]
  },
  {
   "cell_type": "markdown",
   "metadata": {},
   "source": [
    "<div align=\"left\">\n",
    "<a href=\"#solg3\" class=\"btn btn-default\" data-toggle=\"collapse\" >Click here to view/hide solution</a></div>\n",
    "<div id=\"solg3\" class=\"collapse\"><br>\n",
    "  \n",
    "```\n",
    "#lets invoke the procedure with a 5% basebonus\n",
    "query6 <- \"CALL givebonus(0.05)\"\n",
    "df6 <- sqlQuery(conn,query6)\n",
    "```\n",
    "  \n",
    "</div>"
   ]
  },
  {
   "cell_type": "code",
   "execution_count": null,
   "metadata": {
    "collapsed": false
   },
   "outputs": [],
   "source": [
    "#Let's see how much Bonus everyone got"
   ]
  },
  {
   "cell_type": "markdown",
   "metadata": {},
   "source": [
    "<div align=\"left\">\n",
    "<a href=\"#tipg4\" class=\"btn btn-default\" data-toggle=\"collapse\" >Click here to view/hide tip</a></div>\n",
    "<div id=\"tipg4\" class=\"collapse\"><br>\n",
    "  \n",
    "```\n",
    "# Fill in the ...\n",
    "bonus.. <- sql...(conn, \"...\", strings...=...)\n",
    "bonus..\n",
    "```\n",
    "  \n",
    "</div>"
   ]
  },
  {
   "cell_type": "markdown",
   "metadata": {},
   "source": [
    "<div align=\"left\">\n",
    "<a href=\"#solg4\" class=\"btn btn-default\" data-toggle=\"collapse\" >Click here to view/hide solution</a></div>\n",
    "<div id=\"solg4\" class=\"collapse\"><br>\n",
    "  \n",
    "```\n",
    "#Let's see how much Bonus everyone got\n",
    "bonusdb <- sqlFetch(conn, \"SALARY\", stringsAsFactors=FALSE)\n",
    "bonusdb\n",
    "```\n",
    "  \n",
    "</div>"
   ]
  },
  {
   "cell_type": "markdown",
   "metadata": {},
   "source": [
    "<h3>Summary</h3>"
   ]
  },
  {
   "cell_type": "markdown",
   "metadata": {},
   "source": [
    "In this lab you learned how to take advantage of stored procedures in a database to perform processing on the database server.\n",
    "\n",
    "This notebook is part of the free course on Cognitive Class called *Using R with Databases*. If you accessed this notebook outside the course, you can take this free self-paced course, online by going to: https://cognitiveclass.ai/courses/using-r-with-databases/"
   ]
  },
  {
   "cell_type": "markdown",
   "metadata": {},
   "source": [
    "<hr>\n",
    "<h3>Tell your friends that you're taking the Using R with Database course!</h3>\n",
    "\n",
    "<script type=\"text/javascript\" async src=\"https://platform.twitter.com/widgets.js\"></script>\n",
    "\n",
    "<a href=https://twitter.com/intent/tweet?url=https%3A%2F%2Fgoo.gl%2Fb6kJAj&via=bigdatau&text=I%20can%20now%20program%20in%20R!%20I%20finished%20this%20R%20course%20on%20IBM%27s%20Big%20Data%20University!&hashtags=rstats%2Cdatascience&related=bigdatau>\n",
    "<textarea name=\"textarea1\" disabled=\"disabled\" style=\"resize:none;border-color:#00aced;color:#808080;height:80px\" cols=75>Just learnt how to use stored procs from R from #jupyter notebooks Thanks @cognitiveclass</textarea></a>\n",
    "<p></p><a class=\"twitter-share-button\" data-size=large href=https://twitter.com/intent/tweet?url=https%3A%2F%2Fgoo.gl%2Fb6kJAj&via=bigdatau&text=I%20can%20now%20program%20in%20R!%20I%20finished%20this%20R%20course%20on%20IBM%27s%20Big%20Data%20University!&hashtags=rstats%2Cdatascience&related=bigdatau></a>\n",
    "\n",
    "<a href=https://twitter.com/intent/tweet?text=Just+learnt+how+to+use+stored+procs+from+R+from+%23jupyter+notebooks+Thanks+%40BigDataU>Tweet Now!</a>"
   ]
  },
  {
   "cell_type": "markdown",
   "metadata": {},
   "source": [
    "#### Thank you for completing this lab on using stored procedures from R.\n",
    "<hr>"
   ]
  },
  {
   "cell_type": "markdown",
   "metadata": {},
   "source": [
    "### About the Authors:  \n",
    "Hi! It's [Rav Ahuja](https://ca.linkedin.com/in/rav-ahuja-8aa4562a) and [Agatha Colangelo](https://www.linkedin.com/in/agathacolangelo), the authors of this notebook. We hope you found this lab on using stored procedures with R easy to do! There's lots more to learn about R and Relational Databases but you're well on your way. Feel free to connect with us if you have any questions.\n",
    "<hr>"
   ]
  },
  {
   "cell_type": "markdown",
   "metadata": {},
   "source": [
    "Copyright &copy; 2017 [Cognitive Class](https://cognitiveclass.ai/?utm_source=bducopyrightlink&utm_medium=dswb&utm_campaign=bdu). This notebook and its source code are released under the terms of the [MIT License](https://cognitiveclass.ai/mit-license/)."
   ]
  }
 ],
 "metadata": {
  "kernelspec": {
   "display_name": "R",
   "language": "R",
   "name": "ir"
  },
  "language_info": {
   "codemirror_mode": "r",
   "file_extension": ".r",
   "mimetype": "text/x-r-source",
   "name": "R",
   "pygments_lexer": "r",
   "version": "3.4.3"
  },
  "widgets": {
   "state": {},
   "version": "1.1.2"
  }
 },
 "nbformat": 4,
 "nbformat_minor": 0
}
