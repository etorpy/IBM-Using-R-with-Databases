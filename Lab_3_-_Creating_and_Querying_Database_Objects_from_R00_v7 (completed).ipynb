{
 "cells": [
  {
   "cell_type": "markdown",
   "metadata": {},
   "source": [
    "<a href=\"https://www.bigdatauniversity.com\"><img src = \"https://ibm.box.com/shared/static/n4369i3g2fkg38kendjtcbw6hzm4vel5.png\" width = 100, align = \"center\"></a>\n",
    "\n",
    "<h1 align=center><font size = 5>Lab 3: Creating and Querying Database Objects from R</h1>"
   ]
  },
  {
   "cell_type": "markdown",
   "metadata": {},
   "source": [
    "<br>"
   ]
  },
  {
   "cell_type": "markdown",
   "metadata": {},
   "source": [
    "### Welcome!"
   ]
  },
  {
   "cell_type": "markdown",
   "metadata": {},
   "source": [
    "For this lab we are using the data set from: \n",
    "https://www.ontario.ca/data/ontario-public-schools-enrolment.\n",
    "This comes as a single file with both the board and school data.\n",
    "For simplicity we have already split it into two separate files: board.csv and school.csv . \n",
    "\n",
    "Prior to starting the lab ensure you have download the data set files and placed them in the \"/resources/data/samples/osb/\" folder under My Data."
   ]
  },
  {
   "cell_type": "markdown",
   "metadata": {},
   "source": [
    "<div class=\"alert alert-block alert-info\" style=\"margin-top: 20px\">\n",
    "<h3>Tasks</h3>\n",
    "<ol><ol><ol>\n",
    "<li><a href=\"#ref4a\">Pre-requisites</a></li>\n",
    "<li><a href=\"#ref4b\">Load RODBC</a></li>\n",
    "<li><a href=\"#ref4c\">Create a database connection</a></li>\n",
    "<li><a href=\"#ref4d\">Create a connection string and connect to the database</a></li>\n",
    "<li><a href=\"#ref4e\">View database and driver information</a></li>\n",
    "<li><a href=\"#ref4f\">Create the tables</a></li>\n",
    "<li><a href=\"#ref4g\">Load data into the database</a></li>\n",
    "<li><a href=\"#ref4h\">Fetch data from the database</a></li>\n",
    "<li><a href=\"#ref4i\">Plot the data (using ggplot2)</a></li>\n",
    "<li><a href=\"#ref4j\">Dis-connect</a></li>\n",
    "</ol></ol></ol>\n",
    "<br>\n",
    "Estimated Time Needed: <strong>30 min</strong>\n",
    "</div>"
   ]
  },
  {
   "cell_type": "markdown",
   "metadata": {},
   "source": [
    "<a id=\"ref4a\"></a>\n",
    "### a. Pre-requisites\n",
    "In this lab we will use RStudio IDE within CC Labs to access data in a Db2 Warehouse on Cloud database (previously called dashDB) using RODBC. Information about these services is provided in the lab setup.\n",
    "\n",
    "For this lab we will utilize the Ontario public schools enrollment dataset. This data set is available under the Open Government License – Ontario and sourced from:\n",
    "\n",
    "https://www.ontario.ca/data/ontario-public-schools-enrolment\n"
   ]
  },
  {
   "cell_type": "markdown",
   "metadata": {},
   "source": [
    "<a id=\"ref4b\"></a>\n",
    "### b. Load RODBC\n",
    "\n",
    "The RODBC package and the ODBC driver for Db2 Warehouse are pre-installed on your workbench. Let’s create a new cell and load the RODBC package by typing the following command and executing it (Ctrl+Enter):"
   ]
  },
  {
   "cell_type": "code",
   "execution_count": 1,
   "metadata": {
    "collapsed": true
   },
   "outputs": [],
   "source": [
    "#load the RODBC library\n",
    "library(RODBC);"
   ]
  },
  {
   "cell_type": "markdown",
   "metadata": {},
   "source": [
    "<div align=\"left\">\n",
    "<a href=\"#tipb\" class=\"btn btn-default\" data-toggle=\"collapse\" >Click here to view/hide tip</a></div>\n",
    "<div id=\"tipb\" class=\"collapse\"><br>\n",
    "  \n",
    "```\n",
    "# Fill in the ...\n",
    "library(...)\n",
    "```\n",
    "  \n",
    "</div>"
   ]
  },
  {
   "cell_type": "markdown",
   "metadata": {},
   "source": [
    "<div align=\"left\">\n",
    "<a href=\"#solb\" class=\"btn btn-default\" data-toggle=\"collapse\" >Click here to view/hide solution</a></div>\n",
    "<div id=\"solb\" class=\"collapse\"><br>\n",
    "  \n",
    "```\n",
    "library(RODBC);\n",
    "```\n",
    "  \n",
    "</div>"
   ]
  },
  {
   "cell_type": "markdown",
   "metadata": {},
   "source": [
    "<a id=\"ref4c\"></a>\n",
    "### c. Create a database connection"
   ]
  },
  {
   "cell_type": "code",
   "execution_count": 2,
   "metadata": {
    "collapsed": true
   },
   "outputs": [],
   "source": [
    "#Enter the values for you database connection\n",
    "#Ensure you update the values for hostname, uid, and pwd\n",
    "\n",
    "# The following is copied from Lab 2b\n",
    "# dsn_driver = \"com.ibm.db2.jcc.DB2Driver\"    # NOTE: This line is from Lab2a and is not in the Db2 credentials info\n",
    "dsn_driver <- \"{IBM DB2 ODBC Driver}\"         # NOTE: This appears to be an alternative way to specify the ODBC driver\n",
    "dsn_database = \"BLUDB\"            # e.g. \"BLUDB\"      # all of the credentials info is under the section (\"dsn\":) near the bottom\n",
    "dsn_hostname = \"dashdb-entry-yp-dal10-01.services.dal.bluemix.net\"   # e.g. replace <yourhostname> with your hostname, e.g., \"Db2 Warehouse01.datascientstworkbench.com\"\n",
    "dsn_port = \"50000\"                # e.g. \"50000\" \n",
    "dsn_protocol = \"TCPIP\"            # i.e. \"TCPIP\"\n",
    "dsn_uid = \"dash100497\"              # e.g. replace <userid> with your userid\n",
    "dsn_pwd = \"8_dKQbPO_j0o\"            # e.g. replace <password> with your password"
   ]
  },
  {
   "cell_type": "markdown",
   "metadata": {},
   "source": [
    "<div align=\"left\">\n",
    "<a href=\"#tipc\" class=\"btn btn-default\" data-toggle=\"collapse\" >Click here to view/hide tip</a></div>\n",
    "<div id=\"tipc\" class=\"collapse\"><br>\n",
    "  \n",
    "```\n",
    "# Fill in the ...\n",
    "dsn_driver <- \"{IBM DB2 ... Driver}\"\n",
    "dsn_database <- \"...\"           \n",
    "dsn_hostname <- \"YOUR....DB.HOSTNAME\" \n",
    "dsn_port <- \"...\"                \n",
    "dsn_protocol <- \"...\"           \n",
    "dsn_uid <- \"YOUR.USERNAME\"        \n",
    "dsn_pwd <- \"YOUR.PASSWORD\"   \n",
    "```\n",
    "  \n",
    "</div>"
   ]
  },
  {
   "cell_type": "markdown",
   "metadata": {},
   "source": [
    "<div align=\"left\">\n",
    "<a href=\"#solc\" class=\"btn btn-default\" data-toggle=\"collapse\" >Click here to view/hide solution</a></div>\n",
    "<div id=\"solc\" class=\"collapse\"><br>\n",
    "  \n",
    "```\n",
    "#Enter the values for you database connection\n",
    "#Ensure you update the values for hostname, uid, and pwd\n",
    "dsn_driver <- \"{IBM DB2 ODBC Driver}\"\n",
    "dsn_database <- \"BLUDB\"            # e.g. \"BLUDB\"\n",
    "dsn_hostname <- \"YOUR.DASHDB.HOSTNAME\" # e.g.: \"awh-yp-small03.services.dal.bluemix.net\"\n",
    "dsn_port <- \"50000\"                # e.g. \"50000\" \n",
    "dsn_protocol <- \"TCPIP\"            # i.e. \"TCPIP\"\n",
    "dsn_uid <- \"YOUR.USERNAME\"         # e.g. \"dash104434\"\n",
    "dsn_pwd <- \"YOUR.PASSWORD\"         # e.g. \"7dBZ39xN6$o0JiX!m\"\n",
    "```\n",
    "  \n",
    "</div>"
   ]
  },
  {
   "cell_type": "markdown",
   "metadata": {},
   "source": [
    "<a id=\"ref4d\"></a>\n",
    "### d. Create a connection string and connect to the database"
   ]
  },
  {
   "cell_type": "code",
   "execution_count": 3,
   "metadata": {
    "collapsed": true
   },
   "outputs": [
    {
     "data": {
      "text/plain": [
       "RODBC Connection 1\n",
       "Details:\n",
       "  case=nochange\n",
       "  DRIVER={IBM DB2 ODBC DRIVER}\n",
       "  UID=dash100497\n",
       "  PWD=******\n",
       "  DATABASE=BLUDB\n",
       "  HOSTNAME=dashdb-entry-yp-dal10-01.services.dal.bluemix.net\n",
       "  PORT=50000\n",
       "  PROTOCOL=TCPIP"
      ]
     },
     "metadata": {},
     "output_type": "display_data"
    }
   ],
   "source": [
    "conn_path <- paste(\"DRIVER=\",dsn_driver,\n",
    "                  \";DATABASE=\",dsn_database,\n",
    "                  \";HOSTNAME=\",dsn_hostname,\n",
    "                  \";PORT=\",dsn_port,\n",
    "                  \";PROTOCOL=\",dsn_protocol,\n",
    "                  \";UID=\",dsn_uid,\n",
    "                  \";PWD=\",dsn_pwd,sep=\"\")\n",
    "conn <- odbcDriverConnect(conn_path)\n",
    "conn"
   ]
  },
  {
   "cell_type": "markdown",
   "metadata": {},
   "source": [
    "<div align=\"left\">\n",
    "<a href=\"#tipd\" class=\"btn btn-default\" data-toggle=\"collapse\" >Click here to view/hide tip</a></div>\n",
    "<div id=\"tipd\" class=\"collapse\"><br>\n",
    "  \n",
    "```\n",
    "# Fill in the ...\n",
    "conn_path <- paste(\"DRIVER=\",...,\n",
    "                  \";DATABASE=\",...,\n",
    "                  \";HOSTNAME=\",...,\n",
    "                  \";PORT=\",...,\n",
    "                  \";PROTOCOL=\",...,\n",
    "                  \";UID=\",...,\n",
    "                  \";PWD=\",dsn_...,...=\"\")\n",
    "conn <- odbcDriverConnect(conn_path)\n",
    "conn\n",
    "```\n",
    "  \n",
    "</div>"
   ]
  },
  {
   "cell_type": "markdown",
   "metadata": {},
   "source": [
    "<div align=\"left\">\n",
    "<a href=\"#sold\" class=\"btn btn-default\" data-toggle=\"collapse\" >Click here to view/hide solution</a></div>\n",
    "<div id=\"sold\" class=\"collapse\"><br>\n",
    "  \n",
    "```\n",
    "conn_path <- paste(\"DRIVER=\",dsn_driver,\n",
    "                  \";DATABASE=\",dsn_database,\n",
    "                  \";HOSTNAME=\",dsn_hostname,\n",
    "                  \";PORT=\",dsn_port,\n",
    "                  \";PROTOCOL=\",dsn_protocol,\n",
    "                  \";UID=\",dsn_uid,\n",
    "                  \";PWD=\",dsn_pwd,sep=\"\")\n",
    "conn <- odbcDriverConnect(conn_path)\n",
    "conn\n",
    "```\n",
    "  \n",
    "</div>"
   ]
  },
  {
   "cell_type": "markdown",
   "metadata": {},
   "source": [
    "<a id=\"ref4e\"></a>\n",
    "### e. View database and driver information"
   ]
  },
  {
   "cell_type": "code",
   "execution_count": 4,
   "metadata": {
    "collapsed": true
   },
   "outputs": [
    {
     "data": {
      "text/html": [
       "<strong>DBMS_Name:</strong> 'DB2/LINUXX8664'"
      ],
      "text/latex": [
       "\\textbf{DBMS\\textbackslash{}\\_Name:} 'DB2/LINUXX8664'"
      ],
      "text/markdown": [
       "**DBMS_Name:** 'DB2/LINUXX8664'"
      ],
      "text/plain": [
       "       DBMS_Name \n",
       "\"DB2/LINUXX8664\" "
      ]
     },
     "metadata": {},
     "output_type": "display_data"
    },
    {
     "data": {
      "text/html": [
       "<strong>DBMS_Ver:</strong> '11.01.0009'"
      ],
      "text/latex": [
       "\\textbf{DBMS\\textbackslash{}\\_Ver:} '11.01.0009'"
      ],
      "text/markdown": [
       "**DBMS_Ver:** '11.01.0009'"
      ],
      "text/plain": [
       "    DBMS_Ver \n",
       "\"11.01.0009\" "
      ]
     },
     "metadata": {},
     "output_type": "display_data"
    },
    {
     "data": {
      "text/html": [
       "<strong>Driver_ODBC_Ver:</strong> '03.51'"
      ],
      "text/latex": [
       "\\textbf{Driver\\textbackslash{}\\_ODBC\\textbackslash{}\\_Ver:} '03.51'"
      ],
      "text/markdown": [
       "**Driver_ODBC_Ver:** '03.51'"
      ],
      "text/plain": [
       "Driver_ODBC_Ver \n",
       "        \"03.51\" "
      ]
     },
     "metadata": {},
     "output_type": "display_data"
    }
   ],
   "source": [
    "#View database and driver information\n",
    "sql.info <- sqlTypeInfo(conn)\n",
    "conn.info <- odbcGetInfo(conn)\n",
    "conn.info[\"DBMS_Name\"]\n",
    "conn.info[\"DBMS_Ver\"]\n",
    "conn.info[\"Driver_ODBC_Ver\"]"
   ]
  },
  {
   "cell_type": "markdown",
   "metadata": {},
   "source": [
    "<div align=\"left\">\n",
    "<a href=\"#tipe\" class=\"btn btn-default\" data-toggle=\"collapse\" >Click here to view/hide tip</a></div>\n",
    "<div id=\"tipe\" class=\"collapse\"><br>\n",
    "  \n",
    "```\n",
    "# Fill in the ...\n",
    "sql.... <- sql...(conn)\n",
    "conn.... <- odbc...(conn)\n",
    "conn....[\"..._Name\"]\n",
    "conn....[\"..._Ver\"]\n",
    "conn....[\"Driver_..._Ver\"]\n",
    "conn\n",
    "```\n",
    "  \n",
    "</div>"
   ]
  },
  {
   "cell_type": "markdown",
   "metadata": {},
   "source": [
    "<div align=\"left\">\n",
    "<a href=\"#sole\" class=\"btn btn-default\" data-toggle=\"collapse\" >Click here to view/hide solution</a></div>\n",
    "<div id=\"sole\" class=\"collapse\"><br>\n",
    "  \n",
    "```\n",
    "#View database and driver information\n",
    "sql.info <- sqlTypeInfo(conn)\n",
    "conn.info <- odbcGetInfo(conn)\n",
    "conn.info[\"DBMS_Name\"]\n",
    "conn.info[\"DBMS_Ver\"]\n",
    "conn.info[\"Driver_ODBC_Ver\"]\n",
    "```\n",
    "  \n",
    "</div>"
   ]
  },
  {
   "cell_type": "markdown",
   "metadata": {},
   "source": [
    "<a id=\"ref4f\"></a>\n",
    "### f. Create the tables\n",
    "\n",
    "You will need to *remove* the BOARD and SCHOOL tables in case they already exist."
   ]
  },
  {
   "cell_type": "code",
   "execution_count": 5,
   "metadata": {
    "collapsed": false
   },
   "outputs": [
    {
     "name": "stdout",
     "output_type": "stream",
     "text": [
      "Table:  DASH107657 . BOARD  does not exist\n",
      "Table:  DASH107657 . SCHOOL  does not exist\n"
     ]
    }
   ],
   "source": [
    "myschema <- \"DASH107657\"\n",
    "tables <- c(\"BOARD\", \"SCHOOL\")\n",
    "\n",
    "    for (table in tables){  \n",
    "      # Drop School table if it already exists\n",
    "      out <- sqlTables(conn, tableType = \"TABLE\", schema = myschema, tableName =table)\n",
    "      if (nrow(out)>0) {\n",
    "        err <- sqlDrop (conn, paste(myschema,\".\",table,sep=\"\"), errors=FALSE)  \n",
    "        if (err==-1){\n",
    "          cat(\"An error has occurred.\\n\")\n",
    "          err.msg <- odbcGetErrMsg(conn)\n",
    "          for (error in err.msg) {\n",
    "            cat(error,\"\\n\")\n",
    "          }\n",
    "        } else {\n",
    "          cat (\"Table: \",  myschema,\".\",table,\" was dropped\\n\")\n",
    "        }\n",
    "      } else {\n",
    "          cat (\"Table: \",  myschema,\".\",table,\" does not exist\\n\")\n",
    "      }\n",
    "    }"
   ]
  },
  {
   "cell_type": "markdown",
   "metadata": {},
   "source": [
    "<div align=\"left\">\n",
    "<a href=\"#tipf1\" class=\"btn btn-default\" data-toggle=\"collapse\" >Click here to view/hide tip</a></div>\n",
    "<div id=\"tipf1\" class=\"collapse\"><br>\n",
    "  \n",
    "```\n",
    "myschema <- \"...\"\n",
    "tables <- c(\"...\", \"...L\")\n",
    "    \n",
    "    for (table in ...){  \n",
    "      # Drop ... table if it already exists\n",
    "      out <- sql...(conn, table... = \"...\", schema = my..., ...Name =table)\n",
    "      if (nrow(...)>0) {\n",
    "        err <- sql... (conn, paste(my...,\".\",...,...=\"\"), errors=...)  \n",
    "        if (err==-1){\n",
    "          ...(\"An error has occurred.\\n\")\n",
    "          err.... <- odbc...Msg(conn)\n",
    "          for (error in ....msg) {\n",
    "            cat(...,\"\\n\")\n",
    "          }\n",
    "        } else {\n",
    "          cat (\"...: \",  my...,\".\",table,\" was ...\\n\")\n",
    "        }\n",
    "      } else {\n",
    "          cat (\"...: \",  my...,\".\",table,\" does not ...\\n\")\n",
    "      }\n",
    "    }\n",
    "```\n",
    "  \n",
    "</div>"
   ]
  },
  {
   "cell_type": "markdown",
   "metadata": {},
   "source": [
    "<div align=\"left\">\n",
    "<a href=\"#solf1\" class=\"btn btn-default\" data-toggle=\"collapse\" >Click here to view/hide solution</a></div>\n",
    "<div id=\"solf1\" class=\"collapse\"><br>\n",
    "  \n",
    "```\n",
    "myschema <- \"DASH107657\"\n",
    "tables <- c(\"BOARD\", \"SCHOOL\")\n",
    "    \n",
    "    for (table in tables){  \n",
    "      # Drop School table if it already exists\n",
    "      out <- sqlTables(conn, tableType = \"TABLE\", schema = myschema, tableName =table)\n",
    "      if (nrow(out)>0) {\n",
    "        err <- sqlDrop (conn, paste(myschema,\".\",table,sep=\"\"), errors=FALSE)  \n",
    "        if (err==-1){\n",
    "          cat(\"An error has occurred.\\n\")\n",
    "          err.msg <- odbcGetErrMsg(conn)\n",
    "          for (error in err.msg) {\n",
    "            cat(error,\"\\n\")\n",
    "          }\n",
    "        } else {\n",
    "          cat (\"Table: \",  myschema,\".\",table,\" was dropped\\n\")\n",
    "        }\n",
    "      } else {\n",
    "          cat (\"Table: \",  myschema,\".\",table,\" does not exist\\n\")\n",
    "      }\n",
    "    }\n",
    "```\n",
    "  \n",
    "</div>"
   ]
  },
  {
   "cell_type": "markdown",
   "metadata": {},
   "source": [
    "Let’s create the BOARD table in the database."
   ]
  },
  {
   "cell_type": "code",
   "execution_count": 6,
   "metadata": {
    "collapsed": true
   },
   "outputs": [],
   "source": [
    "df1 <- sqlQuery(conn, \"CREATE TABLE BOARD (\n",
    "                            B_ID CHAR(6) NOT NULL, \n",
    "                            B_NAME VARCHAR(75) NOT NULL, \n",
    "                            TYPE VARCHAR(50) NOT NULL, \n",
    "                            LANGUAGE VARCHAR(50), \n",
    "                            PRIMARY KEY (B_ID))\", \n",
    "                errors=FALSE)"
   ]
  },
  {
   "cell_type": "markdown",
   "metadata": {},
   "source": [
    "<div align=\"left\">\n",
    "<a href=\"#tipf2\" class=\"btn btn-default\" data-toggle=\"collapse\" >Click here to view/hide tip</a></div>\n",
    "<div id=\"tipf2\" class=\"collapse\"><br>\n",
    "  \n",
    "```\n",
    "# Fill in the ...\n",
    "df1 <- sql...(conn, \"CREATE ... BOARD (\n",
    "                            B_ID ...(6) NOT ..., \n",
    "                            B_NAME ...(75) NOT ..., \n",
    "                            TYPE ...(50) NOT ..., \n",
    "                            LANGUAGE ...(50), \n",
    "                            ... KEY (B_ID))\", \n",
    "                ...=FALSE)\n",
    "```\n",
    "  \n",
    "</div>"
   ]
  },
  {
   "cell_type": "markdown",
   "metadata": {},
   "source": [
    "<div align=\"left\">\n",
    "<a href=\"#solf2\" class=\"btn btn-default\" data-toggle=\"collapse\" >Click here to view/hide solution</a></div>\n",
    "<div id=\"solf2\" class=\"collapse\"><br>\n",
    "  \n",
    "```\n",
    "df1 <- sqlQuery(conn, \"CREATE TABLE BOARD (\n",
    "                            B_ID CHAR(6) NOT NULL, \n",
    "                            B_NAME VARCHAR(75) NOT NULL, \n",
    "                            TYPE VARCHAR(50) NOT NULL, \n",
    "                            LANGUAGE VARCHAR(50), \n",
    "                            PRIMARY KEY (B_ID))\", \n",
    "                errors=FALSE)\n",
    "```\n",
    "  \n",
    "</div>"
   ]
  },
  {
   "cell_type": "markdown",
   "metadata": {},
   "source": [
    "Check if successful"
   ]
  },
  {
   "cell_type": "code",
   "execution_count": 7,
   "metadata": {
    "collapsed": true
   },
   "outputs": [
    {
     "name": "stdout",
     "output_type": "stream",
     "text": [
      "Table was created successfully.\n"
     ]
    }
   ],
   "source": [
    "if (df1 == -1){\n",
    "  cat (\"An error has occurred.\\n\")\n",
    "  msg <- odbcGetErrMsg(conn)\n",
    "  print (msg)\n",
    "} else {\n",
    "  cat (\"Table was created successfully.\\n\")\n",
    "}"
   ]
  },
  {
   "cell_type": "markdown",
   "metadata": {},
   "source": [
    "<div align=\"left\">\n",
    "<a href=\"#tipf3\" class=\"btn btn-default\" data-toggle=\"collapse\" >Click here to view/hide tip</a></div>\n",
    "<div id=\"tipf3\" class=\"collapse\"><br>\n",
    "  \n",
    "```\n",
    "# Fill in the ...\n",
    "if (... == -1){\n",
    "  cat (\"An ... has occurred.\\n\")\n",
    "  msg <- odbc...Msg(conn)\n",
    "  print (...)\n",
    "} else {\n",
    "  cat (\"Table was ... ....\\n\")\n",
    "}\n",
    "```\n",
    "  \n",
    "</div>"
   ]
  },
  {
   "cell_type": "markdown",
   "metadata": {},
   "source": [
    "<div align=\"left\">\n",
    "<a href=\"#solf3\" class=\"btn btn-default\" data-toggle=\"collapse\" >Click here to view/hide solution</a></div>\n",
    "<div id=\"solf3\" class=\"collapse\"><br>\n",
    "  \n",
    "```\n",
    "if (df1 == -1){\n",
    "  cat (\"An error has occurred.\\n\")\n",
    "  msg <- odbcGetErrMsg(conn)\n",
    "  print (msg)\n",
    "} else {\n",
    "  cat (\"Table was created successfully.\\n\")\n",
    "}\n",
    "```\n",
    "  \n",
    "</div>"
   ]
  },
  {
   "cell_type": "markdown",
   "metadata": {},
   "source": [
    "Now let’s create the SCHOOL table."
   ]
  },
  {
   "cell_type": "code",
   "execution_count": 8,
   "metadata": {
    "collapsed": true
   },
   "outputs": [],
   "source": [
    "df2 <- sqlQuery(conn, \"CREATE TABLE SCHOOL (\n",
    "                  B_ID CHAR(6) NOT NULL, \n",
    "                  S_ID CHAR(6) NOT NULL, \n",
    "                  S_NAME VARCHAR(50), \n",
    "                  LEVEL VARCHAR(70), \n",
    "                  ENROLLMENT INTEGER WITH DEFAULT 10,\n",
    "                  PRIMARY KEY (B_ID, S_ID))\", errors=FALSE)"
   ]
  },
  {
   "cell_type": "markdown",
   "metadata": {},
   "source": [
    "<div align=\"left\">\n",
    "<a href=\"#tipf4\" class=\"btn btn-default\" data-toggle=\"collapse\" >Click here to view/hide tip</a></div>\n",
    "<div id=\"tipf4\" class=\"collapse\"><br>\n",
    "  \n",
    "```\n",
    "# Fill in the ...\n",
    "df2 <- sql...(conn, \"CREATE ... SCHOOL (\n",
    "                  B_ID ...(6) NOT NULL, \n",
    "                  S_ID ...(6) NOT NULL, \n",
    "                  S_NAME ...(50), \n",
    "                  LEVEL ...(70), \n",
    "                  ENROLLMENT ... WITH ... 10,\n",
    "                  PRIMARY ... (B_ID, S_ID))\", ...=FALSE)\n",
    "```\n",
    "  \n",
    "</div>"
   ]
  },
  {
   "cell_type": "markdown",
   "metadata": {},
   "source": [
    "<div align=\"left\">\n",
    "<a href=\"#solf4\" class=\"btn btn-default\" data-toggle=\"collapse\" >Click here to view/hide solution</a></div>\n",
    "<div id=\"solf4\" class=\"collapse\"><br>\n",
    "  \n",
    "```\n",
    "df2 <- sqlQuery(conn, \"CREATE TABLE SCHOOL (\n",
    "                  B_ID CHAR(6) NOT NULL, \n",
    "                  S_ID CHAR(6) NOT NULL, \n",
    "                  S_NAME VARCHAR(50), \n",
    "                  LEVEL VARCHAR(70), \n",
    "                  ENROLLMENT INTEGER WITH DEFAULT 10,\n",
    "                  PRIMARY KEY (B_ID, S_ID))\", errors=FALSE)\n",
    "```\n",
    "  \n",
    "</div>"
   ]
  },
  {
   "cell_type": "markdown",
   "metadata": {},
   "source": [
    "Check if successful."
   ]
  },
  {
   "cell_type": "code",
   "execution_count": 9,
   "metadata": {
    "collapsed": true
   },
   "outputs": [
    {
     "name": "stdout",
     "output_type": "stream",
     "text": [
      "Table was created successfully.\n"
     ]
    }
   ],
   "source": [
    "if (df1 == -1){\n",
    "  cat (\"An error has occurred.\\n\")\n",
    "  msg <- odbcGetErrMsg(conn)\n",
    "  print (msg)\n",
    "} else {\n",
    "  cat (\"Table was created successfully.\\n\")\n",
    "}\n"
   ]
  },
  {
   "cell_type": "markdown",
   "metadata": {},
   "source": [
    "<div align=\"left\">\n",
    "<a href=\"#tipf5\" class=\"btn btn-default\" data-toggle=\"collapse\" >Click here to view/hide tip</a></div>\n",
    "<div id=\"tipf5\" class=\"collapse\"><br>\n",
    "  \n",
    "```\n",
    "# Fill in the ...\n",
    "if (... == -1){\n",
    "  cat (\"An ... has occurred.\\n\")\n",
    "  msg <- odbc...Msg(conn)\n",
    "  print (...)\n",
    "} else {\n",
    "  cat (\"Table was ... ....\\n\")\n",
    "}\n",
    "```\n",
    "  \n",
    "</div>"
   ]
  },
  {
   "cell_type": "markdown",
   "metadata": {},
   "source": [
    "<div align=\"left\">\n",
    "<a href=\"#solf5\" class=\"btn btn-default\" data-toggle=\"collapse\" >Click here to view/hide solution</a></div>\n",
    "<div id=\"solf5\" class=\"collapse\"><br>\n",
    "  \n",
    "```\n",
    "if (df1 == -1){\n",
    "  cat (\"An error has occurred.\\n\")\n",
    "  msg <- odbcGetErrMsg(conn)\n",
    "  print (msg)\n",
    "} else {\n",
    "  cat (\"Table was created successfully.\\n\")\n",
    "}\n",
    "```\n",
    "  \n",
    "</div>"
   ]
  },
  {
   "cell_type": "markdown",
   "metadata": {},
   "source": [
    "<a id=\"ref4g\"></a>\n",
    "### g. Load the data into the database"
   ]
  },
  {
   "cell_type": "markdown",
   "metadata": {},
   "source": [
    "Create the dataframe from the database data."
   ]
  },
  {
   "cell_type": "code",
   "execution_count": 10,
   "metadata": {
    "collapsed": true
   },
   "outputs": [
    {
     "data": {
      "text/html": [
       "0"
      ],
      "text/latex": [
       "0"
      ],
      "text/markdown": [
       "0"
      ],
      "text/plain": [
       "[1] 0"
      ]
     },
     "metadata": {},
     "output_type": "display_data"
    },
    {
     "data": {
      "text/html": [],
      "text/latex": [],
      "text/markdown": [],
      "text/plain": [
       "character(0)"
      ]
     },
     "metadata": {},
     "output_type": "display_data"
    }
   ],
   "source": [
    "tab.frame <- sqlTables(conn, schema=myschema)\n",
    "nrow(tab.frame)\n",
    "tab.frame$TABLE_NAME"
   ]
  },
  {
   "cell_type": "markdown",
   "metadata": {},
   "source": [
    "<div align=\"left\">\n",
    "<a href=\"#tipg1\" class=\"btn btn-default\" data-toggle=\"collapse\" >Click here to view/hide tip</a></div>\n",
    "<div id=\"tipg1\" class=\"collapse\"><br>\n",
    "  \n",
    "```\n",
    "# Fill in the ...\n",
    "tab.... <- sql...(conn, ...=myschema)\n",
    "n...(tab....)\n",
    "tab....$..._NAME\n",
    "```\n",
    "  \n",
    "</div>"
   ]
  },
  {
   "cell_type": "markdown",
   "metadata": {},
   "source": [
    "<div align=\"left\">\n",
    "<a href=\"#solg1\" class=\"btn btn-default\" data-toggle=\"collapse\" >Click here to view/hide solution</a></div>\n",
    "<div id=\"solg1\" class=\"collapse\"><br>\n",
    "  \n",
    "```\n",
    "tab.frame <- sqlTables(conn, schema=myschema)\n",
    "nrow(tab.frame)\n",
    "tab.frame$TABLE_NAME\n",
    "```\n",
    "  \n",
    "</div>"
   ]
  },
  {
   "cell_type": "markdown",
   "metadata": {},
   "source": [
    "Print columns 4, 6, 7, and 18."
   ]
  },
  {
   "cell_type": "code",
   "execution_count": 11,
   "metadata": {
    "collapsed": true
   },
   "outputs": [
    {
     "name": "stdout",
     "output_type": "stream",
     "text": [
      "\n",
      "Column info for table BOARD :\n",
      " COLUMN_NAME TYPE_NAME COLUMN_SIZE IS_NULLABLE\n",
      "        B_ID      CHAR           6          NO\n",
      "      B_NAME   VARCHAR          75          NO\n",
      "        TYPE   VARCHAR          50          NO\n",
      "    LANGUAGE   VARCHAR          50         YES\n",
      "\n",
      "Column info for table SCHOOL :\n",
      " COLUMN_NAME TYPE_NAME COLUMN_SIZE IS_NULLABLE\n",
      "        B_ID      CHAR           6          NO\n",
      "        S_ID      CHAR           6          NO\n",
      "      S_NAME   VARCHAR          50         YES\n",
      "       LEVEL   VARCHAR          70         YES\n",
      "  ENROLLMENT   INTEGER          10         YES\n"
     ]
    }
   ],
   "source": [
    "# Read the board.csv file\n",
    "for (table in tables){  \n",
    "        cat (\"\\nColumn info for table\", table, \":\\n\")\n",
    "        col.detail <- sqlColumns(conn, table)\n",
    "        print(col.detail[c(4,6,7,18)], row.names=FALSE)\n",
    "}"
   ]
  },
  {
   "cell_type": "markdown",
   "metadata": {},
   "source": [
    "<div align=\"left\">\n",
    "<a href=\"#tig2\" class=\"btn btn-default\" data-toggle=\"collapse\" >Click here to view/hide tip</a></div>\n",
    "<div id=\"tig2\" class=\"collapse\"><br>\n",
    "  \n",
    "```\n",
    "# Fill in the ...\n",
    "for (table in ...){  \n",
    "        cat (\"\\n... info for table\", ..., \":\\n\")\n",
    "        col.detail <- sqlColumns(conn, ...)\n",
    "        print(col....[c(4,6,7,18)], row....=FALSE)\n",
    "}\n",
    "```\n",
    "  \n",
    "</div>"
   ]
  },
  {
   "cell_type": "markdown",
   "metadata": {},
   "source": [
    "<div align=\"left\">\n",
    "<a href=\"#solg2\" class=\"btn btn-default\" data-toggle=\"collapse\" >Click here to view/hide solution</a></div>\n",
    "<div id=\"solg2\" class=\"collapse\"><br>\n",
    "  \n",
    "```\n",
    "for (table in tables){  \n",
    "        cat (\"\\nColumn info for table\", table, \":\\n\")\n",
    "        col.detail <- sqlColumns(conn, table)\n",
    "        print(col.detail[c(4,6,7,18)], row.names=FALSE)\n",
    "}\n",
    "```\n",
    "  \n",
    "</div>"
   ]
  },
  {
   "cell_type": "markdown",
   "metadata": {},
   "source": [
    "Load the data from the board.csv into the BOARD dataframe."
   ]
  },
  {
   "cell_type": "code",
   "execution_count": 12,
   "metadata": {
    "collapsed": true
   },
   "outputs": [],
   "source": [
    "boarddf <- read.csv(\"/resources/data/samples/osb/board.csv\", header = FALSE)"
   ]
  },
  {
   "cell_type": "markdown",
   "metadata": {},
   "source": [
    "<div align=\"left\">\n",
    "<a href=\"#tipg3\" class=\"btn btn-default\" data-toggle=\"collapse\" >Click here to view/hide tip</a></div>\n",
    "<div id=\"tipg3\" class=\"collapse\"><br>\n",
    "  \n",
    "```\n",
    "# Fill in the ...\n",
    "board... <- ....csv(\"/resources/.../samples/.../board.csv\", header = ...)\n",
    "```\n",
    "  \n",
    "</div>"
   ]
  },
  {
   "cell_type": "markdown",
   "metadata": {},
   "source": [
    "<div align=\"left\">\n",
    "<a href=\"#solg3\" class=\"btn btn-default\" data-toggle=\"collapse\" >Click here to view/hide solution</a></div>\n",
    "<div id=\"solg3\" class=\"collapse\"><br>\n",
    "  \n",
    "```\n",
    "boarddf <- read.csv(\"/resources/data/samples/osb/board.csv\", header = FALSE)\n",
    "```\n",
    "  \n",
    "</div>"
   ]
  },
  {
   "cell_type": "markdown",
   "metadata": {},
   "source": [
    "Display initial data from the BOARD dataframe."
   ]
  },
  {
   "cell_type": "code",
   "execution_count": 13,
   "metadata": {
    "collapsed": true
   },
   "outputs": [
    {
     "data": {
      "text/html": [
       "<table>\n",
       "<thead><tr><th scope=col>V1</th><th scope=col>V2</th><th scope=col>V3</th><th scope=col>V4</th></tr></thead>\n",
       "<tbody>\n",
       "\t<tr><td>B28010                      </td><td>Algoma DSB                  </td><td>Public                      </td><td>English                     </td></tr>\n",
       "\t<tr><td>B67202                      </td><td>Algonquin and Lakeshore CDSB</td><td>Roman Catholic              </td><td>English                     </td></tr>\n",
       "\t<tr><td>B66010                      </td><td>Avon Maitland DSB           </td><td>Public                      </td><td>English                     </td></tr>\n",
       "\t<tr><td>B66001                      </td><td>Bluewater DSB               </td><td>Public                      </td><td>English                     </td></tr>\n",
       "\t<tr><td>B67164                      </td><td>Brant Haldimand Norfolk CDSB</td><td>Roman Catholic              </td><td>English                     </td></tr>\n",
       "\t<tr><td>B67008                      </td><td>Bruce-Grey CDSB             </td><td>Roman Catholic              </td><td>English                     </td></tr>\n",
       "</tbody>\n",
       "</table>\n"
      ],
      "text/latex": [
       "\\begin{tabular}{r|llll}\n",
       " V1 & V2 & V3 & V4\\\\\n",
       "\\hline\n",
       "\t B28010                       & Algoma DSB                   & Public                       & English                     \\\\\n",
       "\t B67202                       & Algonquin and Lakeshore CDSB & Roman Catholic               & English                     \\\\\n",
       "\t B66010                       & Avon Maitland DSB            & Public                       & English                     \\\\\n",
       "\t B66001                       & Bluewater DSB                & Public                       & English                     \\\\\n",
       "\t B67164                       & Brant Haldimand Norfolk CDSB & Roman Catholic               & English                     \\\\\n",
       "\t B67008                       & Bruce-Grey CDSB              & Roman Catholic               & English                     \\\\\n",
       "\\end{tabular}\n"
      ],
      "text/markdown": [
       "\n",
       "V1 | V2 | V3 | V4 | \n",
       "|---|---|---|---|---|---|\n",
       "| B28010                       | Algoma DSB                   | Public                       | English                      | \n",
       "| B67202                       | Algonquin and Lakeshore CDSB | Roman Catholic               | English                      | \n",
       "| B66010                       | Avon Maitland DSB            | Public                       | English                      | \n",
       "| B66001                       | Bluewater DSB                | Public                       | English                      | \n",
       "| B67164                       | Brant Haldimand Norfolk CDSB | Roman Catholic               | English                      | \n",
       "| B67008                       | Bruce-Grey CDSB              | Roman Catholic               | English                      | \n",
       "\n",
       "\n"
      ],
      "text/plain": [
       "  V1     V2                           V3             V4     \n",
       "1 B28010 Algoma DSB                   Public         English\n",
       "2 B67202 Algonquin and Lakeshore CDSB Roman Catholic English\n",
       "3 B66010 Avon Maitland DSB            Public         English\n",
       "4 B66001 Bluewater DSB                Public         English\n",
       "5 B67164 Brant Haldimand Norfolk CDSB Roman Catholic English\n",
       "6 B67008 Bruce-Grey CDSB              Roman Catholic English"
      ]
     },
     "metadata": {},
     "output_type": "display_data"
    }
   ],
   "source": [
    "head(boarddf)"
   ]
  },
  {
   "cell_type": "markdown",
   "metadata": {},
   "source": [
    "<div align=\"left\">\n",
    "<a href=\"#tipg4\" class=\"btn btn-default\" data-toggle=\"collapse\" >Click here to view/hide tip</a></div>\n",
    "<div id=\"tipg4\" class=\"collapse\"><br>\n",
    "  \n",
    "```\n",
    "# Fill in the ...\n",
    "...(board...)\n",
    "```\n",
    "  \n",
    "</div>"
   ]
  },
  {
   "cell_type": "markdown",
   "metadata": {},
   "source": [
    "<div align=\"left\">\n",
    "<a href=\"#solg4\" class=\"btn btn-default\" data-toggle=\"collapse\" >Click here to view/hide solution</a></div>\n",
    "<div id=\"solg4\" class=\"collapse\"><br>\n",
    "  \n",
    "```\n",
    "head(boarddf)\n",
    "```\n",
    "  \n",
    "</div>"
   ]
  },
  {
   "cell_type": "markdown",
   "metadata": {},
   "source": [
    "<a id=\"ref4h\"></a>\n",
    "### h. Fetch data from the database\n",
    "\n",
    "Fetch the BOARD data."
   ]
  },
  {
   "cell_type": "code",
   "execution_count": 14,
   "metadata": {
    "collapsed": true
   },
   "outputs": [],
   "source": [
    "sqlSave(conn, boarddf, \"BOARD\", append=TRUE, fast=FALSE, rownames=FALSE, colnames=FALSE)"
   ]
  },
  {
   "cell_type": "markdown",
   "metadata": {},
   "source": [
    "<div align=\"left\">\n",
    "<a href=\"#tipg5\" class=\"btn btn-default\" data-toggle=\"collapse\" >Click here to view/hide tip</a></div>\n",
    "<div id=\"tipg5\" class=\"collapse\"><br>\n",
    "  \n",
    "```\n",
    "# Fill in the ...\n",
    "sql...(conn, ...df, \"BOARD\", ...=TRUE, ...=FALSE, row...=FALSE, col...=FALSE)\n",
    "```\n",
    "  \n",
    "</div>"
   ]
  },
  {
   "cell_type": "markdown",
   "metadata": {},
   "source": [
    "<div align=\"left\">\n",
    "<a href=\"#solg5\" class=\"btn btn-default\" data-toggle=\"collapse\" >Click here to view/hide solution</a></div>\n",
    "<div id=\"solg5\" class=\"collapse\"><br>\n",
    "  \n",
    "```\n",
    "sqlSave(conn, boarddf, \"BOARD\", append=TRUE, fast=FALSE, rownames=FALSE, colnames=FALSE)\n",
    "```\n",
    "  \n",
    "</div>"
   ]
  },
  {
   "cell_type": "markdown",
   "metadata": {},
   "source": [
    "Fetch the data from the BOARD database and display some rows from the end of the data."
   ]
  },
  {
   "cell_type": "code",
   "execution_count": 15,
   "metadata": {
    "collapsed": true
   },
   "outputs": [
    {
     "data": {
      "text/html": [
       "<table>\n",
       "<thead><tr><th></th><th scope=col>B_ID</th><th scope=col>B_NAME</th><th scope=col>TYPE</th><th scope=col>LANGUAGE</th></tr></thead>\n",
       "<tbody>\n",
       "\t<tr><th scope=row>71</th><td>B67148             </td><td>Waterloo CDSB      </td><td>Roman Catholic     </td><td>English            </td></tr>\n",
       "\t<tr><th scope=row>72</th><td>B66176             </td><td>Waterloo Region DSB</td><td>Public             </td><td>English            </td></tr>\n",
       "\t<tr><th scope=row>73</th><td>B67130             </td><td>Wellington CDSB    </td><td>Roman Catholic     </td><td>English            </td></tr>\n",
       "\t<tr><th scope=row>74</th><td>B67024             </td><td>Windsor-Essex CDSB </td><td>Roman Catholic     </td><td>English            </td></tr>\n",
       "\t<tr><th scope=row>75</th><td>B67075             </td><td>York CDSB          </td><td>Roman Catholic     </td><td>English            </td></tr>\n",
       "\t<tr><th scope=row>76</th><td>B66095             </td><td>York Region DSB    </td><td>Public             </td><td>English            </td></tr>\n",
       "</tbody>\n",
       "</table>\n"
      ],
      "text/latex": [
       "\\begin{tabular}{r|llll}\n",
       "  & B\\_ID & B\\_NAME & TYPE & LANGUAGE\\\\\n",
       "\\hline\n",
       "\t71 & B67148              & Waterloo CDSB       & Roman Catholic      & English            \\\\\n",
       "\t72 & B66176              & Waterloo Region DSB & Public              & English            \\\\\n",
       "\t73 & B67130              & Wellington CDSB     & Roman Catholic      & English            \\\\\n",
       "\t74 & B67024              & Windsor-Essex CDSB  & Roman Catholic      & English            \\\\\n",
       "\t75 & B67075              & York CDSB           & Roman Catholic      & English            \\\\\n",
       "\t76 & B66095              & York Region DSB     & Public              & English            \\\\\n",
       "\\end{tabular}\n"
      ],
      "text/markdown": [
       "\n",
       "| <!--/--> | B_ID | B_NAME | TYPE | LANGUAGE | \n",
       "|---|---|---|---|---|---|\n",
       "| 71 | B67148              | Waterloo CDSB       | Roman Catholic      | English             | \n",
       "| 72 | B66176              | Waterloo Region DSB | Public              | English             | \n",
       "| 73 | B67130              | Wellington CDSB     | Roman Catholic      | English             | \n",
       "| 74 | B67024              | Windsor-Essex CDSB  | Roman Catholic      | English             | \n",
       "| 75 | B67075              | York CDSB           | Roman Catholic      | English             | \n",
       "| 76 | B66095              | York Region DSB     | Public              | English             | \n",
       "\n",
       "\n"
      ],
      "text/plain": [
       "   B_ID   B_NAME              TYPE           LANGUAGE\n",
       "71 B67148 Waterloo CDSB       Roman Catholic English \n",
       "72 B66176 Waterloo Region DSB Public         English \n",
       "73 B67130 Wellington CDSB     Roman Catholic English \n",
       "74 B67024 Windsor-Essex CDSB  Roman Catholic English \n",
       "75 B67075 York CDSB           Roman Catholic English \n",
       "76 B66095 York Region DSB     Public         English "
      ]
     },
     "metadata": {},
     "output_type": "display_data"
    }
   ],
   "source": [
    "boarddb <- sqlFetch(conn, \"BOARD\")\n",
    "tail(boarddb)"
   ]
  },
  {
   "cell_type": "markdown",
   "metadata": {},
   "source": [
    "<div align=\"left\">\n",
    "<a href=\"#tipg6\" class=\"btn btn-default\" data-toggle=\"collapse\" >Click here to view/hide tip</a></div>\n",
    "<div id=\"tipg6\" class=\"collapse\"><br>\n",
    "  \n",
    "```\n",
    "# Fill in the ...\n",
    "...db <- sql...(conn, \"...\")\n",
    "...(board...)\n",
    "```\n",
    "  \n",
    "</div>"
   ]
  },
  {
   "cell_type": "markdown",
   "metadata": {},
   "source": [
    "<div align=\"left\">\n",
    "<a href=\"#solg6\" class=\"btn btn-default\" data-toggle=\"collapse\" >Click here to view/hide solution</a></div>\n",
    "<div id=\"solg6\" class=\"collapse\"><br>\n",
    "  \n",
    "```\n",
    "boarddb <- sqlFetch(conn, \"BOARD\")\n",
    "tail(boarddb)\n",
    "```\n",
    "  \n",
    "</div>"
   ]
  },
  {
   "cell_type": "markdown",
   "metadata": {},
   "source": [
    "Create the dataframe from the SCHOOL data."
   ]
  },
  {
   "cell_type": "code",
   "execution_count": 16,
   "metadata": {
    "collapsed": true
   },
   "outputs": [],
   "source": [
    "schooldf <- read.csv(\"/resources/data/samples/osb/school.csv\", header = FALSE)"
   ]
  },
  {
   "cell_type": "markdown",
   "metadata": {},
   "source": [
    "<div align=\"left\">\n",
    "<a href=\"#tipg7\" class=\"btn btn-default\" data-toggle=\"collapse\" >Click here to view/hide tip</a></div>\n",
    "<div id=\"tipg7\" class=\"collapse\"><br>\n",
    "  \n",
    "```\n",
    "# Fill in the ...\n",
    "school... <- ....csv(\"/resources/.../samples/osb/....csv\", ... = FALSE)\n",
    "```\n",
    "  \n",
    "</div>"
   ]
  },
  {
   "cell_type": "markdown",
   "metadata": {},
   "source": [
    "<div align=\"left\">\n",
    "<a href=\"#solg7\" class=\"btn btn-default\" data-toggle=\"collapse\" >Click here to view/hide solution</a></div>\n",
    "<div id=\"solg7\" class=\"collapse\"><br>\n",
    "  \n",
    "```\n",
    "schooldf <- read.csv(\"/resources/data/samples/osb/school.csv\", header = FALSE)\n",
    "```\n",
    "  \n",
    "</div>"
   ]
  },
  {
   "cell_type": "markdown",
   "metadata": {},
   "source": [
    "Display some records from the beginning of the dataframe."
   ]
  },
  {
   "cell_type": "code",
   "execution_count": 17,
   "metadata": {
    "collapsed": true
   },
   "outputs": [
    {
     "data": {
      "text/html": [
       "<table>\n",
       "<thead><tr><th scope=col>V1</th><th scope=col>V2</th><th scope=col>V3</th><th scope=col>V4</th><th scope=col>V5</th></tr></thead>\n",
       "<tbody>\n",
       "\t<tr><td>B28010                        </td><td>891240                        </td><td>Alexander Henry HS            </td><td>Secondary                     </td><td>145                           </td></tr>\n",
       "\t<tr><td>B28010                        </td><td>902344                        </td><td>Algoma Education Connection SS</td><td>Secondary                     </td><td>385                           </td></tr>\n",
       "\t<tr><td>B28010                        </td><td> 19186                        </td><td>Anna McCrea PS                </td><td>Elementary                    </td><td>177                           </td></tr>\n",
       "\t<tr><td>B28010                        </td><td> 67679                        </td><td>Arthur Henderson PS           </td><td>Elementary                    </td><td>104                           </td></tr>\n",
       "\t<tr><td>B28010                        </td><td> 28932                        </td><td>Aweres PS                     </td><td>Elementary                    </td><td> 95                           </td></tr>\n",
       "\t<tr><td>B28010                        </td><td> 43362                        </td><td>Ben R McMullin PS             </td><td>Elementary                    </td><td>241                           </td></tr>\n",
       "</tbody>\n",
       "</table>\n"
      ],
      "text/latex": [
       "\\begin{tabular}{r|lllll}\n",
       " V1 & V2 & V3 & V4 & V5\\\\\n",
       "\\hline\n",
       "\t B28010                         & 891240                         & Alexander Henry HS             & Secondary                      & 145                           \\\\\n",
       "\t B28010                         & 902344                         & Algoma Education Connection SS & Secondary                      & 385                           \\\\\n",
       "\t B28010                         &  19186                         & Anna McCrea PS                 & Elementary                     & 177                           \\\\\n",
       "\t B28010                         &  67679                         & Arthur Henderson PS            & Elementary                     & 104                           \\\\\n",
       "\t B28010                         &  28932                         & Aweres PS                      & Elementary                     &  95                           \\\\\n",
       "\t B28010                         &  43362                         & Ben R McMullin PS              & Elementary                     & 241                           \\\\\n",
       "\\end{tabular}\n"
      ],
      "text/markdown": [
       "\n",
       "V1 | V2 | V3 | V4 | V5 | \n",
       "|---|---|---|---|---|---|\n",
       "| B28010                         | 891240                         | Alexander Henry HS             | Secondary                      | 145                            | \n",
       "| B28010                         | 902344                         | Algoma Education Connection SS | Secondary                      | 385                            | \n",
       "| B28010                         |  19186                         | Anna McCrea PS                 | Elementary                     | 177                            | \n",
       "| B28010                         |  67679                         | Arthur Henderson PS            | Elementary                     | 104                            | \n",
       "| B28010                         |  28932                         | Aweres PS                      | Elementary                     |  95                            | \n",
       "| B28010                         |  43362                         | Ben R McMullin PS              | Elementary                     | 241                            | \n",
       "\n",
       "\n"
      ],
      "text/plain": [
       "  V1     V2     V3                             V4         V5 \n",
       "1 B28010 891240 Alexander Henry HS             Secondary  145\n",
       "2 B28010 902344 Algoma Education Connection SS Secondary  385\n",
       "3 B28010  19186 Anna McCrea PS                 Elementary 177\n",
       "4 B28010  67679 Arthur Henderson PS            Elementary 104\n",
       "5 B28010  28932 Aweres PS                      Elementary  95\n",
       "6 B28010  43362 Ben R McMullin PS              Elementary 241"
      ]
     },
     "metadata": {},
     "output_type": "display_data"
    }
   ],
   "source": [
    "head(schooldf)"
   ]
  },
  {
   "cell_type": "markdown",
   "metadata": {},
   "source": [
    "<div align=\"left\">\n",
    "<a href=\"#tipg8\" class=\"btn btn-default\" data-toggle=\"collapse\" >Click here to view/hide tip</a></div>\n",
    "<div id=\"tipg8\" class=\"collapse\"><br>\n",
    "  \n",
    "```\n",
    "# Fill in the ...\n",
    "...(school...)\n",
    "```\n",
    "  \n",
    "</div>"
   ]
  },
  {
   "cell_type": "markdown",
   "metadata": {},
   "source": [
    "<div align=\"left\">\n",
    "<a href=\"#solg8\" class=\"btn btn-default\" data-toggle=\"collapse\" >Click here to view/hide solution</a></div>\n",
    "<div id=\"solg8\" class=\"collapse\"><br>\n",
    "  \n",
    "```\n",
    "head(schooldf)\n",
    "```\n",
    "  \n",
    "</div>"
   ]
  },
  {
   "cell_type": "markdown",
   "metadata": {},
   "source": [
    "Display some records from the end of the dataframe."
   ]
  },
  {
   "cell_type": "code",
   "execution_count": 18,
   "metadata": {
    "collapsed": true
   },
   "outputs": [
    {
     "data": {
      "text/html": [
       "<table>\n",
       "<thead><tr><th></th><th scope=col>V1</th><th scope=col>V2</th><th scope=col>V3</th><th scope=col>V4</th><th scope=col>V5</th></tr></thead>\n",
       "<tbody>\n",
       "\t<tr><th scope=row>4894</th><td>B66095            </td><td>634565            </td><td>Windham Ridge PS  </td><td>Elementary        </td><td>846               </td></tr>\n",
       "\t<tr><th scope=row>4895</th><td>B66095            </td><td>549380            </td><td>Wismer PS         </td><td>Elementary        </td><td>511               </td></tr>\n",
       "\t<tr><th scope=row>4896</th><td>B66095            </td><td>954292            </td><td>Woodbridge College</td><td>Secondary         </td><td>985               </td></tr>\n",
       "\t<tr><th scope=row>4897</th><td>B66095            </td><td>617318            </td><td>Woodbridge PS     </td><td>Elementary        </td><td>504               </td></tr>\n",
       "\t<tr><th scope=row>4898</th><td>B66095            </td><td>618896            </td><td>Woodland PS       </td><td>Elementary        </td><td>442               </td></tr>\n",
       "\t<tr><th scope=row>4899</th><td>B66095            </td><td>624101            </td><td>Yorkhill E S      </td><td>Elementary        </td><td>293               </td></tr>\n",
       "</tbody>\n",
       "</table>\n"
      ],
      "text/latex": [
       "\\begin{tabular}{r|lllll}\n",
       "  & V1 & V2 & V3 & V4 & V5\\\\\n",
       "\\hline\n",
       "\t4894 & B66095             & 634565             & Windham Ridge PS   & Elementary         & 846               \\\\\n",
       "\t4895 & B66095             & 549380             & Wismer PS          & Elementary         & 511               \\\\\n",
       "\t4896 & B66095             & 954292             & Woodbridge College & Secondary          & 985               \\\\\n",
       "\t4897 & B66095             & 617318             & Woodbridge PS      & Elementary         & 504               \\\\\n",
       "\t4898 & B66095             & 618896             & Woodland PS        & Elementary         & 442               \\\\\n",
       "\t4899 & B66095             & 624101             & Yorkhill E S       & Elementary         & 293               \\\\\n",
       "\\end{tabular}\n"
      ],
      "text/markdown": [
       "\n",
       "| <!--/--> | V1 | V2 | V3 | V4 | V5 | \n",
       "|---|---|---|---|---|---|\n",
       "| 4894 | B66095             | 634565             | Windham Ridge PS   | Elementary         | 846                | \n",
       "| 4895 | B66095             | 549380             | Wismer PS          | Elementary         | 511                | \n",
       "| 4896 | B66095             | 954292             | Woodbridge College | Secondary          | 985                | \n",
       "| 4897 | B66095             | 617318             | Woodbridge PS      | Elementary         | 504                | \n",
       "| 4898 | B66095             | 618896             | Woodland PS        | Elementary         | 442                | \n",
       "| 4899 | B66095             | 624101             | Yorkhill E S       | Elementary         | 293                | \n",
       "\n",
       "\n"
      ],
      "text/plain": [
       "     V1     V2     V3                 V4         V5 \n",
       "4894 B66095 634565 Windham Ridge PS   Elementary 846\n",
       "4895 B66095 549380 Wismer PS          Elementary 511\n",
       "4896 B66095 954292 Woodbridge College Secondary  985\n",
       "4897 B66095 617318 Woodbridge PS      Elementary 504\n",
       "4898 B66095 618896 Woodland PS        Elementary 442\n",
       "4899 B66095 624101 Yorkhill E S       Elementary 293"
      ]
     },
     "metadata": {},
     "output_type": "display_data"
    }
   ],
   "source": [
    "tail(schooldf)"
   ]
  },
  {
   "cell_type": "markdown",
   "metadata": {},
   "source": [
    "<div align=\"left\">\n",
    "<a href=\"#tipg9\" class=\"btn btn-default\" data-toggle=\"collapse\" >Click here to view/hide tip</a></div>\n",
    "<div id=\"tipg9\" class=\"collapse\"><br>\n",
    "  \n",
    "```\n",
    "# Fill in the ...\n",
    "...(school...)\n",
    "```\n",
    "  \n",
    "</div>"
   ]
  },
  {
   "cell_type": "markdown",
   "metadata": {},
   "source": [
    "<div align=\"left\">\n",
    "<a href=\"#solg9\" class=\"btn btn-default\" data-toggle=\"collapse\" >Click here to view/hide solution</a></div>\n",
    "<div id=\"solg9\" class=\"collapse\"><br>\n",
    "  \n",
    "```\n",
    "tail(schooldf)\n",
    "```\n",
    "  \n",
    "</div>"
   ]
  },
  {
   "cell_type": "markdown",
   "metadata": {},
   "source": [
    "Create the dataframe from the school database."
   ]
  },
  {
   "cell_type": "code",
   "execution_count": 19,
   "metadata": {
    "collapsed": true
   },
   "outputs": [],
   "source": [
    "schooldf$V3 <- iconv(schooldf$V3, \"latin1\", \"ASCII//TRANSLIT\")"
   ]
  },
  {
   "cell_type": "markdown",
   "metadata": {},
   "source": [
    "<div align=\"left\">\n",
    "<a href=\"#tipg10\" class=\"btn btn-default\" data-toggle=\"collapse\" >Click here to view/hide tip</a></div>\n",
    "<div id=\"tipg10\" class=\"collapse\"><br>\n",
    "  \n",
    "```\n",
    "# Fill in the ...\n",
    "...df$V3 <- i...(...df$V3, \"latin1\", \"ASCII//TRANSLIT\")\n",
    "```\n",
    "  \n",
    "</div>"
   ]
  },
  {
   "cell_type": "markdown",
   "metadata": {},
   "source": [
    "<div align=\"left\">\n",
    "<a href=\"#solg10\" class=\"btn btn-default\" data-toggle=\"collapse\" >Click here to view/hide solution</a></div>\n",
    "<div id=\"solg10\" class=\"collapse\"><br>\n",
    "  \n",
    "```\n",
    "schooldf$V3 <- iconv(schooldf$V3, \"latin1\", \"ASCII//TRANSLIT\")\n",
    "```\n",
    "  \n",
    "</div>"
   ]
  },
  {
   "cell_type": "markdown",
   "metadata": {},
   "source": [
    "Copy the data from the database to the dataframe."
   ]
  },
  {
   "cell_type": "code",
   "execution_count": 20,
   "metadata": {
    "collapsed": true
   },
   "outputs": [],
   "source": [
    "# NOTE: This may take a long time because of the large size of the database\n",
    "# When there is lot of data to insert in the database it may be faster\n",
    "#   to use the native LOAD utility of the database instead of through R\n",
    "\n",
    "# NOTE: This took several minutes to finish running\n",
    "sqlSave(conn, schooldf, \"SCHOOL\", append=TRUE, fast=FALSE, rownames=FALSE, colnames=FALSE)"
   ]
  },
  {
   "cell_type": "markdown",
   "metadata": {},
   "source": [
    "<div align=\"left\">\n",
    "<a href=\"#tipg11\" class=\"btn btn-default\" data-toggle=\"collapse\" >Click here to view/hide tip</a></div>\n",
    "<div id=\"tipg11\" class=\"collapse\"><br>\n",
    "  \n",
    "```\n",
    "# Fill in the ...\n",
    "sql...(conn, school..., \"SCHOOL\", append=..., fast=..., row...=FALSE, col...=FALSE)\n",
    "```\n",
    "  \n",
    "</div>"
   ]
  },
  {
   "cell_type": "markdown",
   "metadata": {},
   "source": [
    "<div align=\"left\">\n",
    "<a href=\"#solg11\" class=\"btn btn-default\" data-toggle=\"collapse\" >Click here to view/hide solution</a></div>\n",
    "<div id=\"solg11\" class=\"collapse\"><br>\n",
    "  \n",
    "```\n",
    "#NOTE: This may take a long time because of the large size of the database\n",
    "#When there is lot of data to insert in the database it may be faster\n",
    "#  to use the native LOAD utility of the database instead of through R\n",
    "sqlSave(conn, schooldf, \"SCHOOL\", append=TRUE, fast=FALSE, rownames=FALSE, colnames=FALSE)\n",
    "```\n",
    "  \n",
    "</div>"
   ]
  },
  {
   "cell_type": "markdown",
   "metadata": {},
   "source": [
    "Get the data from the SCHOOL database."
   ]
  },
  {
   "cell_type": "code",
   "execution_count": 21,
   "metadata": {
    "collapsed": true
   },
   "outputs": [
    {
     "data": {
      "text/html": [
       "<table>\n",
       "<thead><tr><th></th><th scope=col>B_ID</th><th scope=col>S_ID</th><th scope=col>S_NAME</th><th scope=col>LEVEL</th><th scope=col>ENROLLMENT</th></tr></thead>\n",
       "<tbody>\n",
       "\t<tr><th scope=row>4894</th><td>B67040                     </td><td>697567                     </td><td>Christ the King Catholic S </td><td>Elementary                 </td><td>138                        </td></tr>\n",
       "\t<tr><th scope=row>4895</th><td>B67040                     </td><td>708003                     </td><td>Georges P Vanier Catholic S</td><td>Elementary                 </td><td>242                        </td></tr>\n",
       "\t<tr><th scope=row>4896</th><td>B67040                     </td><td>842249                     </td><td>Good Shepherd Catholic S   </td><td>Elementary                 </td><td>137                        </td></tr>\n",
       "\t<tr><th scope=row>4897</th><td>B67040                     </td><td>710970                     </td><td>Gregory A Hogan Catholic S </td><td>Elementary                 </td><td>292                        </td></tr>\n",
       "\t<tr><th scope=row>4898</th><td>B67040                     </td><td>715492                     </td><td>Holy Family Catholic S     </td><td>Elementary                 </td><td>262                        </td></tr>\n",
       "\t<tr><th scope=row>4899</th><td>B67040                     </td><td>719269                     </td><td>Holy Rosary Catholic S     </td><td>Elementary                 </td><td>122                        </td></tr>\n",
       "</tbody>\n",
       "</table>\n"
      ],
      "text/latex": [
       "\\begin{tabular}{r|lllll}\n",
       "  & B\\_ID & S\\_ID & S\\_NAME & LEVEL & ENROLLMENT\\\\\n",
       "\\hline\n",
       "\t4894 & B67040                      & 697567                      & Christ the King Catholic S  & Elementary                  & 138                        \\\\\n",
       "\t4895 & B67040                      & 708003                      & Georges P Vanier Catholic S & Elementary                  & 242                        \\\\\n",
       "\t4896 & B67040                      & 842249                      & Good Shepherd Catholic S    & Elementary                  & 137                        \\\\\n",
       "\t4897 & B67040                      & 710970                      & Gregory A Hogan Catholic S  & Elementary                  & 292                        \\\\\n",
       "\t4898 & B67040                      & 715492                      & Holy Family Catholic S      & Elementary                  & 262                        \\\\\n",
       "\t4899 & B67040                      & 719269                      & Holy Rosary Catholic S      & Elementary                  & 122                        \\\\\n",
       "\\end{tabular}\n"
      ],
      "text/markdown": [
       "\n",
       "| <!--/--> | B_ID | S_ID | S_NAME | LEVEL | ENROLLMENT | \n",
       "|---|---|---|---|---|---|\n",
       "| 4894 | B67040                      | 697567                      | Christ the King Catholic S  | Elementary                  | 138                         | \n",
       "| 4895 | B67040                      | 708003                      | Georges P Vanier Catholic S | Elementary                  | 242                         | \n",
       "| 4896 | B67040                      | 842249                      | Good Shepherd Catholic S    | Elementary                  | 137                         | \n",
       "| 4897 | B67040                      | 710970                      | Gregory A Hogan Catholic S  | Elementary                  | 292                         | \n",
       "| 4898 | B67040                      | 715492                      | Holy Family Catholic S      | Elementary                  | 262                         | \n",
       "| 4899 | B67040                      | 719269                      | Holy Rosary Catholic S      | Elementary                  | 122                         | \n",
       "\n",
       "\n"
      ],
      "text/plain": [
       "     B_ID   S_ID   S_NAME                      LEVEL      ENROLLMENT\n",
       "4894 B67040 697567 Christ the King Catholic S  Elementary 138       \n",
       "4895 B67040 708003 Georges P Vanier Catholic S Elementary 242       \n",
       "4896 B67040 842249 Good Shepherd Catholic S    Elementary 137       \n",
       "4897 B67040 710970 Gregory A Hogan Catholic S  Elementary 292       \n",
       "4898 B67040 715492 Holy Family Catholic S      Elementary 262       \n",
       "4899 B67040 719269 Holy Rosary Catholic S      Elementary 122       "
      ]
     },
     "metadata": {},
     "output_type": "display_data"
    }
   ],
   "source": [
    "schooldb <- sqlFetch(conn, \"SCHOOL\")\n",
    "tail(schooldb)"
   ]
  },
  {
   "cell_type": "markdown",
   "metadata": {},
   "source": [
    "<div align=\"left\">\n",
    "<a href=\"#tipg12\" class=\"btn btn-default\" data-toggle=\"collapse\" >Click here to view/hide tip</a></div>\n",
    "<div id=\"tipg12\" class=\"collapse\"><br>\n",
    "  \n",
    "```\n",
    "# Fill in the ...\n",
    "...db <- sql...(conn, \"...\")\n",
    "tail(...db)\n",
    "```\n",
    "  \n",
    "</div>"
   ]
  },
  {
   "cell_type": "markdown",
   "metadata": {},
   "source": [
    "<div align=\"left\">\n",
    "<a href=\"#solg12\" class=\"btn btn-default\" data-toggle=\"collapse\" >Click here to view/hide solution</a></div>\n",
    "<div id=\"solg12\" class=\"collapse\"><br>\n",
    "  \n",
    "```\n",
    "schooldb <- sqlFetch(conn, \"SCHOOL\")\n",
    "tail(schooldb)\n",
    "```\n",
    "  \n",
    "</div>"
   ]
  },
  {
   "cell_type": "markdown",
   "metadata": {},
   "source": [
    "<a id=\"ref4i\"></a>\n",
    "### i. Plot the data (using ggplot2)"
   ]
  },
  {
   "cell_type": "code",
   "execution_count": 22,
   "metadata": {
    "collapsed": true
   },
   "outputs": [],
   "source": [
    "#Load the ggplot2 library\n",
    "library(ggplot2);"
   ]
  },
  {
   "cell_type": "markdown",
   "metadata": {},
   "source": [
    "<div align=\"left\">\n",
    "<a href=\"#tipm1\" class=\"btn btn-default\" data-toggle=\"collapse\" >Click here to view/hide tip</a></div>\n",
    "<div id=\"tipm1\" class=\"collapse\"><br>\n",
    "  \n",
    "```\n",
    "# Fill in the ...\n",
    "...(gg...2);\n",
    "```\n",
    "  \n",
    "</div>"
   ]
  },
  {
   "cell_type": "markdown",
   "metadata": {},
   "source": [
    "<div align=\"left\">\n",
    "<a href=\"#solm1\" class=\"btn btn-default\" data-toggle=\"collapse\" >Click here to view/hide solution</a></div>\n",
    "<div id=\"solm1\" class=\"collapse\"><br>\n",
    "  \n",
    "```\n",
    "library(ggplot2);\n",
    "```\n",
    "  \n",
    "</div>"
   ]
  },
  {
   "cell_type": "markdown",
   "metadata": {},
   "source": [
    "Get the elementary school data from the database from both tables in descending sequence."
   ]
  },
  {
   "cell_type": "code",
   "execution_count": 23,
   "metadata": {
    "collapsed": true
   },
   "outputs": [],
   "source": [
    "elequery <- query <- paste(\"select s.enrollment as ENROLLMENT \n",
    "from school s, board b \n",
    "where b.b_name = 'Toronto DSB' and b.b_id=s.b_id \n",
    "and s.level = 'Elementary' \n",
    "order by enrollment desc\")"
   ]
  },
  {
   "cell_type": "markdown",
   "metadata": {},
   "source": [
    "<div align=\"left\">\n",
    "<a href=\"#tipm2\" class=\"btn btn-default\" data-toggle=\"collapse\" >Click here to view/hide tip</a></div>\n",
    "<div id=\"tipm2\" class=\"collapse\"><br>\n",
    "  \n",
    "```\n",
    "# Fill in the ...\n",
    "...query <- ... <- paste(\"... s.enrollment as ... \n",
    "from ... s, ... b \n",
    "where b.b_... = 'Toronto DSB' and b.b_id=s.... \n",
    "and ....level = 'Elementary' \n",
    "order by ... desc\")\n",
    "```\n",
    "  \n",
    "</div>"
   ]
  },
  {
   "cell_type": "markdown",
   "metadata": {},
   "source": [
    "<div align=\"left\">\n",
    "<a href=\"#solm2\" class=\"btn btn-default\" data-toggle=\"collapse\" >Click here to view/hide solution</a></div>\n",
    "<div id=\"solm2\" class=\"collapse\"><br>\n",
    "  \n",
    "```\n",
    "elequery <- query <- paste(\"select s.enrollment as ENROLLMENT \n",
    "from school s, board b \n",
    "where b.b_name = 'Toronto DSB' and b.b_id=s.b_id \n",
    "and s.level = 'Elementary' \n",
    "order by enrollment desc\")\n",
    "```\n",
    "  \n",
    "</div>"
   ]
  },
  {
   "cell_type": "markdown",
   "metadata": {},
   "source": [
    "create the elementary school dataframe."
   ]
  },
  {
   "cell_type": "code",
   "execution_count": 24,
   "metadata": {
    "collapsed": true
   },
   "outputs": [
    {
     "data": {
      "text/html": [
       "<ol class=list-inline>\n",
       "\t<li>476</li>\n",
       "\t<li>1</li>\n",
       "</ol>\n"
      ],
      "text/latex": [
       "\\begin{enumerate*}\n",
       "\\item 476\n",
       "\\item 1\n",
       "\\end{enumerate*}\n"
      ],
      "text/markdown": [
       "1. 476\n",
       "2. 1\n",
       "\n",
       "\n"
      ],
      "text/plain": [
       "[1] 476   1"
      ]
     },
     "metadata": {},
     "output_type": "display_data"
    }
   ],
   "source": [
    "eledf <- sqlQuery(conn, elequery)\n",
    "dim(eledf)"
   ]
  },
  {
   "cell_type": "markdown",
   "metadata": {},
   "source": [
    "<div align=\"left\">\n",
    "<a href=\"#tipm3\" class=\"btn btn-default\" data-toggle=\"collapse\" >Click here to view/hide tip</a></div>\n",
    "<div id=\"tipm3\" class=\"collapse\"><br>\n",
    "  \n",
    "```\n",
    "# Fill in the ...\n",
    "ele... <- sql...(conn, ...query)\n",
    "dim(...df)\n",
    "```\n",
    "  \n",
    "</div>"
   ]
  },
  {
   "cell_type": "markdown",
   "metadata": {},
   "source": [
    "<div align=\"left\">\n",
    "<a href=\"#solm3\" class=\"btn btn-default\" data-toggle=\"collapse\" >Click here to view/hide solution</a></div>\n",
    "<div id=\"solm3\" class=\"collapse\"><br>\n",
    "  \n",
    "```\n",
    "eledf <- sqlQuery(conn, elequery)\n",
    "dim(eledf)\n",
    "```\n",
    "  \n",
    "</div>"
   ]
  },
  {
   "cell_type": "markdown",
   "metadata": {},
   "source": [
    "Create a density plot of elementary school enrollments."
   ]
  },
  {
   "cell_type": "code",
   "execution_count": 25,
   "metadata": {
    "collapsed": true
   },
   "outputs": [
    {
     "data": {},
     "metadata": {},
     "output_type": "display_data"
    },
    {
     "data": {
      "image/png": "[encoded data removed]",
      "text/plain": [
       "plot without title"
      ]
     },
     "metadata": {},
     "output_type": "display_data",
     "source": "R display func"
    }
   ],
   "source": [
    "qplot(ENROLLMENT, data=eledf, geom=\"density\",  main=\"TDSB School Size - Elementary\")"
   ]
  },
  {
   "cell_type": "markdown",
   "metadata": {},
   "source": [
    "<div align=\"left\">\n",
    "<a href=\"#tipm4\" class=\"btn btn-default\" data-toggle=\"collapse\" >Click here to view/hide tip</a></div>\n",
    "<div id=\"tipm4\" class=\"collapse\"><br>\n",
    "  \n",
    "```\n",
    "# Fill in the ...\n",
    "q...(ENROLLMENT, ...=eledf, ...=\"density\",  ...=\"TDSB School Size - ...\")\n",
    "```\n",
    "  \n",
    "</div>"
   ]
  },
  {
   "cell_type": "markdown",
   "metadata": {},
   "source": [
    "<div align=\"left\">\n",
    "<a href=\"#solm4\" class=\"btn btn-default\" data-toggle=\"collapse\" >Click here to view/hide solution</a></div>\n",
    "<div id=\"solm4\" class=\"collapse\"><br>\n",
    "  \n",
    "```\n",
    "qplot(ENROLLMENT, data=eledf, geom=\"density\",  main=\"TDSB School Size - Elementary\")\n",
    "```\n",
    "  \n",
    "</div>"
   ]
  },
  {
   "cell_type": "markdown",
   "metadata": {},
   "source": [
    "Create the secondary school enrollments query in descending sequence."
   ]
  },
  {
   "cell_type": "code",
   "execution_count": 26,
   "metadata": {
    "collapsed": true
   },
   "outputs": [],
   "source": [
    "secquery <- paste(\"select s.enrollment as ENROLLMENT \n",
    "from school s, board b \n",
    "where b.b_name = 'Toronto DSB' and b.b_id=s.b_id \n",
    "and s.level = 'Secondary' \n",
    "order by enrollment desc\")"
   ]
  },
  {
   "cell_type": "markdown",
   "metadata": {},
   "source": [
    "<div align=\"left\">\n",
    "<a href=\"#tipm5\" class=\"btn btn-default\" data-toggle=\"collapse\" >Click here to view/hide tip</a></div>\n",
    "<div id=\"tipm5\" class=\"collapse\"><br>\n",
    "  \n",
    "```\n",
    "# Fill in the ...\n",
    "sec... <- paste(\"... s.enrollment as ... \n",
    "from ... s, board b \n",
    "where b.b_... = 'Toronto ...' and b.b_id=s.... \n",
    "and s.... = 'Secondary' \n",
    "order by ... desc\")\n",
    "```\n",
    "  \n",
    "</div>"
   ]
  },
  {
   "cell_type": "markdown",
   "metadata": {},
   "source": [
    "<div align=\"left\">\n",
    "<a href=\"#solm5\" class=\"btn btn-default\" data-toggle=\"collapse\" >Click here to view/hide solution</a></div>\n",
    "<div id=\"solm5\" class=\"collapse\"><br>\n",
    "  \n",
    "```\n",
    "secquery <- paste(\"select s.enrollment as ENROLLMENT \n",
    "from school s, board b \n",
    "where b.b_name = 'Toronto DSB' and b.b_id=s.b_id \n",
    "and s.level = 'Secondary' \n",
    "order by enrollment desc\")\n",
    "```\n",
    "  \n",
    "</div>"
   ]
  },
  {
   "cell_type": "markdown",
   "metadata": {},
   "source": [
    "Create the dataframe using the data in the database."
   ]
  },
  {
   "cell_type": "code",
   "execution_count": 27,
   "metadata": {
    "collapsed": true
   },
   "outputs": [],
   "source": [
    "secdf <- sqlQuery(conn, secquery)"
   ]
  },
  {
   "cell_type": "markdown",
   "metadata": {},
   "source": [
    "<div align=\"left\">\n",
    "<a href=\"#tipm6\" class=\"btn btn-default\" data-toggle=\"collapse\" >Click here to view/hide tip</a></div>\n",
    "<div id=\"tipm6\" class=\"collapse\"><br>\n",
    "  \n",
    "```\n",
    "# Fill in the ...\n",
    "secdf <- sql...(conn, sec...)\n",
    "```\n",
    "  \n",
    "</div>"
   ]
  },
  {
   "cell_type": "markdown",
   "metadata": {},
   "source": [
    "<div align=\"left\">\n",
    "<a href=\"#solm6\" class=\"btn btn-default\" data-toggle=\"collapse\" >Click here to view/hide solution</a></div>\n",
    "<div id=\"solm6\" class=\"collapse\"><br>\n",
    "  \n",
    "```\n",
    "secdf <- sqlQuery(conn, secquery)\n",
    "```\n",
    "  \n",
    "</div>"
   ]
  },
  {
   "cell_type": "markdown",
   "metadata": {},
   "source": [
    "Create a density plot of secondary school enrollments."
   ]
  },
  {
   "cell_type": "code",
   "execution_count": 28,
   "metadata": {
    "collapsed": true
   },
   "outputs": [
    {
     "name": "stderr",
     "output_type": "stream",
     "text": [
      "Warning message:\n",
      "“Removed 2 rows containing non-finite values (stat_density).”"
     ]
    },
    {
     "data": {},
     "metadata": {},
     "output_type": "display_data"
    },
    {
     "data": {
      "image/png": "[encoded data removed]",
      "text/plain": [
       "plot without title"
      ]
     },
     "metadata": {},
     "output_type": "display_data",
     "source": "R display func"
    }
   ],
   "source": [
    "qplot(ENROLLMENT, data=secdf, geom=\"density\", main=\"TDSB School Size - Secondary\")"
   ]
  },
  {
   "cell_type": "markdown",
   "metadata": {},
   "source": [
    "<div align=\"left\">\n",
    "<a href=\"#tipm7\" class=\"btn btn-default\" data-toggle=\"collapse\" >Click here to view/hide tip</a></div>\n",
    "<div id=\"tipm7\" class=\"collapse\"><br>\n",
    "  \n",
    "```\n",
    "# Fill in the ...\n",
    "q...(ENROLLMENT, ...=secdf, ...=\"density\", ...=\"TDSB School Size - ...\")\n",
    "```\n",
    "  \n",
    "</div>"
   ]
  },
  {
   "cell_type": "markdown",
   "metadata": {},
   "source": [
    "<div align=\"left\">\n",
    "<a href=\"#solm7\" class=\"btn btn-default\" data-toggle=\"collapse\" >Click here to view/hide solution</a></div>\n",
    "<div id=\"solm7\" class=\"collapse\"><br>\n",
    "  \n",
    "```\n",
    "qplot(ENROLLMENT, data=secdf, geom=\"density\", main=\"TDSB School Size - Secondary\")\n",
    "```\n",
    "  \n",
    "</div>"
   ]
  },
  {
   "cell_type": "markdown",
   "metadata": {},
   "source": [
    "Query the BOARD database for enrollments."
   ]
  },
  {
   "cell_type": "code",
   "execution_count": 29,
   "metadata": {
    "collapsed": true
   },
   "outputs": [],
   "source": [
    "denquery <- paste(\"select b.b_name, s.s_name, level as LEVEL, enrollment \n",
    " from board b, school s where b.b_id = s.b_id and b.b_name = 'Toronto DSB'\")"
   ]
  },
  {
   "cell_type": "markdown",
   "metadata": {},
   "source": [
    "<div align=\"left\">\n",
    "<a href=\"#tipm8\" class=\"btn btn-default\" data-toggle=\"collapse\" >Click here to view/hide tip</a></div>\n",
    "<div id=\"tipm8\" class=\"collapse\"><br>\n",
    "  \n",
    "```\n",
    "# Fill in the ...\n",
    "den... <- paste(\"select b.b_..., s.s_..., level as ..., ... \n",
    " from board b, ... s where b.... = s.b_id and b.b_... = 'Toronto DSB'\")\n",
    "```\n",
    "  \n",
    "</div>"
   ]
  },
  {
   "cell_type": "markdown",
   "metadata": {},
   "source": [
    "<div align=\"left\">\n",
    "<a href=\"#solm8\" class=\"btn btn-default\" data-toggle=\"collapse\" >Click here to view/hide solution</a></div>\n",
    "<div id=\"solm8\" class=\"collapse\"><br>\n",
    "  \n",
    "```\n",
    "denquery <- paste(\"select b.b_name, s.s_name, level as LEVEL, enrollment \n",
    " from board b, school s where b.b_id = s.b_id and b.b_name = 'Toronto DSB'\")\n",
    "```\n",
    "  \n",
    "</div>"
   ]
  },
  {
   "cell_type": "markdown",
   "metadata": {},
   "source": [
    "Query the database."
   ]
  },
  {
   "cell_type": "code",
   "execution_count": 30,
   "metadata": {
    "collapsed": true
   },
   "outputs": [],
   "source": [
    "dendf <- sqlQuery(conn, denquery)"
   ]
  },
  {
   "cell_type": "markdown",
   "metadata": {},
   "source": [
    "<div align=\"left\">\n",
    "<a href=\"#tipm9\" class=\"btn btn-default\" data-toggle=\"collapse\" >Click here to view/hide tip</a></div>\n",
    "<div id=\"tipm9\" class=\"collapse\"><br>\n",
    "  \n",
    "```\n",
    "# Fill in the ...\n",
    "d...f <- sql...(conn, den...)\n",
    "```\n",
    "  \n",
    "</div>"
   ]
  },
  {
   "cell_type": "markdown",
   "metadata": {},
   "source": [
    "<div align=\"left\">\n",
    "<a href=\"#solm9\" class=\"btn btn-default\" data-toggle=\"collapse\" >Click here to view/hide solution</a></div>\n",
    "<div id=\"solm9\" class=\"collapse\"><br>\n",
    "  \n",
    "```\n",
    "dendf <- sqlQuery(conn, denquery)\n",
    "```\n",
    "  \n",
    "</div>"
   ]
  },
  {
   "cell_type": "markdown",
   "metadata": {},
   "source": [
    "Create a box plot of enrollements in elementary and secondary schools in Toronto."
   ]
  },
  {
   "cell_type": "code",
   "execution_count": 31,
   "metadata": {
    "collapsed": true
   },
   "outputs": [
    {
     "data": {
      "image/png": "[encoded data removed]",
      "text/plain": [
       "Plot with title “Toronto DSB”"
      ]
     },
     "metadata": {},
     "output_type": "display_data",
     "source": "R display func"
    }
   ],
   "source": [
    "dendf$LEVEL <- as.factor(dendf$LEVEL)\n",
    "boxplot(ENROLLMENT ~ LEVEL, dendf, names =c(\"Secondary\",\"Elementary\"), main=\"Toronto DSB\")"
   ]
  },
  {
   "cell_type": "markdown",
   "metadata": {},
   "source": [
    "<div align=\"left\">\n",
    "<a href=\"#tipm10\" class=\"btn btn-default\" data-toggle=\"collapse\" >Click here to view/hide tip</a></div>\n",
    "<div id=\"tipm10\" class=\"collapse\"><br>\n",
    "  \n",
    "```\n",
    "# Fill in the ...\n",
    "d...f$LEVEL <- as....(d...f$LEVEL)\n",
    "box...(ENROLLMENT ~ ..., d...f, names =c(\"...\",\"...\"), ...=\"Toronto DSB\")\n",
    "```\n",
    "  \n",
    "</div>"
   ]
  },
  {
   "cell_type": "markdown",
   "metadata": {},
   "source": [
    "<div align=\"left\">\n",
    "<a href=\"#solm10\" class=\"btn btn-default\" data-toggle=\"collapse\" >Click here to view/hide solution</a></div>\n",
    "<div id=\"solm10\" class=\"collapse\"><br>\n",
    "  \n",
    "```\n",
    "dendf$LEVEL <- as.factor(dendf$LEVEL)\n",
    "boxplot(ENROLLMENT ~ LEVEL, dendf, names =c(\"Secondary\",\"Elementary\"), main=\"Toronto DSB\")\n",
    "```\n",
    "  \n",
    "</div>"
   ]
  },
  {
   "cell_type": "markdown",
   "metadata": {},
   "source": [
    "<a id=\"ref4j\"></a>\n",
    "### j. Dis-connect\n",
    "\n",
    "Finally, as a best practice we should close the database connection once we're done with it."
   ]
  },
  {
   "cell_type": "code",
   "execution_count": 32,
   "metadata": {
    "collapsed": true
   },
   "outputs": [],
   "source": [
    "close(conn)"
   ]
  },
  {
   "cell_type": "markdown",
   "metadata": {},
   "source": [
    "<div align=\"left\">\n",
    "<a href=\"#tipi\" class=\"btn btn-default\" data-toggle=\"collapse\" >Click here to view/hide tip</a></div>\n",
    "<div id=\"tipi\" class=\"collapse\"><br>\n",
    "  \n",
    "```\n",
    "# Fill in the ...\n",
    "...(conn)\n",
    "```\n",
    "  \n",
    "</div>"
   ]
  },
  {
   "cell_type": "markdown",
   "metadata": {},
   "source": [
    "<div align=\"left\">\n",
    "<a href=\"#soli\" class=\"btn btn-default\" data-toggle=\"collapse\" >Click here to view/hide solution</a></div>\n",
    "<div id=\"soli\" class=\"collapse\"><br>\n",
    "  \n",
    "```\n",
    "close(conn)\n",
    "```\n",
    "  \n",
    "</div>"
   ]
  },
  {
   "cell_type": "markdown",
   "metadata": {},
   "source": [
    "<a id=\"ref4o\"></a>\n",
    "### Summary"
   ]
  },
  {
   "cell_type": "markdown",
   "metadata": {},
   "source": [
    "In this lab you created and queried database objects from an R notebook in Jupyter, and you used ggplot2 to plot the data using R libraries.\n",
    "\n",
    "This notebook is part of the free course on Cognitive Class called *Using R with Databases*. If you accessed this notebook outside the course, you can take this free self-paced course, online by going to: https://cognitiveclass.ai/courses/using-r-with-databases/"
   ]
  },
  {
   "cell_type": "markdown",
   "metadata": {},
   "source": [
    "<hr>\n",
    "<h3>Tell your friends that you're taking the Using R with Database course!</h3>\n",
    "\n",
    "<script type=\"text/javascript\" async src=\"https://platform.twitter.com/widgets.js\"></script>\n",
    "\n",
    "<a href=https://twitter.com/intent/tweet?url=https%3A%2F%2Fgoo.gl%2Fb6kJAj&via=bigdatau&text=I%20can%20now%20program%20in%20R!%20I%20finished%20this%20R%20course%20on%20IBM%27s%20Big%20Data%20University!&hashtags=rstats%2Cdatascience&related=bigdatau>\n",
    "<textarea name=\"textarea1\" disabled=\"disabled\" style=\"resize:none;border-color:#00aced;color:#808080;height:80px\" cols=75>Just learnt to create and query database objects from R from #jupyter notebooks Thanks @cognitiveclass</textarea></a>\n",
    "<p></p><a class=\"twitter-share-button\" data-size=large href=https://twitter.com/intent/tweet?url=https%3A%2F%2Fgoo.gl%2Fb6kJAj&via=bigdatau&text=I%20can%20now%20program%20in%20R!%20I%20finished%20this%20R%20course%20on%20IBM%27s%20Big%20Data%20University!&hashtags=rstats%2Cdatascience&related=bigdatau></a>\n",
    "\n",
    "<a href=https://twitter.com/intent/tweet?text=Just+learnt+to+create+and+query+database+objects+from+R+from+%23jupyter+notebooks+Thanks+%40BigDataU>Tweet Now!</a>"
   ]
  },
  {
   "cell_type": "markdown",
   "metadata": {},
   "source": [
    "#### Thank you for completing this module on creating and querying database objects from R."
   ]
  },
  {
   "cell_type": "markdown",
   "metadata": {},
   "source": [
    "<hr>\n",
    "### About the Authors:  \n",
    "Hi! It's [Rav Ahuja](https://ca.linkedin.com/in/rav-ahuja-8aa4562a) and [Agatha Colangelo](https://www.linkedin.com/in/agathacolangelo), the authors of this notebook. We hope you found this Lab on creating and querying database objects from R interesting and easy to do! There's lots more to learn about R and Relational Databases but you're well on your way. Feel free to connect with us if you have any questions.\n",
    "<hr>"
   ]
  },
  {
   "cell_type": "markdown",
   "metadata": {},
   "source": [
    "Copyright &copy; 2017 [Cognitive Class](https://cognitiveclass.ai/?utm_source=bducopyrightlink&utm_medium=dswb&utm_campaign=bdu). This notebook and its source code are released under the terms of the [MIT License](https://cognitiveclass.ai/mit-license/)."
   ]
  }
 ],
 "metadata": {
  "kernelspec": {
   "display_name": "R",
   "language": "R",
   "name": "ir"
  },
  "language_info": {
   "codemirror_mode": "r",
   "file_extension": ".r",
   "mimetype": "text/x-r-source",
   "name": "R",
   "pygments_lexer": "r",
   "version": "3.5.1"
  },
  "widgets": {
   "state": {},
   "version": "1.1.2"
  }
 },
 "nbformat": 4,
 "nbformat_minor": 2
}
