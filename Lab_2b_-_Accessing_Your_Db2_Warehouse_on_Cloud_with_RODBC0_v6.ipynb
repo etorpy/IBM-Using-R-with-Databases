{
 "cells": [
  {
   "cell_type": "markdown",
   "metadata": {},
   "source": [
    "<a href=\"https://www.bigdatauniversity.com\"><img src = \"https://ibm.box.com/shared/static/n4369i3g2fkg38kendjtcbw6hzm4vel5.png\" width = 100, align = \"center\"></a>\n",
    "\n",
    "<h1 align=center><font size = 5>Lab 2b: Accessing Your Db2 Warehouse on Cloud Database with RODBC</h1>"
   ]
  },
  {
   "cell_type": "markdown",
   "metadata": {},
   "source": [
    "### Welcome!\n",
    "\n",
    "In this hands-on lab we will examine how to populate a relational database with source data. To accomplish this we will review some data modeling techniques, create tables and load the data.\n",
    "\n",
    "We will then examine how to query the data from R using SQL and the RODBC interface."
   ]
  },
  {
   "cell_type": "markdown",
   "metadata": {},
   "source": [
    "<div class=\"alert alert-block alert-info\" style=\"margin-top: 20px\">\n",
    "<h3>Tasks</h3>\n",
    "<ol><ol><ol>\n",
    "<li><a href=\"#ref6a\">Pre-requisites</a></li>\n",
    "<li><a href=\"#ref6b\">Create an R notebook</a></li>\n",
    "<li><a href=\"#ref6c\">Load RODBC</a></li>\n",
    "<li><a href=\"#ref6d\">Connection information</a></li>\n",
    "<li><a href=\"#ref6e\">Create a database connection</a></li>\n",
    "<li><a href=\"#ref6f\">Connection Attributes</a></li>\n",
    "<li><a href=\"#ref6g\">Connection Metadata</a></li>\n",
    "<li><a href=\"#ref6h\">Supported Datatypes</a></li>\n",
    "<li><a href=\"#ref6i\">List of Tables</a></li>\n",
    "<li><a href=\"#ref6j\">Columns in a Table</a></li>\n",
    "<li><a href=\"#ref6k\">Fetch Data</a></li>\n",
    "<li><a href=\"#ref6l\">Analyze</a></li>\n",
    "<li><a href=\"#ref6m\">Plot</a></li>\n",
    "<li><a href=\"#ref6n\">Dis-connect</a></li>\n",
    "</ol></ol></ol>\n",
    "<br>\n",
    "Estimated Time Needed: <strong>25 min</strong>\n",
    "</div>"
   ]
  },
  {
   "cell_type": "markdown",
   "metadata": {},
   "source": [
    "<a id=\"ref6a\"></a>\n",
    "<h3>a. Pre-requisites</h3>"
   ]
  },
  {
   "cell_type": "markdown",
   "metadata": {
    "collapsed": true
   },
   "source": [
    "In this lab we will use Jupyter Notebooks within CC Labs to access data in a Db2 Warehouse on Cloud database (previously called dashDB) using RODBC.  Information about these services is provided in the lab setup."
   ]
  },
  {
   "cell_type": "markdown",
   "metadata": {},
   "source": [
    "<a id=\"ref6b\"></a>\n",
    "<h3>b. Create an R notebook</h3>"
   ]
  },
  {
   "cell_type": "markdown",
   "metadata": {},
   "source": [
    "Create a new Jupyter notebook in CC Labs. Set it to use R (using the dropdown in the top right corner)."
   ]
  },
  {
   "cell_type": "markdown",
   "metadata": {},
   "source": [
    "<img src=https://ibm.box.com/shared/static/vb8qv1tyq3b40sq4urgyfk9fwi2i8rpm.png width=50%>"
   ]
  },
  {
   "cell_type": "markdown",
   "metadata": {},
   "source": [
    "<a id=\"ref6c\"></a>\n",
    "<h3>c. Load RODBC</h3>"
   ]
  },
  {
   "cell_type": "markdown",
   "metadata": {},
   "source": [
    "The RODBC package and the ODBC driver for Db2 Warehouse are pre-installed on your workbench. Let’s create a new cell and load the RODBC package by typing the following command and executing it (Ctrl+Enter):"
   ]
  },
  {
   "cell_type": "code",
   "execution_count": null,
   "metadata": {
    "collapsed": true
   },
   "outputs": [],
   "source": []
  },
  {
   "cell_type": "markdown",
   "metadata": {},
   "source": [
    "<div align=\"left\">\n",
    "<a href=\"#tipc\" class=\"btn btn-default\" data-toggle=\"collapse\" >Click here to view/hide tip</a></div>\n",
    "<div id=\"tipc\" class=\"collapse\"><br>\n",
    "  \n",
    "```\n",
    "# Fill in the ...\n",
    "library(...);\n",
    "```\n",
    "  \n",
    "</div>"
   ]
  },
  {
   "cell_type": "markdown",
   "metadata": {},
   "source": [
    "<div align=\"left\">\n",
    "<a href=\"#solc\" class=\"btn btn-default\" data-toggle=\"collapse\" >Click here to view/hide solution</a></div>\n",
    "<div id=\"solc\" class=\"collapse\"><br>\n",
    "  \n",
    "```\n",
    "library(RODBC);\n",
    "```\n",
    "  \n",
    "</div>"
   ]
  },
  {
   "cell_type": "markdown",
   "metadata": {},
   "source": [
    "<a id=\"ref6d\"></a>\n",
    "<h3>d. Connection information</h3>"
   ]
  },
  {
   "cell_type": "markdown",
   "metadata": {},
   "source": [
    "In a new cell enter the connection details for your instance of Db2 Warehouse and run it. Remember to update the values for hostname, userid, and password. "
   ]
  },
  {
   "cell_type": "code",
   "execution_count": null,
   "metadata": {
    "collapsed": true
   },
   "outputs": [],
   "source": [
    "#Enter the values for you database connection"
   ]
  },
  {
   "cell_type": "markdown",
   "metadata": {},
   "source": [
    "<div align=\"left\">\n",
    "<a href=\"#tipd\"class=\"btn btn-default\" data-toggle=\"collapse\" >Click here to view/hide tip</a></div>\n",
    "<div id=\"tipd\" class=\"collapse\"><br>\n",
    "  \n",
    "```\n",
    "# Fill in the <...>\n",
    "dsn_driver <- \"{...}\"\n",
    "dsn_database <- \"...\"            \n",
    "dsn_hostname <- \"<Enter Hostname>\" \n",
    "dsn_port <- \"...\"                \n",
    "dsn_protocol <- \"...\"            \n",
    "dsn_uid <- \"<Enter UserID>\"        \n",
    "dsn_pwd <- \"<Enter Password>\"     \n",
    "```\n",
    "  \n",
    "</div>"
   ]
  },
  {
   "cell_type": "markdown",
   "metadata": {},
   "source": [
    "<div align=\"left\">\n",
    "<a href=\"#sold\" class=\"btn btn-default\" data-toggle=\"collapse\" >Click here to view/hide solution</a></div>\n",
    "<div id=\"sold\" class=\"collapse\"><br>\n",
    "  \n",
    "```\n",
    "dsn_driver <- \"{IBM DB2 ODBC Driver}\"\n",
    "dsn_database <- \"BLUDB\"            # e.g. \"BLUDB\"\n",
    "dsn_hostname <- \"<Enter Hostname>\" # e.g.: \"awh-yp-small03.services.dal.bluemix.net\"\n",
    "dsn_port <- \"50000\"                # e.g. \"50000\" \n",
    "dsn_protocol <- \"TCPIP\"            # i.e. \"TCPIP\"\n",
    "dsn_uid <- \"<Enter UserID>\"        # e.g. \"dash104434\"\n",
    "dsn_pwd <- \"<Enter Password>\"      # e.g. \"7dBZ39xN6$o0JiX!m\"  \n",
    "```\n",
    "  \n",
    "</div>"
   ]
  },
  {
   "cell_type": "markdown",
   "metadata": {},
   "source": [
    "<a id=\"ref6e\"></a>\n",
    "<h3>e. Create a database connection</h3>"
   ]
  },
  {
   "cell_type": "markdown",
   "metadata": {},
   "source": [
    "Create a connection string and connect:"
   ]
  },
  {
   "cell_type": "code",
   "execution_count": null,
   "metadata": {
    "collapsed": false
   },
   "outputs": [],
   "source": []
  },
  {
   "cell_type": "markdown",
   "metadata": {},
   "source": [
    "<div align=\"left\">\n",
    "<a href=\"#tipe\" class=\"btn btn-default\" data-toggle=\"collapse\" >Click here to view/hide tip</a></div>\n",
    "<div id=\"tipe\" class=\"collapse\"><br>\n",
    "  \n",
    "```\n",
    "# Fill in the ...\n",
    "conn_path <- paste(\"DRIVER=\",...\n",
    "                  \";DATABASE=\",...\n",
    "                  \";HOSTNAME=\",...\n",
    "                  \";PORT=\",...\n",
    "                  \";PROTOCOL=\",...\n",
    "                  \";UID=\",...\n",
    "                  \";PWD=\",...\")\n",
    "conn <- ...(...)\n",
    "...\n",
    "```\n",
    "  \n",
    "</div>"
   ]
  },
  {
   "cell_type": "markdown",
   "metadata": {},
   "source": [
    "<div align=\"left\">\n",
    "<a href=\"#sole\" class=\"btn btn-default\" data-toggle=\"collapse\" >Click here to view/hide solution</a></div>\n",
    "<div id=\"sole\" class=\"collapse\"><br>\n",
    "  \n",
    "```\n",
    "conn_path <- paste(\"DRIVER=\",dsn_driver,\n",
    "                  \";DATABASE=\",dsn_database,\n",
    "                  \";HOSTNAME=\",dsn_hostname,\n",
    "                  \";PORT=\",dsn_port,\n",
    "                  \";PROTOCOL=\",dsn_protocol,\n",
    "                  \";UID=\",dsn_uid,\n",
    "                  \";PWD=\",dsn_pwd,sep=\"\")\n",
    "conn <- odbcDriverConnect(conn_path)\n",
    "conn\n",
    "```\n",
    "  \n",
    "</div>"
   ]
  },
  {
   "cell_type": "markdown",
   "metadata": {},
   "source": [
    "<a id=\"ref6f\"></a>\n",
    "<h3>f. Connection Attributes</h3>"
   ]
  },
  {
   "cell_type": "markdown",
   "metadata": {},
   "source": [
    "Let’s examine the connection attributes:"
   ]
  },
  {
   "cell_type": "code",
   "execution_count": null,
   "metadata": {
    "collapsed": true
   },
   "outputs": [],
   "source": []
  },
  {
   "cell_type": "markdown",
   "metadata": {},
   "source": [
    "<div align=\"left\">\n",
    "<a href=\"#tipf\" class=\"btn btn-default\" data-toggle=\"collapse\" >Click here to view/hide tip</a></div>\n",
    "<div id=\"tipf\" class=\"collapse\"><br>\n",
    "  \n",
    "```\n",
    "# Fill in the ...\n",
    "...(conn)\n",
    "```\n",
    "  \n",
    "</div>"
   ]
  },
  {
   "cell_type": "markdown",
   "metadata": {},
   "source": [
    "<div align=\"left\">\n",
    "<a href=\"#solf\" class=\"btn btn-default\" data-toggle=\"collapse\" >Click here to view/hide solution</a></div>\n",
    "<div id=\"solf\" class=\"collapse\"><br>\n",
    "  \n",
    "```\n",
    "attributes(conn)\n",
    "```\n",
    "  \n",
    "</div>"
   ]
  },
  {
   "cell_type": "markdown",
   "metadata": {},
   "source": [
    "<a id=\"ref6g\"></a>\n",
    "<h3>g. Connection Metadata</h3>"
   ]
  },
  {
   "cell_type": "markdown",
   "metadata": {},
   "source": [
    "And review the connection metadata using  the odbcGetInfo() function:"
   ]
  },
  {
   "cell_type": "code",
   "execution_count": null,
   "metadata": {
    "collapsed": true
   },
   "outputs": [],
   "source": []
  },
  {
   "cell_type": "markdown",
   "metadata": {},
   "source": [
    "<div align=\"left\">\n",
    "<a href=\"#tipg1\" class=\"btn btn-default\" data-toggle=\"collapse\" >Click here to view/hide tip</a></div>\n",
    "<div id=\"tipg1\" class=\"collapse\"><br>\n",
    "  \n",
    "```\n",
    "conn.... <- odbc...(conn) \n",
    "```\n",
    "  \n",
    "</div>"
   ]
  },
  {
   "cell_type": "markdown",
   "metadata": {},
   "source": [
    "<div align=\"left\">\n",
    "<a href=\"#solg1\" class=\"btn btn-default\" data-toggle=\"collapse\" >Click here to view/hide solution</a></div>\n",
    "<div id=\"solg1\" class=\"collapse\"><br>\n",
    "  \n",
    "```\n",
    "conn.info <- odbcGetInfo(conn) \n",
    "```\n",
    "  \n",
    "</div>"
   ]
  },
  {
   "cell_type": "code",
   "execution_count": null,
   "metadata": {
    "collapsed": true
   },
   "outputs": [],
   "source": []
  },
  {
   "cell_type": "markdown",
   "metadata": {},
   "source": [
    "<div align=\"left\">\n",
    "<a href=\"#tipg2\" class=\"btn btn-default\" data-toggle=\"collapse\" >Click here to view/hide tip</a></div>\n",
    "<div id=\"tipg2\" class=\"collapse\"><br>\n",
    "  \n",
    "```\n",
    "# Fill in the ...\n",
    "conn....[\"DBMS_...\"]\n",
    "conn....[\"DBMS_...\"] \n",
    "conn....[\"Driver_..._...\"]\n",
    "```\n",
    "  \n",
    "</div>"
   ]
  },
  {
   "cell_type": "markdown",
   "metadata": {},
   "source": [
    "<div align=\"left\">\n",
    "<a href=\"#solg2\" class=\"btn btn-default\" data-toggle=\"collapse\" >Click here to view/hide solution</a></div>\n",
    "<div id=\"solg2\" class=\"collapse\"><br>\n",
    "  \n",
    "```\n",
    "conn.info[\"DBMS_Name\"]\n",
    "conn.info[\"DBMS_Ver\"] \n",
    "conn.info[\"Driver_ODBC_Ver\"]\n",
    "```\n",
    "  \n",
    "</div>"
   ]
  },
  {
   "cell_type": "markdown",
   "metadata": {},
   "source": [
    "<a id=\"ref6h\"></a>\n",
    "<h3>h. Supported Datatypes</h3>"
   ]
  },
  {
   "cell_type": "markdown",
   "metadata": {},
   "source": [
    "Let’s now examine the datatypes supported by the database:"
   ]
  },
  {
   "cell_type": "code",
   "execution_count": null,
   "metadata": {
    "collapsed": true
   },
   "outputs": [],
   "source": []
  },
  {
   "cell_type": "markdown",
   "metadata": {},
   "source": [
    "<div align=\"left\">\n",
    "<a href=\"#tiph\" class=\"btn btn-default\" data-toggle=\"collapse\" >Click here to view/hide tip</a></div>\n",
    "<div id=\"tiph\" class=\"collapse\"><br>\n",
    "  \n",
    "```\n",
    "# Fill in the ...\n",
    "sql.... <- sql...(conn)\n",
    "print(sql....[c(1,...)], row....=FALSE) \n",
    "```\n",
    "  \n",
    "</div>"
   ]
  },
  {
   "cell_type": "markdown",
   "metadata": {},
   "source": [
    "<div align=\"left\">\n",
    "<a href=\"#solh\" class=\"btn btn-default\" data-toggle=\"collapse\" >Click here to view/hide solution</a></div>\n",
    "<div id=\"solh\" class=\"collapse\"><br>\n",
    "  \n",
    "```\n",
    "sql.info <- sqlTypeInfo(conn)\n",
    "print(sql.info[c(1,3)], row.names=FALSE) \n",
    "```\n",
    "  \n",
    "</div>"
   ]
  },
  {
   "cell_type": "markdown",
   "metadata": {},
   "source": [
    "<a id=\"ref6i\"></a>\n",
    "<h3>i. List of Tables</h3>"
   ]
  },
  {
   "cell_type": "markdown",
   "metadata": {},
   "source": [
    "We will use the sqlTables() function to return a dataframe with information about table-like objects (i.e. TABLEs, VIEWs, ALIASes, etc.) in a specified schema called “GOSALES”. First we will output the number of tables in the schema, and then display their names."
   ]
  },
  {
   "cell_type": "code",
   "execution_count": null,
   "metadata": {
    "collapsed": true
   },
   "outputs": [],
   "source": []
  },
  {
   "cell_type": "markdown",
   "metadata": {},
   "source": [
    "<div align=\"left\">\n",
    "<a href=\"#tipi\" class=\"btn btn-default\" data-toggle=\"collapse\" >Click here to view/hide tip</a></div>\n",
    "<div id=\"tipi\" class=\"collapse\"><br>\n",
    "  \n",
    "```\n",
    "# Fill in the ...\n",
    "tab.... <- sql...(conn, ...=\"GOSALES\")\n",
    "nrow(tab....)\n",
    "tab.frame$...\n",
    "```\n",
    "  \n",
    "</div>"
   ]
  },
  {
   "cell_type": "markdown",
   "metadata": {},
   "source": [
    "<div align=\"left\">\n",
    "<a href=\"#soli\" class=\"btn btn-default\" data-toggle=\"collapse\" >Click here to view/hide solution</a></div>\n",
    "<div id=\"soli\" class=\"collapse\"><br>\n",
    "  \n",
    "```\n",
    "tab.frame <- sqlTables(conn, schema=\"GOSALES\")\n",
    "nrow(tab.frame)\n",
    "tab.frame$TABLE_NAME\n",
    "```\n",
    "  \n",
    "</div>"
   ]
  },
  {
   "cell_type": "markdown",
   "metadata": {},
   "source": [
    "<a id=\"ref6j\"></a>\n",
    "<h3>j. Columns in a Table</h3>"
   ]
  },
  {
   "cell_type": "markdown",
   "metadata": {},
   "source": [
    "Next, let’s look at column metadata for columns in a sample table like “GOSALES.ORDER_DETAILS” in the database:"
   ]
  },
  {
   "cell_type": "code",
   "execution_count": null,
   "metadata": {
    "collapsed": true
   },
   "outputs": [],
   "source": []
  },
  {
   "cell_type": "markdown",
   "metadata": {},
   "source": [
    "<div align=\"left\">\n",
    "<a href=\"#tipj\" class=\"btn btn-default\" data-toggle=\"collapse\" >Click here to view/hide tip</a></div>\n",
    "<div id=\"tipj\" class=\"collapse\"><br>\n",
    "  \n",
    "```\n",
    "# Fill in the ...\n",
    "tab.... <- \"GOSALES....\"\n",
    "col.detail <- sql...(conn, tab....)\n",
    "print(....detail[c(...,...,7,...,...)], row....=FALSE)\n",
    "```\n",
    "  \n",
    "</div>"
   ]
  },
  {
   "cell_type": "markdown",
   "metadata": {},
   "source": [
    "<div align=\"left\">\n",
    "<a href=\"#solj\" class=\"btn btn-default\" data-toggle=\"collapse\" >Click here to view/hide solution</a></div>\n",
    "<div id=\"solj\" class=\"collapse\"><br>\n",
    "  \n",
    "```\n",
    "tab.name <- \"GOSALES.ORDER_DETAILS\"\n",
    "col.detail <- sqlColumns(conn, tab.name)\n",
    "print(col.detail[c(4,6,7,9,18)], row.names=FALSE)\n",
    "```\n",
    "  \n",
    "</div>"
   ]
  },
  {
   "cell_type": "markdown",
   "metadata": {},
   "source": [
    "<a id=\"ref6k\"></a>\n",
    "<h3>k. Fetch Data</h3>"
   ]
  },
  {
   "cell_type": "markdown",
   "metadata": {},
   "source": [
    "Now let’s use the SQLFetch() function to retrieve the contents of the table (Note: ORDER_DETAILS table has almost half a million rows and hence this may take a little long to run) into a R dataframe. See how many rows are there and examine the datatypes of columns in the dataframe. Compare them to the datatypes in the columns of the corresponding table in the database (see previous step)."
   ]
  },
  {
   "cell_type": "code",
   "execution_count": null,
   "metadata": {
    "collapsed": true
   },
   "outputs": [],
   "source": []
  },
  {
   "cell_type": "markdown",
   "metadata": {},
   "source": [
    "<div align=\"left\">\n",
    "<a href=\"#tipk\" class=\"btn btn-default\" data-toggle=\"collapse\" >Click here to view/hide tip</a></div>\n",
    "<div id=\"tipk\" class=\"collapse\"><br>\n",
    "  \n",
    "```\n",
    "# Fill in the ...\n",
    "order... <- sql...(conn, tab....)\n",
    "nrow(...)\n",
    "str(...)\n",
    "```\n",
    "  \n",
    "</div>"
   ]
  },
  {
   "cell_type": "markdown",
   "metadata": {},
   "source": [
    "<div align=\"left\">\n",
    "<a href=\"#solk\" class=\"btn btn-default\" data-toggle=\"collapse\" >Click here to view/hide solution</a></div>\n",
    "<div id=\"solk\" class=\"collapse\"><br>\n",
    "  \n",
    "```\n",
    "orderdet <- sqlFetch(conn, tab.name)\n",
    "nrow(orderdet)\n",
    "str(orderdet)\n",
    "```\n",
    "  \n",
    "</div>"
   ]
  },
  {
   "cell_type": "markdown",
   "metadata": {},
   "source": [
    "<a id=\"ref6l\"></a>\n",
    "<h3>l. Analyze</h3>"
   ]
  },
  {
   "cell_type": "markdown",
   "metadata": {},
   "source": [
    "Now that we have the data in a R dataframe let’s, we can do some analysis. Let’s see if there is any co-relation between the number of orders by month. First, add a MONTH column to the dataframe that extracts the month number from the SHIP_DATE. Then add a new column having a value of 1 in every row."
   ]
  },
  {
   "cell_type": "code",
   "execution_count": null,
   "metadata": {
    "collapsed": true
   },
   "outputs": [],
   "source": []
  },
  {
   "cell_type": "markdown",
   "metadata": {},
   "source": [
    "<div align=\"left\">\n",
    "<a href=\"#tipl1\" class=\"btn btn-default\" data-toggle=\"collapse\" >Click here to view/hide tip</a></div>\n",
    "<div id=\"tipl1\" class=\"collapse\"><br>\n",
    "  \n",
    "```\n",
    "# Fill in the ...\n",
    "orderdet$... <- c(as....(format(orderdet$...,\"%...\")))\n",
    "orderdet$... <- rep(1,n...(order...))\n",
    "```\n",
    "  \n",
    "</div>"
   ]
  },
  {
   "cell_type": "markdown",
   "metadata": {},
   "source": [
    "<div align=\"left\">\n",
    "<a href=\"#soll1\" class=\"btn btn-default\" data-toggle=\"collapse\" >Click here to view/hide solution</a></div>\n",
    "<div id=\"soll1\" class=\"collapse\"><br>\n",
    "  \n",
    "```\n",
    "orderdet$MONTH <- c(as.integer(format(orderdet$SHIP_DATE,\"%m\")))\n",
    "orderdet$ONES <- rep(1,nrow(orderdet))\n",
    "```\n",
    "  \n",
    "</div>"
   ]
  },
  {
   "cell_type": "markdown",
   "metadata": {},
   "source": [
    "Let’s find out the total numbers of orders per month. We can create a new dataframe containing the total number of orders by month."
   ]
  },
  {
   "cell_type": "code",
   "execution_count": null,
   "metadata": {
    "collapsed": true
   },
   "outputs": [],
   "source": []
  },
  {
   "cell_type": "markdown",
   "metadata": {},
   "source": [
    "<div align=\"left\">\n",
    "<a href=\"#tipl2\" class=\"btn btn-default\" data-toggle=\"collapse\" >Click here to view/hide tip</a></div>\n",
    "<div id=\"tipl2\" class=\"collapse\"><br>\n",
    "  \n",
    "```\n",
    "# Fill in the ...\n",
    "orders... <- aggregate(...$ONES,by=...(MONTH=...$...), FUN=...)\n",
    "orders...\n",
    "```\n",
    "  \n",
    "</div>"
   ]
  },
  {
   "cell_type": "markdown",
   "metadata": {},
   "source": [
    "<div align=\"left\">\n",
    "<a href=\"#soll2\" class=\"btn btn-default\" data-toggle=\"collapse\" >Click here to view/hide solution</a></div>\n",
    "<div id=\"soll2\" class=\"collapse\"><br>\n",
    "  \n",
    "```\n",
    "orderspermonth <- aggregate(orderdet$ONES,by=list(MONTH=orderdet$MONTH), FUN=sum)\n",
    "orderspermonth\n",
    "```\n",
    "  \n",
    "</div>"
   ]
  },
  {
   "cell_type": "markdown",
   "metadata": {},
   "source": [
    "<a id=\"ref6m\"></a>\n",
    "<h3>m. Plot</h3>"
   ]
  },
  {
   "cell_type": "markdown",
   "metadata": {},
   "source": [
    "Create a simple scatter plot. Which month had most orders? Does there appear to be any co-relation?"
   ]
  },
  {
   "cell_type": "code",
   "execution_count": null,
   "metadata": {
    "collapsed": true
   },
   "outputs": [],
   "source": []
  },
  {
   "cell_type": "markdown",
   "metadata": {},
   "source": [
    "<div align=\"left\">\n",
    "<a href=\"#tipm\" class=\"btn btn-default\" data-toggle=\"collapse\" >Click here to view/hide tip</a></div>\n",
    "<div id=\"tipm\" class=\"collapse\"><br>\n",
    "  \n",
    "```\n",
    "# Fill in the ...\n",
    "with(orders..., plot(...,..., main=\"...\" ))\n",
    "```\n",
    "  \n",
    "</div>"
   ]
  },
  {
   "cell_type": "markdown",
   "metadata": {},
   "source": [
    "<div align=\"left\">\n",
    "<a href=\"#solm\" class=\"btn btn-default\" data-toggle=\"collapse\" >Click here to view/hide solution</a></div>\n",
    "<div id=\"solm\" class=\"collapse\"><br>\n",
    "  \n",
    "```\n",
    "with(orderspermonth, plot(MONTH,x, main=\"Total Orders by Month\" ))\n",
    "```\n",
    "  \n",
    "</div>"
   ]
  },
  {
   "cell_type": "markdown",
   "metadata": {},
   "source": [
    "<a id=\"ref6n\"></a>\n",
    "<h3>n. Dis-connect</h3>"
   ]
  },
  {
   "cell_type": "markdown",
   "metadata": {},
   "source": [
    "Finally, as a best practice we should close the database connection once we're done with it."
   ]
  },
  {
   "cell_type": "code",
   "execution_count": null,
   "metadata": {
    "collapsed": true
   },
   "outputs": [],
   "source": []
  },
  {
   "cell_type": "markdown",
   "metadata": {},
   "source": [
    "<div align=\"left\">\n",
    "<a href=\"#tipn\" class=\"btn btn-default\" data-toggle=\"collapse\" >Click here to view/hide tip</a></div>\n",
    "<div id=\"tipn\" class=\"collapse\"><br>\n",
    "  \n",
    "```\n",
    "odbc...()\n",
    "```\n",
    "  \n",
    "</div>"
   ]
  },
  {
   "cell_type": "markdown",
   "metadata": {},
   "source": [
    "<div align=\"left\">\n",
    "<a href=\"#soln\" class=\"btn btn-default\" data-toggle=\"collapse\" >Click here to view/hide solution</a></div>\n",
    "<div id=\"soln\" class=\"collapse\"><br>\n",
    "  \n",
    "```\n",
    "odbcCloseAll()\n",
    "```\n",
    "  \n",
    "</div>"
   ]
  },
  {
   "cell_type": "markdown",
   "metadata": {},
   "source": [
    "<a id=\"ref6o\"></a>\n",
    "<h3>Summary</h3>"
   ]
  },
  {
   "cell_type": "markdown",
   "metadata": {},
   "source": [
    "In this lab you accessed data in a Db2 Warehouse data warehouse using RODBC connection from an R notebook in Jupyter.\n",
    "\n",
    "This notebook is part of the free course on Cognitive Class called *Using R with Databases*. If you accessed this notebook outside the course, you can take this free self-paced course, online by going to: https://cognitiveclass.ai/courses/using-r-with-databases/"
   ]
  },
  {
   "cell_type": "markdown",
   "metadata": {},
   "source": [
    "<hr>\n",
    "<h3>Tell your friends that you're taking the Using R with Database course!</h3>\n",
    "\n",
    "<script type=\"text/javascript\" async src=\"https://platform.twitter.com/widgets.js\"></script>\n",
    "\n",
    "<a href=https://twitter.com/intent/tweet?url=https%3A%2F%2Fgoo.gl%2Fb6kJAj&via=bigdatau&text=I%20can%20now%20program%20in%20R!%20I%20finished%20this%20R%20course%20on%20IBM%27s%20Big%20Data%20University!&hashtags=rstats%2Cdatascience&related=bigdatau>\n",
    "<textarea name=\"textarea1\" disabled=\"disabled\" style=\"resize:none;border-color:#00aced;color:#808080;height:80px\" cols=75>Just learnt how to use #RODBC to access my Db2 Warehouse from #jupyter notebooks Thanks @cognitiveclass</textarea></a>\n",
    "<p></p><a class=\"twitter-share-button\" data-size=large href=https://twitter.com/intent/tweet?url=https%3A%2F%2Fgoo.gl%2Fb6kJAj&via=bigdatau&text=I%20can%20now%20program%20in%20R!%20I%20finished%20this%20R%20course%20on%20IBM%27s%20Big%20Data%20University!&hashtags=rstats%2Cdatascience&related=bigdatau></a>\n",
    "\n",
    "<a href=https://twitter.com/intent/tweet?text=Just+learnt+how+to+use+%23RODBC+to+access+my+Db2 Warehouse+from+%23jupyter+notebooks+Thanks+%40BigDataU>Tweet Now!</a>"
   ]
  },
  {
   "cell_type": "markdown",
   "metadata": {},
   "source": [
    "#### Thank you for completing this module on getting connected and querying databases using RJDBC and RODBC."
   ]
  },
  {
   "cell_type": "markdown",
   "metadata": {},
   "source": [
    "<hr>\n",
    "### About the Authors:  \n",
    "Hi! It's [Rav Ahuja](https://ca.linkedin.com/in/rav-ahuja-8aa4562a) and [Agatha Colangelo](https://www.linkedin.com/in/agathacolangelo), the authors of this notebook. We hope you found this lab easy to do! There's lots more to learn about R and Relational Databases but you're well on your way. Feel free to connect with us if you have any questions.\n",
    "<hr>"
   ]
  },
  {
   "cell_type": "markdown",
   "metadata": {},
   "source": [
    "Copyright &copy; 2017 [Cognitive Class](https://cognitiveclass.ai/?utm_source=bducopyrightlink&utm_medium=dswb&utm_campaign=bdu). This notebook and its source code are released under the terms of the [MIT License](https://cognitiveclass.ai/mit-license/)."
   ]
  }
 ],
 "metadata": {
  "kernelspec": {
   "display_name": "R",
   "language": "R",
   "name": "ir"
  },
  "language_info": {
   "codemirror_mode": "r",
   "file_extension": ".r",
   "mimetype": "text/x-r-source",
   "name": "R",
   "pygments_lexer": "r",
   "version": "3.4.3"
  },
  "widgets": {
   "state": {},
   "version": "1.1.2"
  }
 },
 "nbformat": 4,
 "nbformat_minor": 0
}
