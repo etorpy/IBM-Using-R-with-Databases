{
 "cells": [
  {
   "cell_type": "markdown",
   "metadata": {},
   "source": [
    "<a href=\"https://www.bigdatauniversity.com\"><img src = \"https://ibm.box.com/shared/static/n4369i3g2fkg38kendjtcbw6hzm4vel5.png\" width = 100, align = \"center\"></a>\n",
    "# <center>Lab 5: Perform K-Means Clustering Analysis with R</center>"
   ]
  },
  {
   "cell_type": "markdown",
   "metadata": {},
   "source": [
    "### Welcome!\n",
    "In this hands-on lab we will perform the following tasks to illustrate the use of in-database anayltics in Db2 Warehouse on Cloud (previously called dashDB) using ibmdbR."
   ]
  },
  {
   "cell_type": "markdown",
   "metadata": {},
   "source": [
    "<div class=\"alert alert-block alert-info\" style=\"margin-top: 20px\">\n",
    "<h3>Tasks</h3>\n",
    "<ol><ol><ol>\n",
    "<li><a href=\"#refa\">Pre-requisites</a></li>\n",
    "<li><a href=\"#refb\">Load the ibmdbR package</a></li>\n",
    "<li><a href=\"#refc\">Connect to your Db2 Warehouse database</a></li>\n",
    "<li><a href=\"#refd\">Create a table with data</a></li>\n",
    "<li><a href=\"#refe\">Analyze the data</a></li>\n",
    "<li><a href=\"#reff\">Dis-connect</a></li>\n",
    "</ol></ol></ol>\n",
    "<br>\n",
    "Estimated Time Needed: <strong>30 min</strong>\n",
    "</div>"
   ]
  },
  {
   "cell_type": "markdown",
   "metadata": {},
   "source": [
    "<a id=\"refa\"></a>\n",
    "<h3>a. Pre-requisites</h3>"
   ]
  },
  {
   "cell_type": "markdown",
   "metadata": {},
   "source": [
    "In this lab we will use Jupyter Notebooks within CC Labs to access data in a Db2 Warehouse database using RODBC. Information about these services is provided in the lab setup."
   ]
  },
  {
   "cell_type": "markdown",
   "metadata": {},
   "source": [
    "<a id=\"refb\"></a>\n",
    "<h3>b. Load the ibmdbR package</h3>\n",
    "<br>\n",
    "Let's start by loading the <b>ibmdbR</b> package. <b>ibmdbR</b> utilizes RODBC to connect to interact with the database so ensure that the database is accessable using RODBC. Enter the code in the blank cell and execute it (Ctrl+Enter):"
   ]
  },
  {
   "cell_type": "code",
   "execution_count": null,
   "metadata": {
    "collapsed": false
   },
   "outputs": [],
   "source": []
  },
  {
   "cell_type": "markdown",
   "metadata": {},
   "source": [
    "<div align=\"left\">\n",
    "<a href=\"#tipb\" class=\"btn btn-default\" data-toggle=\"collapse\" >Click here to view/hide tip</a></div>\n",
    "<div id=\"tipb\" class=\"collapse\"><br>\n",
    "  \n",
    "```\n",
    "# Fill in the ...\n",
    "library(...)\n",
    "```\n",
    "  \n",
    "</div>"
   ]
  },
  {
   "cell_type": "markdown",
   "metadata": {},
   "source": [
    "<div align=\"left\">\n",
    "<a href=\"#solb\" class=\"btn btn-default\" data-toggle=\"collapse\" >Click here to view/hide solution</a></div>\n",
    "<div id=\"solb\" class=\"collapse\"><br>\n",
    "  \n",
    "```\n",
    "library(ibmdbR)\n",
    "```\n",
    "  \n",
    "</div>"
   ]
  },
  {
   "cell_type": "markdown",
   "metadata": {},
   "source": [
    "<a id=\"refc\"></a>\n",
    "<h3>c. Connect to your Db2 Warehouse database</h3>"
   ]
  },
  {
   "cell_type": "markdown",
   "metadata": {},
   "source": [
    "Enter the other connection details for your instance of Db2 Warehouse:"
   ]
  },
  {
   "cell_type": "code",
   "execution_count": null,
   "metadata": {
    "collapsed": true
   },
   "outputs": [],
   "source": [
    "#Enter the values for you database connection\n",
    "#Ensure you enter correct values for host.name, user.name and pwd"
   ]
  },
  {
   "cell_type": "markdown",
   "metadata": {},
   "source": [
    "<div align=\"left\">\n",
    "<a href=\"#tipc1\" class=\"btn btn-default\" data-toggle=\"collapse\" >Click here to view/hide tip</a></div>\n",
    "<div id=\"tipc1\" class=\"collapse\"><br>\n",
    "  \n",
    "```\n",
    "# Fill in the ...\n",
    "driver.name <- \"...\"    # this matches entry in odbc.ini for Db2 Warehouse / DB2 driver\n",
    "db.name <- \"...\"     \n",
    "host.name <- \"host...\" \n",
    "port <- \"...\"         \n",
    "protocol=\"...\"        \n",
    "user.name <- \"...\" \n",
    "pwd <- \"...\"       \n",
    "dsnstr <- paste(driver....,\n",
    "                  \";Data...=\",....name,\n",
    "                  \";Host...=\",....name,\n",
    "                  \";Port...=\",...,\n",
    "                  \";PROTOCOL=\",..., sep=\"...\")\n",
    "```\n",
    "  \n",
    "</div>"
   ]
  },
  {
   "cell_type": "markdown",
   "metadata": {},
   "source": [
    "<div align=\"left\">\n",
    "<a href=\"#solc1\" class=\"btn btn-default\" data-toggle=\"collapse\" >Click here to view/hide solution</a></div>\n",
    "<div id=\"solc1\" class=\"collapse\"><br>\n",
    "  \n",
    "```\n",
    "driver.name <- \"DB2\"    # this matches entry in odbc.ini for Db2 Warehouse / DB2 driver\n",
    "db.name <- \"BLUDB\"      # e.g. BLUDB\n",
    "host.name <- \"hostname\" # e.g.  awh-yp-small03.services.dal.bluemix.net\n",
    "port <- \"50000\"         # e.g.  50000\n",
    "protocol=\"TCPIP\"        # i.e. TCPIP\n",
    "user.name <- \"username\" # e.g.  dash104434\n",
    "pwd <- \"password\"       # e.g. your secret password xxxx\n",
    "dsnstr <- paste(driver.name,\n",
    "                  \";Database=\",db.name,\n",
    "                  \";Hostname=\",host.name,\n",
    "                  \";Port=\",port,\n",
    "                  \";PROTOCOL=\",protocol, sep=\"\")\n",
    "```\n",
    "  \n",
    "</div>"
   ]
  },
  {
   "cell_type": "markdown",
   "metadata": {},
   "source": [
    "Now create a connection string and connect to the database using idaConnect().  Syntax and arguments for this function follow:\n",
    "<div class=\"alert alert-block alert-info\" style=\"margin-top: 20px\">\n",
    "<b>Usage</b><br>\n",
    "idaConnect(dsn, uid = \"\", pwd = \"\", conType = \"odbc\")\n",
    "<p>\n",
    "<b>Arguments</b><br>\n",
    "  dsn -     The DSN of the data base.<br>\n",
    "  uid -    The user name.<br>\n",
    "  pwd -    The password.<br>\n",
    "  conType - The connection type. <br>"
   ]
  },
  {
   "cell_type": "markdown",
   "metadata": {
    "collapsed": true
   },
   "source": [
    "Add code to connect to the database (example: con <- idaConnect(...))"
   ]
  },
  {
   "cell_type": "code",
   "execution_count": null,
   "metadata": {
    "collapsed": true
   },
   "outputs": [],
   "source": []
  },
  {
   "cell_type": "markdown",
   "metadata": {},
   "source": [
    "<div align=\"left\">\n",
    "<a href=\"#tipc2\" class=\"btn btn-default\" data-toggle=\"collapse\" >Click here to view/hide tip</a></div>\n",
    "<div id=\"tipc2\" class=\"collapse\"><br>\n",
    "  \n",
    "```\n",
    "# Fill in the ...\n",
    "con <- ida...(dsn..., uid=....name, p...=...)\n",
    "```\n",
    "  \n",
    "</div>"
   ]
  },
  {
   "cell_type": "markdown",
   "metadata": {},
   "source": [
    "<div align=\"left\">\n",
    "<a href=\"#solc2\" class=\"btn btn-default\" data-toggle=\"collapse\" >Click here to view/hide solution</a></div>\n",
    "<div id=\"solc2\" class=\"collapse\"><br>\n",
    "  \n",
    "```\n",
    "con <- idaConnect(dsnstr, uid=user.name, pwd=pwd)\n",
    "```\n",
    "  \n",
    "</div>"
   ]
  },
  {
   "cell_type": "markdown",
   "metadata": {},
   "source": [
    "Now let's initialize the In Database Analytics functions using idaInit() <br>\n",
    "<div class=\"alert alert-block alert-info\" style=\"margin-top: 20px\">\n",
    "<b>Usage</b><br>\n",
    "idaInit(con,jobDescription=NULL)<br>\n",
    "<br>\n",
    "<b>Arguments</b><br>\n",
    "con - An open RODBC connection.<br>\n",
    "jobDescription - Optional argument that allows to assign a description to the jobs submitted from the R session<br>\n",
    "</div>"
   ]
  },
  {
   "cell_type": "code",
   "execution_count": null,
   "metadata": {
    "collapsed": false
   },
   "outputs": [],
   "source": []
  },
  {
   "cell_type": "markdown",
   "metadata": {},
   "source": [
    "<div align=\"left\">\n",
    "<a href=\"#tipc3\" class=\"btn btn-default\" data-toggle=\"collapse\" >Click here to view/hide tip</a></div>\n",
    "<div id=\"tipc3\" class=\"collapse\"><br>\n",
    "  \n",
    "```\n",
    "# Fill in the ...\n",
    "ida...(...) \n",
    "```\n",
    "  \n",
    "</div>"
   ]
  },
  {
   "cell_type": "markdown",
   "metadata": {},
   "source": [
    "<div align=\"left\">\n",
    "<a href=\"#solc3\" class=\"btn btn-default\" data-toggle=\"collapse\" >Click here to view/hide solution</a></div>\n",
    "<div id=\"solc3\" class=\"collapse\"><br>\n",
    "  \n",
    "```\n",
    "idaInit(con) \n",
    "```\n",
    "  \n",
    "</div>"
   ]
  },
  {
   "cell_type": "markdown",
   "metadata": {},
   "source": [
    "Let's test to check our connection was established successfully by using idaShowTables() to get a list of tables.\n",
    "<div class=\"alert alert-block alert-info\" style=\"margin-top: 20px\">\n",
    "Tip: The list might be long ... single or double click on the left side just below Out [linenumber] to minimize the output result\n",
    "</div>"
   ]
  },
  {
   "cell_type": "code",
   "execution_count": null,
   "metadata": {
    "collapsed": false,
    "scrolled": true
   },
   "outputs": [],
   "source": []
  },
  {
   "cell_type": "markdown",
   "metadata": {},
   "source": [
    "<div align=\"left\">\n",
    "<a href=\"#tipc4\" class=\"btn btn-default\" data-toggle=\"collapse\" >Click here to view/hide tip</a></div>\n",
    "<div id=\"tipc4\" class=\"collapse\"><br>\n",
    "  \n",
    "```\n",
    "# Fill in the ...\n",
    "ida...(show...=...)\n",
    "```\n",
    "  \n",
    "</div>"
   ]
  },
  {
   "cell_type": "markdown",
   "metadata": {},
   "source": [
    "<div align=\"left\">\n",
    "<a href=\"#solc4\" class=\"btn btn-default\" data-toggle=\"collapse\" >Click here to view/hide solution</a></div>\n",
    "<div id=\"solc4\" class=\"collapse\"><br>\n",
    "  \n",
    "```\n",
    "idaShowTables(showAll=TRUE)\n",
    "```\n",
    "  \n",
    "</div>"
   ]
  },
  {
   "cell_type": "markdown",
   "metadata": {},
   "source": [
    "<a id=\"refd\"></a>\n",
    "<h3>d. Create table with data</h3>\n",
    "<br>\n",
    "Our R environment contains a sample dataset called mtcars that contains certain attributes (like mileage, cylinders, horsepower, etc.) about 32 automobiles. If you are not familiar with this dataset, lets first take a look at it."
   ]
  },
  {
   "cell_type": "markdown",
   "metadata": {},
   "source": [
    "Load the mtcars library."
   ]
  },
  {
   "cell_type": "code",
   "execution_count": null,
   "metadata": {
    "collapsed": false
   },
   "outputs": [],
   "source": []
  },
  {
   "cell_type": "markdown",
   "metadata": {},
   "source": [
    "<div align=\"left\">\n",
    "<a href=\"#tipd1\" class=\"btn btn-default\" data-toggle=\"collapse\" >Click here to view/hide tip</a></div>\n",
    "<div id=\"tipd1\" class=\"collapse\"><br>\n",
    "  \n",
    "```\n",
    "# Fill in the ...\n",
    "mt...\n",
    "```\n",
    "  \n",
    "</div>"
   ]
  },
  {
   "cell_type": "markdown",
   "metadata": {},
   "source": [
    "<div align=\"left\">\n",
    "<a href=\"#sold1\" class=\"btn btn-default\" data-toggle=\"collapse\" >Click here to view/hide solution</a></div>\n",
    "<div id=\"sold1\" class=\"collapse\"><br>\n",
    "  \n",
    "```\n",
    "mtcars\n",
    "```\n",
    "  \n",
    "</div>"
   ]
  },
  {
   "cell_type": "markdown",
   "metadata": {},
   "source": [
    "We will load this data into a table in our database. Note in the output above that mpg, cyl, etc. are column names but the that the car name doesn't have a column label. That's because it isn't actually a real column in the mtcars dataframe, rather its a special column that indictes the rownames."
   ]
  },
  {
   "cell_type": "markdown",
   "metadata": {},
   "source": [
    "Now, use the as.ida.data.frame() function to create a new table in the database that inputs the data from the newmtcars dataframe. This function creates an IDA data frame from a local R dataframe by creating a table in the database.\n",
    "<br>\n",
    "<div class=\"alert alert-block alert-info\" style=\"margin-top: 20px\">\n",
    "<b>Usage</b><br>\n",
    "as.ida.data.frame(x, table=NULL, clear.existing=FALSE, case.sensitive=TRUE,\n",
    "rownames=NULL, dbname=NULL, asAOT=FALSE)<br>\n",
    "<br>\n",
    "<b>Arguments</b><br>\n",
    "<i>x</i> - The name of the input object.<br>\n",
    "<i>table</i> - The name of the table to be created.<br>\n",
    "<i>clear.existing</i> - Indicates whether the existing table is to be dropped (TRUE).<br>\n",
    "<i>case.sensitive</i> - Specifies whether the column names to be treated as case-sensitive (TRUE). <br>\n",
    "<i>rownames</i> - The name of the column for the unique row id. If NULL, not added.<br>\n",
    "dbname, asAOT - Parameters for DB2 on z/OS\n",
    "</div>"
   ]
  },
  {
   "cell_type": "markdown",
   "metadata": {},
   "source": [
    "Replace the code below with functional parameters."
   ]
  },
  {
   "cell_type": "code",
   "execution_count": null,
   "metadata": {
    "collapsed": false
   },
   "outputs": [],
   "source": []
  },
  {
   "cell_type": "markdown",
   "metadata": {},
   "source": [
    "<div align=\"left\">\n",
    "<a href=\"#tipd2\" class=\"btn btn-default\" data-toggle=\"collapse\" >Click here to view/hide tip</a></div>\n",
    "<div id=\"tipd2\" class=\"collapse\"><br>\n",
    "  \n",
    "```\n",
    "# Fill in the ...\n",
    "tableName <- \"...\"\n",
    "idf <- as.ida.dataframe(...)\n",
    "idf\n",
    "```\n",
    "  \n",
    "</div>"
   ]
  },
  {
   "cell_type": "markdown",
   "metadata": {},
   "source": [
    "<div align=\"left\">\n",
    "<a href=\"#sold2\" class=\"btn btn-default\" data-toggle=\"collapse\" >Click here to view/hide solution</a></div>\n",
    "<div id=\"sold2\" class=\"collapse\"><br>\n",
    "  \n",
    "```\n",
    "tableName <- \"MTCARS\"\n",
    "as.ida.data.frame(mtcars, table=tableName, clear.existing=TRUE, rownames=\"carname\")\n",
    "```\n",
    "  \n",
    "</div>"
   ]
  },
  {
   "cell_type": "markdown",
   "metadata": {},
   "source": [
    "Now let's use idaQuery() to check if a table was created in the database with the mtcars data.  This function can run any SQL query on the database and put the results into a dataframe.\n",
    "<br>\n",
    "<div class=\"alert alert-block alert-info\" style=\"margin-top: 20px\">\n",
    "<b>Usage</b><br>\n",
    "idaQuery(..., as.is=TRUE, na.strings = \"NA\")<br>\n",
    "<br>\n",
    "<b>Arguments</b><br>\n",
    "as.is - \n",
    "Specifies whether the result columns are to be converted using RODBC type\n",
    "conversions (as.is=FALSE) or left unconverted (as.is=TRUE).<br>\n",
    "na.strings - character vector of strings to be mapped to NA when reading character data.<br>\n",
    "</div>\n",
    "\n"
   ]
  },
  {
   "cell_type": "markdown",
   "metadata": {},
   "source": [
    "Replace the ... with your query to fetch the contents of the MTCARS table."
   ]
  },
  {
   "cell_type": "code",
   "execution_count": null,
   "metadata": {
    "collapsed": true
   },
   "outputs": [],
   "source": [
    "# fetch the contents of MTCARS table"
   ]
  },
  {
   "cell_type": "markdown",
   "metadata": {},
   "source": [
    "<div align=\"left\">\n",
    "<a href=\"#tipd3\" class=\"btn btn-default\" data-toggle=\"collapse\" >Click here to view/hide tip</a></div>\n",
    "<div id=\"tipd3\" class=\"collapse\"><br>\n",
    "  \n",
    "```\n",
    "# Fill in the ...\n",
    "mtcarsdb <- idaQuery(...)\n",
    "mtcarsdb\n",
    "```\n",
    "  \n",
    "</div>"
   ]
  },
  {
   "cell_type": "markdown",
   "metadata": {},
   "source": [
    "<div align=\"left\">\n",
    "<a href=\"#sold3\" class=\"btn btn-default\" data-toggle=\"collapse\" >Click here to view/hide solution</a></div>\n",
    "<div id=\"sold3\" class=\"collapse\"><br>\n",
    "  \n",
    "```\n",
    "mtcarsdb <- idaQuery(\"SELECT * FROM \",tableName)\n",
    "mtcarsdb\n",
    "```\n",
    "  \n",
    "</div>"
   ]
  },
  {
   "cell_type": "markdown",
   "metadata": {},
   "source": [
    "<a id=\"refe\"></a>\n",
    "<h3>e. Analyze the data</h3>\n",
    "<br>\n",
    "As you have seen above you can use ibmdbR to put data into the database and run queries against the database. The key benefit of ibmdbR, however, lies in being able to perform in-database analytics. That is, \"pushing down many basic and complex R operations into the database, which removes the main memory boundary of R and allows you to make full use of parallel processing in the underlying database\". \n",
    "\n",
    "Let's first create a dataframe referencing the MTCARS table in the database. <br>NOTE: We could use the 'idf' dataframe that we created above to store the mtcars data in the database but this shows another way."
   ]
  },
  {
   "cell_type": "code",
   "execution_count": null,
   "metadata": {
    "collapsed": false
   },
   "outputs": [],
   "source": []
  },
  {
   "cell_type": "markdown",
   "metadata": {},
   "source": [
    "<div align=\"left\">\n",
    "<a href=\"#tipe1\" class=\"btn btn-default\" data-toggle=\"collapse\" >Click here to view/hide tip</a></div>\n",
    "<div id=\"tipe1\" class=\"collapse\"><br>\n",
    "  \n",
    "```\n",
    "# Fill in the ...\n",
    "id... <- ida.data....(...)\n",
    "```\n",
    "  \n",
    "</div>"
   ]
  },
  {
   "cell_type": "markdown",
   "metadata": {},
   "source": [
    "<div align=\"left\">\n",
    "<a href=\"#sole1\" class=\"btn btn-default\" data-toggle=\"collapse\" >Click here to view/hide solution</a></div>\n",
    "<div id=\"sole1\" class=\"collapse\"><br>\n",
    "  \n",
    "```\n",
    "idf2 <- ida.data.frame(tableName)\n",
    "```\n",
    "  \n",
    "</div>"
   ]
  },
  {
   "cell_type": "markdown",
   "metadata": {},
   "source": [
    "Note that an in database dataframe like idf2 is just a pointer to the object(s) in database. Therefore the following will not display the data."
   ]
  },
  {
   "cell_type": "code",
   "execution_count": null,
   "metadata": {
    "collapsed": false
   },
   "outputs": [],
   "source": []
  },
  {
   "cell_type": "markdown",
   "metadata": {},
   "source": [
    "<div align=\"left\">\n",
    "<a href=\"#tipe2\" class=\"btn btn-default\" data-toggle=\"collapse\" >Click here to view/hide tip</a></div>\n",
    "<div id=\"tipe2\" class=\"collapse\"><br>\n",
    "  \n",
    "```\n",
    "# Fill in the ...\n",
    "i...2\n",
    "```\n",
    "  \n",
    "</div>"
   ]
  },
  {
   "cell_type": "markdown",
   "metadata": {},
   "source": [
    "<div align=\"left\">\n",
    "<a href=\"#sole2\" class=\"btn btn-default\" data-toggle=\"collapse\" >Click here to view/hide solution</a></div>\n",
    "<div id=\"sole2\" class=\"collapse\"><br>\n",
    "  \n",
    "```\n",
    "idf2 \n",
    "```\n",
    "  \n",
    "</div>"
   ]
  },
  {
   "cell_type": "markdown",
   "metadata": {},
   "source": [
    "If you want to see the data referenced by the dataframe you can use a function like head() to examine the first few rows:"
   ]
  },
  {
   "cell_type": "code",
   "execution_count": null,
   "metadata": {
    "collapsed": false
   },
   "outputs": [],
   "source": []
  },
  {
   "cell_type": "markdown",
   "metadata": {},
   "source": [
    "<div align=\"left\">\n",
    "<a href=\"#tipe3\" class=\"btn btn-default\" data-toggle=\"collapse\" >Click here to view/hide tip</a></div>\n",
    "<div id=\"tipe3\" class=\"collapse\"><br>\n",
    "  \n",
    "```\n",
    "# Fill in the ...\n",
    "head(...)\n",
    "```\n",
    "  \n",
    "</div>"
   ]
  },
  {
   "cell_type": "markdown",
   "metadata": {},
   "source": [
    "<div align=\"left\">\n",
    "<a href=\"#sole3\" class=\"btn btn-default\" data-toggle=\"collapse\" >Click here to view/hide solution</a></div>\n",
    "<div id=\"sole3\" class=\"collapse\"><br>\n",
    "  \n",
    "```\n",
    "head(idf2)\n",
    "```\n",
    "  \n",
    "</div>"
   ]
  },
  {
   "cell_type": "markdown",
   "metadata": {},
   "source": [
    "Now let's use one of the built-in analytic functions such as idaKMeans() on this in-database dataframe created above on MTCARS table. Just like kmeans(), idaKMeans() is used for analyzing  clustering on the data. \n",
    "\n",
    "PS: Although we will utilize the sample mtcars dataset in the database, appreciate the advantages of in-database analytics if this was a very large dataset."
   ]
  },
  {
   "cell_type": "markdown",
   "metadata": {
    "collapsed": true
   },
   "source": [
    "<br>\n",
    "<div class=\"alert alert-block alert-info\" style=\"margin-top: 20px\">\n",
    "<b>idaKMeans</b><br>\n",
    "This function generates a k-means clustering model based on the contents of a IDA data frame.<br><br>\n",
    "<b>Usage</b><br>\n",
    "idaKMeans(\n",
    "data,\n",
    "id,\n",
    "k=3,\n",
    "maxiter=5,\n",
    "distance=\"euclidean\",\n",
    "outtable=NULL,\n",
    "randseed=12345,\n",
    "statistics=NULL,\n",
    "modelname=NULL\n",
    ")<br>\n",
    "<br>\n",
    "<b>Arguments</b><br>\n",
    "data - An IDA data frame that contains the input data for the function.<br> \n",
    "id - The name of the column that contains a unique ID for each row of the input data.<br>\n",
    "k - The number of clusters to be calculated. <br>\n",
    "maxiter - The maximum number of iterations to be used to calculate the k-means clusters. <br>\n",
    "distance - The distance function that is to be used. e.g.: \n",
    "\"euclidean\" or \"norm_euclidean\"<br>\n",
    "outtable - The name of the output table that is to contain the results of the operation. <br>\n",
    "randseed - The seed for the random number generator. <br>\n",
    "statistics - Denotes which statistics to calculate. e.g. \n",
    "\"none\", \"columns\" and \"all\" or NULL<br>\n",
    "modelname - The name under which the model is stored in the database. This is the name that is specified when using functions such as idaRetrieveModel or idaDropModel.<br>\n",
    "object - An object of the class idaKMeans to be used for prediction, i.e.  for applying it to new data.<br>\n",
    "x - An object of the class idaKMeans to be printed.<br>\n",
    "newdata - A IDA data frame that contains the data to which to apply the model.<br>\n",
    "... -  Additional parameters to pass to the print or predict method."
   ]
  },
  {
   "cell_type": "markdown",
   "metadata": {},
   "source": [
    "Now run K-Means with k=4 clusters on the mtcars dataset in the database; replace the ... with your own parameters and then print the model."
   ]
  },
  {
   "cell_type": "code",
   "execution_count": null,
   "metadata": {
    "collapsed": false
   },
   "outputs": [],
   "source": [
    "#now run kmeans with k=4 clusters on the mtcars dataset in the database "
   ]
  },
  {
   "cell_type": "markdown",
   "metadata": {},
   "source": [
    "<div align=\"left\">\n",
    "<a href=\"#tipe4\" class=\"btn btn-default\" data-toggle=\"collapse\" >Click here to view/hide tip</a></div>\n",
    "<div id=\"tipe4\" class=\"collapse\"><br>\n",
    "  \n",
    "```\n",
    "# Fill in the ...\n",
    "#now run kmeans with k=4 clusters on the mtcars dataset in the database \n",
    "kclusters=...\n",
    "#replace ... with your parameters\n",
    "km <- idaKMeans (idf2, ...)\n",
    "print(...) #Print ...\n",
    "```\n",
    "  \n",
    "</div>"
   ]
  },
  {
   "cell_type": "markdown",
   "metadata": {},
   "source": [
    "<div align=\"left\">\n",
    "<a href=\"#sole4\" class=\"btn btn-default\" data-toggle=\"collapse\" >Click here to view/hide solution</a></div>\n",
    "<div id=\"sole4\" class=\"collapse\"><br>\n",
    "  \n",
    "```\n",
    "# drop this model in case it already exists e.g. re-running the cell\n",
    "idaDropModel(\"KMEANSMODEL\") \n",
    "kclusters=4\n",
    "#Create a kmeans model stored in the database as KMEANSMODEL:\n",
    "km <- idaKMeans(idf2, id=\"carname\", k=kclusters, modelname=\"KMEANSMODEL\")\n",
    "print(km) #Print the model\n",
    "```\n",
    "  \n",
    "</div>"
   ]
  },
  {
   "cell_type": "markdown",
   "metadata": {},
   "source": [
    "Predict the model. Replace the ... with the code to predict the model."
   ]
  },
  {
   "cell_type": "code",
   "execution_count": null,
   "metadata": {
    "collapsed": false
   },
   "outputs": [],
   "source": [
    "#Predict the model"
   ]
  },
  {
   "cell_type": "markdown",
   "metadata": {},
   "source": [
    "<div align=\"left\">\n",
    "<a href=\"#tipe5\" class=\"btn btn-default\" data-toggle=\"collapse\" >Click here to view/hide tip</a></div>\n",
    "<div id=\"tipe5\" class=\"collapse\"><br>\n",
    "  \n",
    "```\n",
    "# Fill in the ...\n",
    "pred <- pred...(km,...2,id=\"carname\")\n",
    "....(pred,...)\n",
    "```\n",
    "  \n",
    "</div>"
   ]
  },
  {
   "cell_type": "markdown",
   "metadata": {},
   "source": [
    "<div align=\"left\">\n",
    "<a href=\"#sole5\" class=\"btn btn-default\" data-toggle=\"collapse\" >Click here to view/hide solution</a></div>\n",
    "<div id=\"sole5\" class=\"collapse\"><br>\n",
    "  \n",
    "```\n",
    "pred <- predict(km,idf2,id=\"carname\")\n",
    "head(pred,10)\n",
    "```\n",
    "  \n",
    "</div>"
   ]
  },
  {
   "cell_type": "markdown",
   "metadata": {},
   "source": [
    "Now let's visualize the clustering analysis using ggplot2. You need to fix the code as indicated."
   ]
  },
  {
   "cell_type": "code",
   "execution_count": null,
   "metadata": {
    "collapsed": false
   },
   "outputs": [],
   "source": [
    "#FIX TWO CELLS BELOW\n",
    "#Not working with idf2 and km\n",
    "#data(idf2)"
   ]
  },
  {
   "cell_type": "markdown",
   "metadata": {},
   "source": [
    "<div align=\"left\">\n",
    "<a href=\"#tipe6\" class=\"btn btn-default\" data-toggle=\"collapse\" >Click here to view/hide tip</a></div>\n",
    "<div id=\"tipe6\" class=\"collapse\"><br>\n",
    "  \n",
    "```\n",
    "# Fill in the ...\n",
    "#FIX THIS CELL\n",
    "#Not working with idf2 and km\n",
    "#data(idf2)\n",
    "library(gg...2)\n",
    "x <- t...(idf2$...,km$cluster,...)\n",
    "y <- t...(idf2$...,km$cluster,...)\n",
    "kcenters <- data....(x,...)\n",
    "ggplot(id...,aes(...,hp))+geom_...(col=km$...,size=...) +  \n",
    "    geom_point(...=kcenters,aes(...,...),pch=...,size=...,colour=...:k...)\n",
    "```\n",
    "  \n",
    "</div>"
   ]
  },
  {
   "cell_type": "markdown",
   "metadata": {},
   "source": [
    "<div align=\"left\">\n",
    "<a href=\"#sole6\" class=\"btn btn-default\" data-toggle=\"collapse\" >Click here to view/hide solution</a></div>\n",
    "<div id=\"sole6\" class=\"collapse\"><br>\n",
    "  \n",
    "```\n",
    "#FIX THIS CELL\n",
    "#Not working with idf2 and km\n",
    "#data(idf2)\n",
    "library(ggplot2)\n",
    "x <- tapply(idf2$mpg,km$cluster,mean)\n",
    "y <- tapply(idf2$hp,km$cluster,mean)\n",
    "kcenters <- data.frame(x,y)\n",
    "ggplot(idf2,aes(mpg,hp))+geom_point(col=km$cluster,size=4) +  \n",
    "    geom_point(data=kcenters,aes(x,y),pch=8,size=10,colour=1:kclusters)\n",
    "```\n",
    "  \n",
    "</div>"
   ]
  },
  {
   "cell_type": "markdown",
   "metadata": {
    "collapsed": true
   },
   "source": [
    "<a id=\"reff\"></a>\n",
    "<h3>f. Dis-connect</h3>"
   ]
  },
  {
   "cell_type": "markdown",
   "metadata": {},
   "source": [
    "Add the code to disconnect from the databse."
   ]
  },
  {
   "cell_type": "code",
   "execution_count": null,
   "metadata": {
    "collapsed": true
   },
   "outputs": [],
   "source": []
  },
  {
   "cell_type": "markdown",
   "metadata": {},
   "source": [
    "<div align=\"left\">\n",
    "<a href=\"#tipf\" class=\"btn btn-default\" data-toggle=\"collapse\" >Click here to view/hide tip</a></div>\n",
    "<div id=\"tipf\" class=\"collapse\"><br>\n",
    "  \n",
    "```\n",
    "# Fill in the ...\n",
    "ida...(...)\n",
    "```\n",
    "  \n",
    "</div>"
   ]
  },
  {
   "cell_type": "markdown",
   "metadata": {},
   "source": [
    "<div align=\"left\">\n",
    "<a href=\"#solf\" class=\"btn btn-default\" data-toggle=\"collapse\" >Click here to view/hide solution</a></div>\n",
    "<div id=\"solf\" class=\"collapse\"><br>\n",
    "  \n",
    "```\n",
    "idaClose(con)\n",
    "```\n",
    "  \n",
    "</div>"
   ]
  },
  {
   "cell_type": "markdown",
   "metadata": {},
   "source": [
    "<a id=\"ref6o\"></a>\n",
    "<h3>Summary</h3>"
   ]
  },
  {
   "cell_type": "markdown",
   "metadata": {},
   "source": [
    "In this lab you performed K-Means clustering analysis on a sample dataset using the ibmdbR library with an R notebook in Jupyter.\n",
    "\n",
    "This notebook is part of the free course on Cognitive Class called *Using R with Databases*. If you accessed this notebook outside the course, you can take this free self-paced course, online by going to: https://cognitiveclass.ai/courses/using-r-with-databases/"
   ]
  },
  {
   "cell_type": "markdown",
   "metadata": {},
   "source": [
    "<hr>\n",
    "<h3>Tell your friends that you're taking the Using R with Database course!</h3>\n",
    "\n",
    "<script type=\"text/javascript\" async src=\"https://platform.twitter.com/widgets.js\"></script>\n",
    "\n",
    "<a href=https://twitter.com/intent/tweet?url=https%3A%2F%2Fgoo.gl%2Fb6kJAj&via=bigdatau&text=I%20can%20now%20program%20in%20R!%20I%20finished%20this%20R%20course%20on%20IBM%27s%20Big%20Data%20University!&hashtags=rstats%2Cdatascience&related=bigdatau>\n",
    "<textarea name=\"textarea1\" disabled=\"disabled\" style=\"resize:none;border-color:#00aced;color:#808080;height:80px\" cols=75>Just learnt to perform k means clustering analysis with R from #jupyter notebooks Thanks @cognitiveclass</textarea></a>\n",
    "<p></p><a class=\"twitter-share-button\" data-size=large href=https://twitter.com/intent/tweet?url=https%3A%2F%2Fgoo.gl%2Fb6kJAj&via=bigdatau&text=I%20can%20now%20program%20in%20R!%20I%20finished%20this%20R%20course%20on%20IBM%27s%20Big%20Data%20University!&hashtags=rstats%2Cdatascience&related=bigdatau></a>\n",
    "\n",
    "<a href=https://twitter.com/intent/tweet?text=Just+learnt+to+perform+k+means+clustering+analysis+with+R+from+%23jupyter+notebooks+Thanks+%40BigDataU>Tweet Now!</a>"
   ]
  },
  {
   "cell_type": "markdown",
   "metadata": {},
   "source": [
    "#### Thank-you for completing this lab on K-Means Clustering."
   ]
  },
  {
   "cell_type": "markdown",
   "metadata": {},
   "source": [
    "### About the Authors:  \n",
    "Hi! It's [Rav Ahuja](https://ca.linkedin.com/in/rav-ahuja-8aa4562a) and [Agatha Colangelo](https://www.linkedin.com/in/agathacolangelo), the authors of this notebook. We hope you found this notebook easy to do! There's lots more to learn about R and Relational Databases but you're well on your way. Feel free to connect with us if you have any questions.\n",
    "<hr>"
   ]
  },
  {
   "cell_type": "markdown",
   "metadata": {},
   "source": [
    "Copyright &copy; 2017 [Cognitive Class](https://cognitiveclass.ai/?utm_source=bducopyrightlink&utm_medium=dswb&utm_campaign=bdu). This notebook and its source code are released under the terms of the [MIT License](https://cognitiveclass.ai/mit-license/)."
   ]
  }
 ],
 "metadata": {
  "kernelspec": {
   "display_name": "R",
   "language": "R",
   "name": "ir"
  },
  "language_info": {
   "codemirror_mode": "r",
   "file_extension": ".r",
   "mimetype": "text/x-r-source",
   "name": "R",
   "pygments_lexer": "r",
   "version": "3.4.3"
  },
  "widgets": {
   "state": {},
   "version": "1.1.2"
  }
 },
 "nbformat": 4,
 "nbformat_minor": 0
}
