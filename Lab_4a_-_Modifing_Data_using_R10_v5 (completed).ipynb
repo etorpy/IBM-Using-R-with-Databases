{
 "cells": [
  {
   "cell_type": "markdown",
   "metadata": {},
   "source": [
    "<a href=\"https://www.bigdatauniversity.com\"><img src = \"https://ibm.box.com/shared/static/n4369i3g2fkg38kendjtcbw6hzm4vel5.png\" width = 100, align = \"center\"></a>\n",
    "# <center>Lab 4a: Modifying Data using R</center>"
   ]
  },
  {
   "cell_type": "markdown",
   "metadata": {},
   "source": [
    "Welcome to this Lab on modifying data using R."
   ]
  },
  {
   "cell_type": "markdown",
   "metadata": {},
   "source": [
    "<div class=\"alert alert-block alert-info\" style=\"margin-top: 20px\">\n",
    "<h3>Tasks</h3>\n",
    "<ol><ol><ol>\n",
    "<li><a href=\"#refa\">Pre-requisites</a></li>\n",
    "<li><a href=\"#refb\">Load the RODBC library</a></li>\n",
    "<li><a href=\"#refc\">Connect to your database</a></li>\n",
    "<li><a href=\"#refd\">Create a test table</a></li>\n",
    "<li><a href=\"#refe\">Create a dataframe</a></li>\n",
    "<li><a href=\"#reff\">Create a new dataframe</a></li>\n",
    "<li><a href=\"#refg\">Insert the dataframe into a NEW table</a></li>\n",
    "<li><a href=\"#refh\">Use sqlUdate() to enter new values</a></li>\n",
    "<li><a href=\"#refi\">Dis-connect</a></li>\n",
    "</ol></ol></ol>\n",
    "<br>\n",
    "Estimated Time Needed: <strong>30 min</strong>\n",
    "</div>"
   ]
  },
  {
   "cell_type": "markdown",
   "metadata": {},
   "source": [
    "<a id=\"refa\"></a>\n",
    "<h3>a. Pre-requisites</h3>"
   ]
  },
  {
   "cell_type": "markdown",
   "metadata": {},
   "source": [
    "In this lab we will use Jupyter Notebooks within CC Labs to modify data in a database using R.  Information about these services is provided in the lab setup."
   ]
  },
  {
   "cell_type": "markdown",
   "metadata": {},
   "source": [
    "<a id=\"refb\"></a>\n",
    "<h3>b. Load the RODBC library</h3>\n",
    "<br>\n",
    "Let's start by loading the <b>RODBC</b> library. Enter the code and execute it (Ctrl+Enter):"
   ]
  },
  {
   "cell_type": "code",
   "execution_count": 1,
   "metadata": {
    "collapsed": true
   },
   "outputs": [],
   "source": [
    "#load the RDBC library\n",
    "library(RODBC)"
   ]
  },
  {
   "cell_type": "markdown",
   "metadata": {},
   "source": [
    "<div align=\"left\">\n",
    "<a href=\"#tipb\" class=\"btn btn-default\" data-toggle=\"collapse\" >Click here to view/hide tip</a></div>\n",
    "<div id=\"tipb\" class=\"collapse\"><br>\n",
    "  \n",
    "```\n",
    "# Fill in the ...\n",
    "library(...)\n",
    "```\n",
    "  \n",
    "</div>"
   ]
  },
  {
   "cell_type": "markdown",
   "metadata": {},
   "source": [
    "<div align=\"left\">\n",
    "<a href=\"#solb\" class=\"btn btn-default\" data-toggle=\"collapse\" >Click here to view/hide solution</a></div>\n",
    "<div id=\"solb\" class=\"collapse\"><br>\n",
    "  \n",
    "```\n",
    "library(RODBC)\n",
    "```\n",
    "  \n",
    "</div>"
   ]
  },
  {
   "cell_type": "markdown",
   "metadata": {},
   "source": [
    "<a id=\"refc\"></a>\n",
    "<h3>c. Connect to your database</h3>\n",
    "Enter the values for your database connection."
   ]
  },
  {
   "cell_type": "code",
   "execution_count": 2,
   "metadata": {
    "collapsed": true
   },
   "outputs": [],
   "source": [
    "#Enter the values for your database connection\n",
    "#Ensure you update the values for hostname, uid, and pwd\n",
    "\n",
    "# The following is copied from Lab 2b\n",
    "# dsn_driver = \"com.ibm.db2.jcc.DB2Driver\"    # NOTE: This line is from Lab2a and is not in the Db2 credentials info\n",
    "dsn_driver <- \"{IBM DB2 ODBC Driver}\"         # NOTE: This appears to be an alternative way to specify the ODBC driver\n",
    "dsn_database = \"BLUDB\"            # e.g. \"BLUDB\"      # all of the credentials info is under the section (\"dsn\":) near the bottom\n",
    "dsn_hostname = \"dashdb-entry-yp-dal10-01.services.dal.bluemix.net\"   # e.g. replace <yourhostname> with your hostname, e.g., \"Db2 Warehouse01.datascientstworkbench.com\"\n",
    "dsn_port = \"50000\"                # e.g. \"50000\" \n",
    "dsn_protocol = \"TCPIP\"            # i.e. \"TCPIP\"\n",
    "dsn_uid = \"dash100497\"              # e.g. replace <userid> with your userid\n",
    "dsn_pwd = \"8_dKQbPO_j0o\"            # e.g. replace <password> with your password"
   ]
  },
  {
   "cell_type": "markdown",
   "metadata": {},
   "source": [
    "<div align=\"left\">\n",
    "<a href=\"#tipc1\" class=\"btn btn-default\" data-toggle=\"collapse\" >Click here to view/hide tip</a></div>\n",
    "<div id=\"tipc1\" class=\"collapse\"><br>\n",
    "  \n",
    "```\n",
    "# Fill in the ...\n",
    "dsn_driver <- \"{IBM ... ... Driver}\"\n",
    "dsn_database <- \"...\"            \n",
    "dsn_hostname <- \"YOUR.DASHDB.HOSTNAME\" \n",
    "dsn_port <- \"...\"               \n",
    "dsn_protocol <- \"...\"          \n",
    "dsn_... <- \"YOUR.USERNAME\"        \n",
    "dsn_... <- \"YOUR.PASSWORD\"      \n",
    "```\n",
    "  \n",
    "</div>"
   ]
  },
  {
   "cell_type": "markdown",
   "metadata": {},
   "source": [
    "<div align=\"left\">\n",
    "<a href=\"#solc1\" class=\"btn btn-default\" data-toggle=\"collapse\" >Click here to view/hide solution</a></div>\n",
    "<div id=\"solc1\" class=\"collapse\"><br>\n",
    "  \n",
    "```\n",
    "#Enter the values for your database connection\n",
    "#Ensure you update the values for hostname, uid, and pwd\n",
    "dsn_driver <- \"{IBM DB2 ODBC Driver}\"\n",
    "dsn_database <- \"BLUDB\"            # e.g. \"BLUDB\"\n",
    "dsn_hostname <- \"YOUR.DASHDB.HOSTNAME\" # e.g.: \"awh-yp-small03.services.dal.bluemix.net\"\n",
    "dsn_port <- \"50000\"                # e.g. \"50000\" \n",
    "dsn_protocol <- \"TCPIP\"            # i.e. \"TCPIP\"\n",
    "dsn_uid <- \"YOUR.USERNAME\"         # e.g. \"dash104434\"\n",
    "dsn_pwd <- \"YOUR.PASSWORD\"         # e.g. \"7dBZ39xN6$o0JiX!m\"\n",
    "```\n",
    "  \n",
    "</div>"
   ]
  },
  {
   "cell_type": "markdown",
   "metadata": {},
   "source": [
    "Create a connection string and connect to the database."
   ]
  },
  {
   "cell_type": "code",
   "execution_count": 3,
   "metadata": {
    "collapsed": false
   },
   "outputs": [
    {
     "data": {
      "text/plain": [
       "RODBC Connection 1\n",
       "Details:\n",
       "  case=nochange\n",
       "  DRIVER={IBM DB2 ODBC DRIVER}\n",
       "  UID=dash100497\n",
       "  PWD=******\n",
       "  DATABASE=BLUDB\n",
       "  HOSTNAME=dashdb-entry-yp-dal10-01.services.dal.bluemix.net\n",
       "  PORT=50000\n",
       "  PROTOCOL=TCPIP"
      ]
     },
     "metadata": {},
     "output_type": "display_data"
    }
   ],
   "source": [
    "#Create a connection string and connect to the database\n",
    "conn_path <- paste(\"DRIVER=\",dsn_driver,\n",
    "                  \";DATABASE=\",dsn_database,\n",
    "                  \";HOSTNAME=\",dsn_hostname,\n",
    "                  \";PORT=\",dsn_port,\n",
    "                  \";PROTOCOL=\",dsn_protocol,\n",
    "                  \";UID=\",dsn_uid,\n",
    "                  \";PWD=\",dsn_pwd,sep=\"\")\n",
    "conn <- odbcDriverConnect(conn_path)\n",
    "conn"
   ]
  },
  {
   "cell_type": "markdown",
   "metadata": {},
   "source": [
    "<div align=\"left\">\n",
    "<a href=\"#tipc2\" class=\"btn btn-default\" data-toggle=\"collapse\" >Click here to view/hide tip</a></div>\n",
    "<div id=\"tipc2\" class=\"collapse\"><br>\n",
    "  \n",
    "```\n",
    "# Fill in the ...\n",
    "#Create a connection string and connect to the database\n",
    "conn_... <- paste(\"DRIVER=\",...,\n",
    "                  \";DATABASE=\",...,\n",
    "                  \";HOSTNAME=\",...,\n",
    "                  \";PORT=\",...,\n",
    "                  \";PROTOCOL=\",...,\n",
    "                  \";UID=\",dsn_...,\n",
    "                  \";PWD=\",dsn_...,sep=\"\")\n",
    "conn <- ...DriverConnect(conn_...)\n",
    "conn\n",
    "```\n",
    "  \n",
    "</div>"
   ]
  },
  {
   "cell_type": "markdown",
   "metadata": {},
   "source": [
    "<div align=\"left\">\n",
    "<a href=\"#solc2\" class=\"btn btn-default\" data-toggle=\"collapse\" >Click here to view/hide solution</a></div>\n",
    "<div id=\"solc2\" class=\"collapse\"><br>\n",
    "  \n",
    "```\n",
    "#Create a connection string and connect to the database\n",
    "conn_path <- paste(\"DRIVER=\",dsn_driver,\n",
    "                  \";DATABASE=\",dsn_database,\n",
    "                  \";HOSTNAME=\",dsn_hostname,\n",
    "                  \";PORT=\",dsn_port,\n",
    "                  \";PROTOCOL=\",dsn_protocol,\n",
    "                  \";UID=\",dsn_uid,\n",
    "                  \";PWD=\",dsn_pwd,sep=\"\")\n",
    "conn <- odbcDriverConnect(conn_path)\n",
    "conn\n",
    "```\n",
    "  \n",
    "</div>"
   ]
  },
  {
   "cell_type": "markdown",
   "metadata": {},
   "source": [
    "View the database and driver information."
   ]
  },
  {
   "cell_type": "code",
   "execution_count": 4,
   "metadata": {
    "collapsed": false
   },
   "outputs": [
    {
     "data": {
      "text/html": [
       "<strong>DBMS_Name:</strong> 'DB2/LINUXX8664'"
      ],
      "text/latex": [
       "\\textbf{DBMS\\textbackslash{}\\_Name:} 'DB2/LINUXX8664'"
      ],
      "text/markdown": [
       "**DBMS_Name:** 'DB2/LINUXX8664'"
      ],
      "text/plain": [
       "       DBMS_Name \n",
       "\"DB2/LINUXX8664\" "
      ]
     },
     "metadata": {},
     "output_type": "display_data"
    },
    {
     "data": {
      "text/html": [
       "<strong>DBMS_Ver:</strong> '11.01.0009'"
      ],
      "text/latex": [
       "\\textbf{DBMS\\textbackslash{}\\_Ver:} '11.01.0009'"
      ],
      "text/markdown": [
       "**DBMS_Ver:** '11.01.0009'"
      ],
      "text/plain": [
       "    DBMS_Ver \n",
       "\"11.01.0009\" "
      ]
     },
     "metadata": {},
     "output_type": "display_data"
    },
    {
     "data": {
      "text/html": [
       "<strong>Driver_ODBC_Ver:</strong> '03.51'"
      ],
      "text/latex": [
       "\\textbf{Driver\\textbackslash{}\\_ODBC\\textbackslash{}\\_Ver:} '03.51'"
      ],
      "text/markdown": [
       "**Driver_ODBC_Ver:** '03.51'"
      ],
      "text/plain": [
       "Driver_ODBC_Ver \n",
       "        \"03.51\" "
      ]
     },
     "metadata": {},
     "output_type": "display_data"
    }
   ],
   "source": [
    "#View database and driver information\n",
    "sql.info <- sqlTypeInfo(conn)\n",
    "conn.info <- odbcGetInfo(conn)\n",
    "conn.info[\"DBMS_Name\"]\n",
    "conn.info[\"DBMS_Ver\"]\n",
    "conn.info[\"Driver_ODBC_Ver\"]"
   ]
  },
  {
   "cell_type": "markdown",
   "metadata": {},
   "source": [
    "<div align=\"left\">\n",
    "<a href=\"#tipc3\" class=\"btn btn-default\" data-toggle=\"collapse\" >Click here to view/hide tip</a></div>\n",
    "<div id=\"tipc3\" class=\"collapse\"><br>\n",
    "  \n",
    "```\n",
    "# Fill in the ...\n",
    "sql.... <- sql...(conn)\n",
    "conn.... <- odbc...(conn)\n",
    "conn....[\"..._Name\"]\n",
    "conn....[\"..._Ver\"]\n",
    "conn....[\"..._ODBC_...\"]\n",
    "```\n",
    "  \n",
    "</div>"
   ]
  },
  {
   "cell_type": "markdown",
   "metadata": {},
   "source": [
    "<div align=\"left\">\n",
    "<a href=\"#solc3\" class=\"btn btn-default\" data-toggle=\"collapse\" >Click here to view/hide solution</a></div>\n",
    "<div id=\"solc3\" class=\"collapse\"><br>\n",
    "  \n",
    "```\n",
    "#View database and driver information\n",
    "sql.info <- sqlTypeInfo(conn)\n",
    "conn.info <- odbcGetInfo(conn)\n",
    "conn.info[\"DBMS_Name\"]\n",
    "conn.info[\"DBMS_Ver\"]\n",
    "conn.info[\"Driver_ODBC_Ver\"]\n",
    "```\n",
    "  \n",
    "</div>"
   ]
  },
  {
   "cell_type": "markdown",
   "metadata": {},
   "source": [
    "Now drop the table in case you have already created the table and are re-running this cell."
   ]
  },
  {
   "cell_type": "code",
   "execution_count": 5,
   "metadata": {
    "collapsed": true
   },
   "outputs": [
    {
     "ename": "ERROR",
     "evalue": "Error in odbcTableExists(channel, sqtable, abort = errors): ‘TESTR’: table not found on channel\n",
     "execution_count": 5,
     "output_type": "error",
     "traceback": [
      "Error in odbcTableExists(channel, sqtable, abort = errors): ‘TESTR’: table not found on channel\nTraceback:\n",
      "1. sqlDrop(conn, \"TESTR\")",
      "2. odbcTableExists(channel, sqtable, abort = errors)",
      "3. stop(sQuote(tablename), \": table not found on channel\")"
     ]
    }
   ],
   "source": [
    "#Drop the table in case you have already created the table and are re-running this cell\n",
    "# NOTE: If this is the fist time running this code, it should produce an error.\n",
    "dropttab <- sqlDrop(conn, \"TESTR\")"
   ]
  },
  {
   "cell_type": "markdown",
   "metadata": {},
   "source": [
    "<div align=\"left\">\n",
    "<a href=\"#tipc4\" class=\"btn btn-default\" data-toggle=\"collapse\" >Click here to view/hide tip</a></div>\n",
    "<div id=\"tipc4\" class=\"collapse\"><br>\n",
    "  \n",
    "```\n",
    "# Fill in the ...\n",
    "...ttab <- sql...(conn, \"...\")\n",
    "```\n",
    "  \n",
    "</div>"
   ]
  },
  {
   "cell_type": "markdown",
   "metadata": {},
   "source": [
    "<div align=\"left\">\n",
    "<a href=\"#solc4\" class=\"btn btn-default\" data-toggle=\"collapse\" >Click here to view/hide solution</a></div>\n",
    "<div id=\"solc4\" class=\"collapse\"><br>\n",
    "  \n",
    "```\n",
    "#Drop the table in case you have already created the table and are re-running this cell\n",
    "dropttab <- sqlDrop(conn, \"TESTR\")\n",
    "```\n",
    "  \n",
    "</div>"
   ]
  },
  {
   "cell_type": "markdown",
   "metadata": {},
   "source": [
    "<a id=\"refd\"></a>\n",
    "<h3>d. Create a test table</h3>"
   ]
  },
  {
   "cell_type": "code",
   "execution_count": 6,
   "metadata": {
    "collapsed": true
   },
   "outputs": [],
   "source": [
    "#Create a test table\n",
    "createtab <- sqlQuery(conn, \"CREATE TABLE TESTR (ID INTEGER PRIMARY KEY NOT NULL, NAME CHAR(6))\", errors=FALSE)"
   ]
  },
  {
   "cell_type": "markdown",
   "metadata": {},
   "source": [
    "<div align=\"left\">\n",
    "<a href=\"#tipd1\" class=\"btn btn-default\" data-toggle=\"collapse\" >Click here to view/hide tip</a></div>\n",
    "<div id=\"tipd1\" class=\"collapse\"><br>\n",
    "  \n",
    "```\n",
    "# Fill in the ...\n",
    "create... <- sql...(conn, \"CREATE ... ... (ID ... PRIMARY ... NOT ..., NAME ...(6))\", ...=FALSE)\n",
    "```\n",
    "  \n",
    "</div>"
   ]
  },
  {
   "cell_type": "markdown",
   "metadata": {},
   "source": [
    "<div align=\"left\">\n",
    "<a href=\"#sold1\" class=\"btn btn-default\" data-toggle=\"collapse\" >Click here to view/hide solution</a></div>\n",
    "<div id=\"sold1\" class=\"collapse\"><br>\n",
    "  \n",
    "```\n",
    "#Create a test table\n",
    "createtab <- sqlQuery(conn, \"CREATE TABLE TESTR (ID INTEGER PRIMARY KEY NOT NULL, NAME CHAR(6))\", errors=FALSE)\n",
    "```\n",
    "  \n",
    "</div>"
   ]
  },
  {
   "cell_type": "markdown",
   "metadata": {},
   "source": [
    "Perform error checking to see if the table was created successfully."
   ]
  },
  {
   "cell_type": "code",
   "execution_count": 7,
   "metadata": {
    "collapsed": false
   },
   "outputs": [
    {
     "name": "stdout",
     "output_type": "stream",
     "text": [
      "Table created successfully.\n"
     ]
    }
   ],
   "source": [
    "#Perform error checking to see if the table was created successfully\n",
    "if(createtab==-1){\n",
    "      cat(\"An error has occurred:\\n\")\n",
    "      err.msg <- odbcGetErrMsg(conn)\n",
    "      for (error in err.msg) {\n",
    "        cat(error,\"\\n\")\n",
    "      } \n",
    "      } else {\n",
    "          cat (\"Table created successfully.\\n\")\n",
    "}"
   ]
  },
  {
   "cell_type": "markdown",
   "metadata": {},
   "source": [
    "<div align=\"left\">\n",
    "<a href=\"#tipd2\" class=\"btn btn-default\" data-toggle=\"collapse\" >Click here to view/hide tip</a></div>\n",
    "<div id=\"tipd2\" class=\"collapse\"><br>\n",
    "  \n",
    "```\n",
    "# Fill in the ...\n",
    "if(create...==...){\n",
    "      ...(\"An ... has ...:\\n\")\n",
    "      ....msg <- odbc...(conn)\n",
    "      for (error in ....msg) {\n",
    "        ...(error,\"\\n\")\n",
    "      } \n",
    "      } else {\n",
    "          ... (\"Table ... successfully.\\n\")\n",
    "}\n",
    "```\n",
    "  \n",
    "</div>"
   ]
  },
  {
   "cell_type": "markdown",
   "metadata": {},
   "source": [
    "<div align=\"left\">\n",
    "<a href=\"#sold2\" class=\"btn btn-default\" data-toggle=\"collapse\" >Click here to view/hide solution</a></div>\n",
    "<div id=\"sold2\" class=\"collapse\"><br>\n",
    "  \n",
    "```\n",
    "#Perform error checking to see if the table was created successfully\n",
    "if(createtab==-1){\n",
    "      cat(\"An error has occurred:\\n\")\n",
    "      err.msg <- odbcGetErrMsg(conn)\n",
    "      for (error in err.msg) {\n",
    "        cat(error,\"\\n\")\n",
    "      } \n",
    "      } else {\n",
    "          cat (\"Table created successfully.\\n\")\n",
    "}\n",
    "```\n",
    "  \n",
    "</div>"
   ]
  },
  {
   "cell_type": "markdown",
   "metadata": {},
   "source": [
    "Get the column information for the newly created test table."
   ]
  },
  {
   "cell_type": "code",
   "execution_count": 8,
   "metadata": {
    "collapsed": false
   },
   "outputs": [
    {
     "name": "stdout",
     "output_type": "stream",
     "text": [
      " COLUMN_NAME TYPE_NAME COLUMN_SIZE IS_NULLABLE\n",
      "          ID   INTEGER          10          NO\n",
      "        NAME      CHAR           6         YES\n"
     ]
    }
   ],
   "source": [
    "#Get column information for the newly created test table\n",
    "testcol.detail <- sqlColumns(conn, \"TESTR\")\n",
    "print(testcol.detail[c(4,6,7,18)], row.names=FALSE)"
   ]
  },
  {
   "cell_type": "markdown",
   "metadata": {},
   "source": [
    "<div align=\"left\">\n",
    "<a href=\"#tipd3\" class=\"btn btn-default\" data-toggle=\"collapse\" >Click here to view/hide tip</a></div>\n",
    "<div id=\"tipd3\" class=\"collapse\"><br>\n",
    "  \n",
    "```\n",
    "# Fill in the ...\n",
    "test....detail <- sql...(conn, \"...\")\n",
    "print(test....detail[c(...,...,7,...)], ....names=FALSE)\n",
    "```\n",
    "  \n",
    "</div>"
   ]
  },
  {
   "cell_type": "markdown",
   "metadata": {},
   "source": [
    "<div align=\"left\">\n",
    "<a href=\"#sold3\" class=\"btn btn-default\" data-toggle=\"collapse\" >Click here to view/hide solution</a></div>\n",
    "<div id=\"sold3\" class=\"collapse\"><br>\n",
    "  \n",
    "```\n",
    "#Get column information for the newly created test table\n",
    "testcol.detail <- sqlColumns(conn, \"TESTR\")\n",
    "print(testcol.detail[c(4,6,7,18)], row.names=FALSE)\n",
    "```\n",
    "  \n",
    "</div>"
   ]
  },
  {
   "cell_type": "markdown",
   "metadata": {},
   "source": [
    "<a id=\"refe\"></a>\n",
    "<h3>e. Create a dataframe</h3>\n",
    "<p>Create a dataframe with sample values."
   ]
  },
  {
   "cell_type": "code",
   "execution_count": 9,
   "metadata": {
    "collapsed": false
   },
   "outputs": [
    {
     "data": {
      "text/html": [
       "<table>\n",
       "<thead><tr><th scope=col>id</th><th scope=col>name</th></tr></thead>\n",
       "<tbody>\n",
       "\t<tr><td>1     </td><td>BAT   </td></tr>\n",
       "\t<tr><td>2     </td><td>CAT   </td></tr>\n",
       "\t<tr><td>3     </td><td>DOG   </td></tr>\n",
       "</tbody>\n",
       "</table>\n"
      ],
      "text/latex": [
       "\\begin{tabular}{r|ll}\n",
       " id & name\\\\\n",
       "\\hline\n",
       "\t 1      & BAT   \\\\\n",
       "\t 2      & CAT   \\\\\n",
       "\t 3      & DOG   \\\\\n",
       "\\end{tabular}\n"
      ],
      "text/markdown": [
       "\n",
       "id | name | \n",
       "|---|---|---|\n",
       "| 1      | BAT    | \n",
       "| 2      | CAT    | \n",
       "| 3      | DOG    | \n",
       "\n",
       "\n"
      ],
      "text/plain": [
       "  id name  \n",
       "1 1  BAT   \n",
       "2 2  CAT   \n",
       "3 3  DOG   "
      ]
     },
     "metadata": {},
     "output_type": "display_data"
    }
   ],
   "source": [
    "#Create a dataframe with sample values\n",
    "#view the contents of the dataframe\n",
    "id <- c(1, 2, 3)\n",
    "name <- c(\"BAT   \", \"CAT   \", \"DOG   \")\n",
    "testrdf <- data.frame(id, name)\n",
    "#view the contents of the dataframe\n",
    "testrdf"
   ]
  },
  {
   "cell_type": "markdown",
   "metadata": {},
   "source": [
    "<div align=\"left\">\n",
    "<a href=\"#tipe1\" class=\"btn btn-default\" data-toggle=\"collapse\" >Click here to view/hide tip</a></div>\n",
    "<div id=\"tipe1\" class=\"collapse\"><br>\n",
    "  \n",
    "```\n",
    "# Fill in the ...\n",
    "id <- c(1, 2, 3)\n",
    "name <- c(\"...\", \"...\", \"...\")\n",
    "test... <- ....frame(..., name)\n",
    "test...\n",
    "```\n",
    "  \n",
    "</div>"
   ]
  },
  {
   "cell_type": "markdown",
   "metadata": {},
   "source": [
    "<div align=\"left\">\n",
    "<a href=\"#sole1\" class=\"btn btn-default\" data-toggle=\"collapse\" >Click here to view/hide solution</a></div>\n",
    "<div id=\"sole1\" class=\"collapse\"><br>\n",
    "  \n",
    "```\n",
    "#Create a dataframe with sample values\n",
    "id <- c(1, 2, 3)\n",
    "name <- c(\"BAT   \", \"CAT   \", \"DOG   \")\n",
    "testrdf <- data.frame(id, name)\n",
    "#view the contents of the dataframe\n",
    "testrdf\n",
    "```\n",
    "  \n",
    "</div>"
   ]
  },
  {
   "cell_type": "markdown",
   "metadata": {},
   "source": [
    "Save the contents of the test dataframe into the test table."
   ]
  },
  {
   "cell_type": "code",
   "execution_count": 10,
   "metadata": {
    "collapsed": true
   },
   "outputs": [],
   "source": [
    "#save the contents of the test dataframe into the test table\n",
    "sqlSave(conn, testrdf, \"TESTR\", append=TRUE, fast=FALSE, rownames=FALSE, colnames=FALSE)"
   ]
  },
  {
   "cell_type": "markdown",
   "metadata": {},
   "source": [
    "<div align=\"left\">\n",
    "<a href=\"#tipe2\" class=\"btn btn-default\" data-toggle=\"collapse\" >Click here to view/hide tip</a></div>\n",
    "<div id=\"tipe2\" class=\"collapse\"><br>\n",
    "  \n",
    "```\n",
    "# Fill in the ...\n",
    "sql...(conn, test..., \"...\", ...=TRUE, fast=..., ...names=FALSE, ...names=FALSE)\n",
    "```\n",
    "  \n",
    "</div>"
   ]
  },
  {
   "cell_type": "markdown",
   "metadata": {},
   "source": [
    "<div align=\"left\">\n",
    "<a href=\"#sole2\" class=\"btn btn-default\" data-toggle=\"collapse\" >Click here to view/hide solution</a></div>\n",
    "<div id=\"sole2\" class=\"collapse\"><br>\n",
    "  \n",
    "```\n",
    "#save the contents of the test dataframe into the test table\n",
    "sqlSave(conn, testrdf, \"TESTR\", append=TRUE, fast=FALSE, rownames=FALSE, colnames=FALSE)\n",
    "```\n",
    "  \n",
    "</div>"
   ]
  },
  {
   "cell_type": "markdown",
   "metadata": {},
   "source": [
    "Check that the contents were saved in the database by fetching the contents of the table. "
   ]
  },
  {
   "cell_type": "code",
   "execution_count": 11,
   "metadata": {
    "collapsed": false
   },
   "outputs": [
    {
     "data": {
      "text/html": [
       "<table>\n",
       "<thead><tr><th scope=col>ID</th><th scope=col>NAME</th></tr></thead>\n",
       "<tbody>\n",
       "\t<tr><td>1     </td><td>BAT   </td></tr>\n",
       "\t<tr><td>2     </td><td>CAT   </td></tr>\n",
       "\t<tr><td>3     </td><td>DOG   </td></tr>\n",
       "</tbody>\n",
       "</table>\n"
      ],
      "text/latex": [
       "\\begin{tabular}{r|ll}\n",
       " ID & NAME\\\\\n",
       "\\hline\n",
       "\t 1      & BAT   \\\\\n",
       "\t 2      & CAT   \\\\\n",
       "\t 3      & DOG   \\\\\n",
       "\\end{tabular}\n"
      ],
      "text/markdown": [
       "\n",
       "ID | NAME | \n",
       "|---|---|---|\n",
       "| 1      | BAT    | \n",
       "| 2      | CAT    | \n",
       "| 3      | DOG    | \n",
       "\n",
       "\n"
      ],
      "text/plain": [
       "  ID NAME  \n",
       "1 1  BAT   \n",
       "2 2  CAT   \n",
       "3 3  DOG   "
      ]
     },
     "metadata": {},
     "output_type": "display_data"
    }
   ],
   "source": [
    "#check the contents were saved in the database by fetching the contents of the table\n",
    "testrdb <- sqlFetch(conn, \"TESTR\", stringsAsFactors=FALSE)\n",
    "testrdb"
   ]
  },
  {
   "cell_type": "markdown",
   "metadata": {},
   "source": [
    "<div align=\"left\">\n",
    "<a href=\"#tipe3\" class=\"btn btn-default\" data-toggle=\"collapse\" >Click here to view/hide tip</a></div>\n",
    "<div id=\"tipe3\" class=\"collapse\"><br>\n",
    "  \n",
    "```\n",
    "# Fill in the ...\n",
    "test... <- sql...(conn, \"...\", strings...=FALSE)\n",
    "test...\n",
    "```\n",
    "  \n",
    "</div>"
   ]
  },
  {
   "cell_type": "markdown",
   "metadata": {},
   "source": [
    "<div align=\"left\">\n",
    "<a href=\"#sole3\" class=\"btn btn-default\" data-toggle=\"collapse\" >Click here to view/hide solution</a></div>\n",
    "<div id=\"sole3\" class=\"collapse\"><br>\n",
    "  \n",
    "```\n",
    "#check the contents were saved in the database by fetching the contents of the table\n",
    "testrdb <- sqlFetch(conn, \"TESTR\", stringsAsFactors=FALSE)\n",
    "testrdb\n",
    "```\n",
    "  \n",
    "</div>"
   ]
  },
  {
   "cell_type": "markdown",
   "metadata": {},
   "source": [
    "Find the ID of the last row in the table and increment it."
   ]
  },
  {
   "cell_type": "code",
   "execution_count": 12,
   "metadata": {
    "collapsed": false
   },
   "outputs": [
    {
     "data": {
      "text/html": [
       "4"
      ],
      "text/latex": [
       "4"
      ],
      "text/markdown": [
       "4"
      ],
      "text/plain": [
       "[1] 4"
      ]
     },
     "metadata": {},
     "output_type": "display_data"
    }
   ],
   "source": [
    "#find the ID of last row in the table and increment it\n",
    "newID <- nrow(testrdb) + 1\n",
    "newID"
   ]
  },
  {
   "cell_type": "markdown",
   "metadata": {},
   "source": [
    "<div align=\"left\">\n",
    "<a href=\"#tipe4\" class=\"btn btn-default\" data-toggle=\"collapse\" >Click here to view/hide tip</a></div>\n",
    "<div id=\"tipe4\" class=\"collapse\"><br>\n",
    "  \n",
    "```\n",
    "# Fill in the ...\n",
    "new... <- n...(test...) + ...\n",
    "new...\n",
    "```\n",
    "  \n",
    "</div>"
   ]
  },
  {
   "cell_type": "markdown",
   "metadata": {},
   "source": [
    "<div align=\"left\">\n",
    "<a href=\"#sole4\" class=\"btn btn-default\" data-toggle=\"collapse\" >Click here to view/hide solution</a></div>\n",
    "<div id=\"sole4\" class=\"collapse\"><br>\n",
    "  \n",
    "```\n",
    "#find the ID of last row in the table and increment it\n",
    "newID <- nrow(testrdb) + 1\n",
    "newID\n",
    "```\n",
    "  \n",
    "</div>"
   ]
  },
  {
   "cell_type": "markdown",
   "metadata": {},
   "source": [
    "<a id=\"reff\"></a>\n",
    "<h3>f. Create a new dataframe</h3>\n",
    "<p>Create a dataframe for the new row with the incremented ID.</p>"
   ]
  },
  {
   "cell_type": "code",
   "execution_count": 13,
   "metadata": {
    "collapsed": false
   },
   "outputs": [
    {
     "data": {
      "text/html": [
       "<table>\n",
       "<thead><tr><th scope=col>ID</th><th scope=col>NAME</th></tr></thead>\n",
       "<tbody>\n",
       "\t<tr><td>4     </td><td>FOG   </td></tr>\n",
       "</tbody>\n",
       "</table>\n"
      ],
      "text/latex": [
       "\\begin{tabular}{r|ll}\n",
       " ID & NAME\\\\\n",
       "\\hline\n",
       "\t 4      & FOG   \\\\\n",
       "\\end{tabular}\n"
      ],
      "text/markdown": [
       "\n",
       "ID | NAME | \n",
       "|---|\n",
       "| 4      | FOG    | \n",
       "\n",
       "\n"
      ],
      "text/plain": [
       "  ID NAME  \n",
       "1 4  FOG   "
      ]
     },
     "metadata": {},
     "output_type": "display_data"
    }
   ],
   "source": [
    "#Create a dataframe for the new row with the incremented ID\n",
    "newrow <- data.frame(\"ID\"=newID, \"NAME\"=\"FOG   \")\n",
    "newrow"
   ]
  },
  {
   "cell_type": "markdown",
   "metadata": {},
   "source": [
    "<div align=\"left\">\n",
    "<a href=\"#tipf1\" class=\"btn btn-default\" data-toggle=\"collapse\" >Click here to view/hide tip</a></div>\n",
    "<div id=\"tipf1\" class=\"collapse\"><br>\n",
    "  \n",
    "```\n",
    "# Fill in the ...\n",
    "new... <- data....(\"ID\"=...ID, \"...\"=\"FOG   \")\n",
    "new...\n",
    "```\n",
    "  \n",
    "</div>"
   ]
  },
  {
   "cell_type": "markdown",
   "metadata": {},
   "source": [
    "<div align=\"left\">\n",
    "<a href=\"#solf1\" class=\"btn btn-default\" data-toggle=\"collapse\" >Click here to view/hide solution</a></div>\n",
    "<div id=\"solf1\" class=\"collapse\"><br>\n",
    "  \n",
    "```\n",
    "#Create a dataframe for the new row with the incremented ID\n",
    "newrow <- data.frame(\"ID\"=newID, \"NAME\"=\"FOG   \")\n",
    "newrow\n",
    "```\n",
    "  \n",
    "</div>"
   ]
  },
  {
   "cell_type": "markdown",
   "metadata": {},
   "source": [
    "Now let's insert the new row in the table; note that append is TRUE."
   ]
  },
  {
   "cell_type": "code",
   "execution_count": 14,
   "metadata": {
    "collapsed": true
   },
   "outputs": [],
   "source": [
    "#Now let's insert the new row in the table\n",
    "#Note below append=TRUE\n",
    "sqlSave(conn, newrow, \"TESTR\", append=TRUE, fast=FALSE, rownames=FALSE, colnames=FALSE)"
   ]
  },
  {
   "cell_type": "markdown",
   "metadata": {},
   "source": [
    "<div align=\"left\">\n",
    "<a href=\"#tipf2\" class=\"btn btn-default\" data-toggle=\"collapse\" >Click here to view/hide tip</a></div>\n",
    "<div id=\"tipf2\" class=\"collapse\"><br>\n",
    "  \n",
    "```\n",
    "# Fill in the ...\n",
    "sql...(conn, new..., \"...\", ...=TRUE, fast=..., row...=FALSE, ...names=FALSE)\n",
    "```\n",
    "  \n",
    "</div>"
   ]
  },
  {
   "cell_type": "markdown",
   "metadata": {},
   "source": [
    "<div align=\"left\">\n",
    "<a href=\"#solf2\" class=\"btn btn-default\" data-toggle=\"collapse\" >Click here to view/hide solution</a></div>\n",
    "<div id=\"solf2\" class=\"collapse\"><br>\n",
    "  \n",
    "```\n",
    "#Now let's insert the new row in the table\n",
    "#Note below append=TRUE\n",
    "sqlSave(conn, newrow, \"TESTR\", append=TRUE, fast=FALSE, rownames=FALSE, colnames=FALSE)\n",
    "```\n",
    "  \n",
    "</div>"
   ]
  },
  {
   "cell_type": "markdown",
   "metadata": {},
   "source": [
    "Let's retrieve the table contents and see if the new row was added."
   ]
  },
  {
   "cell_type": "code",
   "execution_count": 15,
   "metadata": {
    "collapsed": false
   },
   "outputs": [
    {
     "data": {
      "text/html": [
       "<table>\n",
       "<thead><tr><th scope=col>ID</th><th scope=col>NAME</th></tr></thead>\n",
       "<tbody>\n",
       "\t<tr><td>1     </td><td>BAT   </td></tr>\n",
       "\t<tr><td>2     </td><td>CAT   </td></tr>\n",
       "\t<tr><td>3     </td><td>DOG   </td></tr>\n",
       "\t<tr><td>4     </td><td>FOG   </td></tr>\n",
       "</tbody>\n",
       "</table>\n"
      ],
      "text/latex": [
       "\\begin{tabular}{r|ll}\n",
       " ID & NAME\\\\\n",
       "\\hline\n",
       "\t 1      & BAT   \\\\\n",
       "\t 2      & CAT   \\\\\n",
       "\t 3      & DOG   \\\\\n",
       "\t 4      & FOG   \\\\\n",
       "\\end{tabular}\n"
      ],
      "text/markdown": [
       "\n",
       "ID | NAME | \n",
       "|---|---|---|---|\n",
       "| 1      | BAT    | \n",
       "| 2      | CAT    | \n",
       "| 3      | DOG    | \n",
       "| 4      | FOG    | \n",
       "\n",
       "\n"
      ],
      "text/plain": [
       "  ID NAME  \n",
       "1 1  BAT   \n",
       "2 2  CAT   \n",
       "3 3  DOG   \n",
       "4 4  FOG   "
      ]
     },
     "metadata": {},
     "output_type": "display_data"
    }
   ],
   "source": [
    "#Lets retrieve the table contents and see if the new row was added\n",
    "testrdbnew <- sqlFetch(conn, \"TESTR\", stringsAsFactors=FALSE)\n",
    "testrdbnew"
   ]
  },
  {
   "cell_type": "markdown",
   "metadata": {},
   "source": [
    "<div align=\"left\">\n",
    "<a href=\"#tipf3\" class=\"btn btn-default\" data-toggle=\"collapse\" >Click here to view/hide tip</a></div>\n",
    "<div id=\"tipf3\" class=\"collapse\"><br>\n",
    "  \n",
    "```\n",
    "# Fill in the ...\n",
    "#Lets retrieve the table contents and see if the new row was added\n",
    "test... <- sql...(conn, \"...\", strings...=FALSE)\n",
    "test...\n",
    "```\n",
    "  \n",
    "</div>"
   ]
  },
  {
   "cell_type": "markdown",
   "metadata": {},
   "source": [
    "<div align=\"left\">\n",
    "<a href=\"#solf3\" class=\"btn btn-default\" data-toggle=\"collapse\" >Click here to view/hide solution</a></div>\n",
    "<div id=\"solf3\" class=\"collapse\"><br>\n",
    "  \n",
    "```\n",
    "#Lets retrieve the table contents and see if the new row was added\n",
    "testrdbnew <- sqlFetch(conn, \"TESTR\", stringsAsFactors=FALSE)\n",
    "testrdbnew\n",
    "```\n",
    "  \n",
    "</div>"
   ]
  },
  {
   "cell_type": "markdown",
   "metadata": {},
   "source": [
    "Let's add a few more rows to the database; first create a dataframe with a couple more rows."
   ]
  },
  {
   "cell_type": "code",
   "execution_count": 16,
   "metadata": {
    "collapsed": false
   },
   "outputs": [
    {
     "data": {
      "text/html": [
       "<table>\n",
       "<thead><tr><th scope=col>ID</th><th scope=col>NAME</th></tr></thead>\n",
       "<tbody>\n",
       "\t<tr><td>5     </td><td>JOG   </td></tr>\n",
       "\t<tr><td>6     </td><td>LOG   </td></tr>\n",
       "</tbody>\n",
       "</table>\n"
      ],
      "text/latex": [
       "\\begin{tabular}{r|ll}\n",
       " ID & NAME\\\\\n",
       "\\hline\n",
       "\t 5      & JOG   \\\\\n",
       "\t 6      & LOG   \\\\\n",
       "\\end{tabular}\n"
      ],
      "text/markdown": [
       "\n",
       "ID | NAME | \n",
       "|---|---|\n",
       "| 5      | JOG    | \n",
       "| 6      | LOG    | \n",
       "\n",
       "\n"
      ],
      "text/plain": [
       "  ID NAME  \n",
       "1 5  JOG   \n",
       "2 6  LOG   "
      ]
     },
     "metadata": {},
     "output_type": "display_data"
    }
   ],
   "source": [
    "#Lets add a few more rows to the database\n",
    "#First create a dataframe with couple more rows\n",
    "ID <- c(5,6)\n",
    "NAME <- c(\"JOG   \", \"LOG   \")\n",
    "newrows <- data.frame(ID, NAME)\n",
    "newrows"
   ]
  },
  {
   "cell_type": "markdown",
   "metadata": {},
   "source": [
    "<div align=\"left\">\n",
    "<a href=\"#tipf4\" class=\"btn btn-default\" data-toggle=\"collapse\" >Click here to view/hide tip</a></div>\n",
    "<div id=\"tipf4\" class=\"collapse\"><br>\n",
    "  \n",
    "```\n",
    "# Fill in the ...\n",
    "ID <- c(...,...)\n",
    "NAME <- c(\"...   \", \"...   \")\n",
    "new... <- data....(..., NAME)\n",
    "new...\n",
    "```\n",
    "  \n",
    "</div>"
   ]
  },
  {
   "cell_type": "markdown",
   "metadata": {},
   "source": [
    "<div align=\"left\">\n",
    "<a href=\"#solf4\" class=\"btn btn-default\" data-toggle=\"collapse\" >Click here to view/hide solution</a></div>\n",
    "<div id=\"solf4\" class=\"collapse\"><br>\n",
    "  \n",
    "```\n",
    "#Lets add a few more rows to the database\n",
    "#First create a dataframe with couple more rows\n",
    "ID <- c(5,6)\n",
    "NAME <- c(\"JOG   \", \"LOG   \")\n",
    "newrows <- data.frame(ID, NAME)\n",
    "newrows\n",
    "```\n",
    "  \n",
    "</div>"
   ]
  },
  {
   "cell_type": "markdown",
   "metadata": {},
   "source": [
    "Add these new rows to the dataframe we retrieved from the database."
   ]
  },
  {
   "cell_type": "code",
   "execution_count": 17,
   "metadata": {
    "collapsed": false
   },
   "outputs": [
    {
     "data": {
      "text/html": [
       "<table>\n",
       "<thead><tr><th scope=col>ID</th><th scope=col>NAME</th></tr></thead>\n",
       "<tbody>\n",
       "\t<tr><td>1     </td><td>BAT   </td></tr>\n",
       "\t<tr><td>2     </td><td>CAT   </td></tr>\n",
       "\t<tr><td>3     </td><td>DOG   </td></tr>\n",
       "\t<tr><td>4     </td><td>FOG   </td></tr>\n",
       "\t<tr><td>5     </td><td>JOG   </td></tr>\n",
       "\t<tr><td>6     </td><td>LOG   </td></tr>\n",
       "</tbody>\n",
       "</table>\n"
      ],
      "text/latex": [
       "\\begin{tabular}{r|ll}\n",
       " ID & NAME\\\\\n",
       "\\hline\n",
       "\t 1      & BAT   \\\\\n",
       "\t 2      & CAT   \\\\\n",
       "\t 3      & DOG   \\\\\n",
       "\t 4      & FOG   \\\\\n",
       "\t 5      & JOG   \\\\\n",
       "\t 6      & LOG   \\\\\n",
       "\\end{tabular}\n"
      ],
      "text/markdown": [
       "\n",
       "ID | NAME | \n",
       "|---|---|---|---|---|---|\n",
       "| 1      | BAT    | \n",
       "| 2      | CAT    | \n",
       "| 3      | DOG    | \n",
       "| 4      | FOG    | \n",
       "| 5      | JOG    | \n",
       "| 6      | LOG    | \n",
       "\n",
       "\n"
      ],
      "text/plain": [
       "  ID NAME  \n",
       "1 1  BAT   \n",
       "2 2  CAT   \n",
       "3 3  DOG   \n",
       "4 4  FOG   \n",
       "5 5  JOG   \n",
       "6 6  LOG   "
      ]
     },
     "metadata": {},
     "output_type": "display_data"
    }
   ],
   "source": [
    "#Add these new rows to the dataframe we retrieved from the database\n",
    "testrdbnewrows <- rbind(testrdbnew,newrows)\n",
    "testrdbnewrows"
   ]
  },
  {
   "cell_type": "markdown",
   "metadata": {},
   "source": [
    "<div align=\"left\">\n",
    "<a href=\"#tipf5\" class=\"btn btn-default\" data-toggle=\"collapse\" >Click here to view/hide tip</a></div>\n",
    "<div id=\"tipf5\" class=\"collapse\"><br>\n",
    "  \n",
    "```\n",
    "# Fill in the ...\n",
    "test...rows <- r...(test...,...rows)\n",
    "test...rows\n",
    "```\n",
    "  \n",
    "</div>"
   ]
  },
  {
   "cell_type": "markdown",
   "metadata": {},
   "source": [
    "<div align=\"left\">\n",
    "<a href=\"#solf5\" class=\"btn btn-default\" data-toggle=\"collapse\" >Click here to view/hide solution</a></div>\n",
    "<div id=\"solf5\" class=\"collapse\"><br>\n",
    "  \n",
    "```\n",
    "#Add these new rows to the dataframe we retrieved from the database\n",
    "testrdbnewrows <- rbind(testrdbnew,newrows)\n",
    "testrdbnewrows\n",
    "```\n",
    "  \n",
    "</div>"
   ]
  },
  {
   "cell_type": "markdown",
   "metadata": {},
   "source": [
    "<a id=\"refg\"></a>\n",
    "<h3>g. Insert the dataframe into a NEW table</h3>\n",
    "<p>Now let's insert the dataframe with new rows into a NEW table in the database. Because TESTR2 does not exist it will be created.</p>"
   ]
  },
  {
   "cell_type": "code",
   "execution_count": 20,
   "metadata": {
    "collapsed": true
   },
   "outputs": [],
   "source": [
    "#Now let's insert the dataframe with new rows into a NEW table in the database\n",
    "# dropttab <- sqlDrop(conn, \"TESTR2\")  #Ensure the table does not exist\n",
    "#Because TESTR2 does not exist it will be created\n",
    "sqlSave(conn, testrdbnewrows, \"TESTR2\", fast=FALSE, rownames=FALSE, colnames=FALSE)"
   ]
  },
  {
   "cell_type": "markdown",
   "metadata": {},
   "source": [
    "<div align=\"left\">\n",
    "<a href=\"#tipg1\" class=\"btn btn-default\" data-toggle=\"collapse\" >Click here to view/hide tip</a></div>\n",
    "<div id=\"tipg1\" class=\"collapse\"><br>\n",
    "  \n",
    "```\n",
    "# Fill in the ...\n",
    "drop... <- sql...(conn, \"...\")  \n",
    "sql...(conn, test..., \"...\", fast=..., row...=FALSE, col...=FALSE)\n",
    "```\n",
    "  \n",
    "</div>"
   ]
  },
  {
   "cell_type": "markdown",
   "metadata": {},
   "source": [
    "<div align=\"left\">\n",
    "<a href=\"#solg1\" class=\"btn btn-default\" data-toggle=\"collapse\" >Click here to view/hide solution</a></div>\n",
    "<div id=\"solg1\" class=\"collapse\"><br>\n",
    "  \n",
    "```\n",
    "#Now let's insert the dataframe with new rows into a NEW table in the database\n",
    "dropttab <- sqlDrop(conn, \"TESTR2\")  #Ensure the table does not exist\n",
    "#Because TESTR2 does not exist it will be created\n",
    "sqlSave(conn, testrdbnewrows, \"TESTR2\", fast=FALSE, rownames=FALSE, colnames=FALSE)\n",
    "```\n",
    "  \n",
    "</div>"
   ]
  },
  {
   "cell_type": "markdown",
   "metadata": {},
   "source": [
    "Let's fetch the contents of the new table to see if the contents of the new table match those of the test database new rows we inserted earlier."
   ]
  },
  {
   "cell_type": "code",
   "execution_count": 21,
   "metadata": {
    "collapsed": false
   },
   "outputs": [
    {
     "data": {
      "text/html": [
       "<table>\n",
       "<thead><tr><th scope=col>ID</th><th scope=col>NAME</th></tr></thead>\n",
       "<tbody>\n",
       "\t<tr><td>1     </td><td>BAT   </td></tr>\n",
       "\t<tr><td>2     </td><td>CAT   </td></tr>\n",
       "\t<tr><td>3     </td><td>DOG   </td></tr>\n",
       "\t<tr><td>4     </td><td>FOG   </td></tr>\n",
       "\t<tr><td>5     </td><td>JOG   </td></tr>\n",
       "\t<tr><td>6     </td><td>LOG   </td></tr>\n",
       "</tbody>\n",
       "</table>\n"
      ],
      "text/latex": [
       "\\begin{tabular}{r|ll}\n",
       " ID & NAME\\\\\n",
       "\\hline\n",
       "\t 1      & BAT   \\\\\n",
       "\t 2      & CAT   \\\\\n",
       "\t 3      & DOG   \\\\\n",
       "\t 4      & FOG   \\\\\n",
       "\t 5      & JOG   \\\\\n",
       "\t 6      & LOG   \\\\\n",
       "\\end{tabular}\n"
      ],
      "text/markdown": [
       "\n",
       "ID | NAME | \n",
       "|---|---|---|---|---|---|\n",
       "| 1      | BAT    | \n",
       "| 2      | CAT    | \n",
       "| 3      | DOG    | \n",
       "| 4      | FOG    | \n",
       "| 5      | JOG    | \n",
       "| 6      | LOG    | \n",
       "\n",
       "\n"
      ],
      "text/plain": [
       "  ID NAME  \n",
       "1 1  BAT   \n",
       "2 2  CAT   \n",
       "3 3  DOG   \n",
       "4 4  FOG   \n",
       "5 5  JOG   \n",
       "6 6  LOG   "
      ]
     },
     "metadata": {},
     "output_type": "display_data"
    }
   ],
   "source": [
    "#let's fetch the contents of the new table\n",
    "testrdb2 <- sqlFetch(conn, \"TESTR2\", stringsAsFactors=FALSE)\n",
    "#See if the contents o fthe new table match those of testdbnewrows we inserted\n",
    "testrdb2"
   ]
  },
  {
   "cell_type": "markdown",
   "metadata": {},
   "source": [
    "<div align=\"left\">\n",
    "<a href=\"#tipg2\" class=\"btn btn-default\" data-toggle=\"collapse\" >Click here to view/hide tip</a></div>\n",
    "<div id=\"tipg2\" class=\"collapse\"><br>\n",
    "  \n",
    "```\n",
    "# Fill in the ...\n",
    "test... <- sql...(conn, \"...\", strings...=FALSE)\n",
    "test...\n",
    "```\n",
    "  \n",
    "</div>"
   ]
  },
  {
   "cell_type": "markdown",
   "metadata": {},
   "source": [
    "<div align=\"left\">\n",
    "<a href=\"#solg2\" class=\"btn btn-default\" data-toggle=\"collapse\" >Click here to view/hide solution</a></div>\n",
    "<div id=\"solg2\" class=\"collapse\"><br>\n",
    "  \n",
    "```\n",
    "#let's fetch the contents of the new table\n",
    "testrdb2 <- sqlFetch(conn, \"TESTR2\", stringsAsFactors=FALSE)\n",
    "#See if the contents o fthe new table match those of testdbnewrows we inserted\n",
    "testrdb2\n",
    "```\n",
    "  \n",
    "</div>"
   ]
  },
  {
   "cell_type": "markdown",
   "metadata": {},
   "source": [
    "Now let's update some data; set a new value for the second column in the sixth row."
   ]
  },
  {
   "cell_type": "code",
   "execution_count": 23,
   "metadata": {
    "collapsed": true
   },
   "outputs": [
    {
     "data": {
      "text/html": [
       "<table>\n",
       "<thead><tr><th></th><th scope=col>ID</th><th scope=col>NAME</th></tr></thead>\n",
       "<tbody>\n",
       "\t<tr><th scope=row>6</th><td>6     </td><td>MEG   </td></tr>\n",
       "</tbody>\n",
       "</table>\n"
      ],
      "text/latex": [
       "\\begin{tabular}{r|ll}\n",
       "  & ID & NAME\\\\\n",
       "\\hline\n",
       "\t6 & 6      & MEG   \\\\\n",
       "\\end{tabular}\n"
      ],
      "text/markdown": [
       "\n",
       "| <!--/--> | ID | NAME | \n",
       "|---|\n",
       "| 6 | 6      | MEG    | \n",
       "\n",
       "\n"
      ],
      "text/plain": [
       "  ID NAME  \n",
       "6 6  MEG   "
      ]
     },
     "metadata": {},
     "output_type": "display_data"
    }
   ],
   "source": [
    "#Now lets update some data\n",
    "#Set a new value for the second column in sixth row\n",
    "testrdb2[6,2] <- \"MEG   \" \n",
    "testrdb2[6,]     # prints out the 6th row so we can see if this worked"
   ]
  },
  {
   "cell_type": "markdown",
   "metadata": {},
   "source": [
    "<div align=\"left\">\n",
    "<a href=\"#tipg3\" class=\"btn btn-default\" data-toggle=\"collapse\" >Click here to view/hide tip</a></div>\n",
    "<div id=\"tipg3\" class=\"collapse\"><br>\n",
    "  \n",
    "```\n",
    "# Fill in the ...\n",
    "test...[6,...] <- \"...\" \n",
    "```\n",
    "  \n",
    "</div>"
   ]
  },
  {
   "cell_type": "markdown",
   "metadata": {},
   "source": [
    "<div align=\"left\">\n",
    "<a href=\"#solg3\" class=\"btn btn-default\" data-toggle=\"collapse\" >Click here to view/hide solution</a></div>\n",
    "<div id=\"solg3\" class=\"collapse\"><br>\n",
    "  \n",
    "```\n",
    "testrdb2[6,2] <- \"MEG   \" \n",
    "```\n",
    "  \n",
    "</div>"
   ]
  },
  {
   "cell_type": "markdown",
   "metadata": {},
   "source": [
    "<a id=\"refh\"></a>\n",
    "<h3>h. Use sqlUdate() to enter new values</h3>\n",
    "<p>Now use sqlUpdate() to enter the new value into the database; then fetch the contents of the updated table.</p>"
   ]
  },
  {
   "cell_type": "code",
   "execution_count": 24,
   "metadata": {
    "collapsed": false
   },
   "outputs": [
    {
     "data": {
      "text/html": [
       "<table>\n",
       "<thead><tr><th scope=col>ID</th><th scope=col>NAME</th></tr></thead>\n",
       "<tbody>\n",
       "\t<tr><td>1     </td><td>BAT   </td></tr>\n",
       "\t<tr><td>2     </td><td>CAT   </td></tr>\n",
       "\t<tr><td>3     </td><td>DOG   </td></tr>\n",
       "\t<tr><td>4     </td><td>FOG   </td></tr>\n",
       "\t<tr><td>5     </td><td>JOG   </td></tr>\n",
       "\t<tr><td>6     </td><td>MEG   </td></tr>\n",
       "</tbody>\n",
       "</table>\n"
      ],
      "text/latex": [
       "\\begin{tabular}{r|ll}\n",
       " ID & NAME\\\\\n",
       "\\hline\n",
       "\t 1      & BAT   \\\\\n",
       "\t 2      & CAT   \\\\\n",
       "\t 3      & DOG   \\\\\n",
       "\t 4      & FOG   \\\\\n",
       "\t 5      & JOG   \\\\\n",
       "\t 6      & MEG   \\\\\n",
       "\\end{tabular}\n"
      ],
      "text/markdown": [
       "\n",
       "ID | NAME | \n",
       "|---|---|---|---|---|---|\n",
       "| 1      | BAT    | \n",
       "| 2      | CAT    | \n",
       "| 3      | DOG    | \n",
       "| 4      | FOG    | \n",
       "| 5      | JOG    | \n",
       "| 6      | MEG    | \n",
       "\n",
       "\n"
      ],
      "text/plain": [
       "  ID NAME  \n",
       "1 1  BAT   \n",
       "2 2  CAT   \n",
       "3 3  DOG   \n",
       "4 4  FOG   \n",
       "5 5  JOG   \n",
       "6 6  MEG   "
      ]
     },
     "metadata": {},
     "output_type": "display_data"
    }
   ],
   "source": [
    "sqlUpdate(conn, testrdb2,\"TESTR2\", index=\"ID\")\n",
    "#fetch the contents of the updated table\n",
    "testrdb3 <- sqlFetch(conn, \"TESTR2\", stringsAsFactors=FALSE)\n",
    "testrdb3"
   ]
  },
  {
   "cell_type": "markdown",
   "metadata": {},
   "source": [
    "<div align=\"left\">\n",
    "<a href=\"#tiph\" class=\"btn btn-default\" data-toggle=\"collapse\" >Click here to view/hide tip</a></div>\n",
    "<div id=\"tiph\" class=\"collapse\"><br>\n",
    "  \n",
    "```\n",
    "# Fill in the ...\n",
    "sql...(conn, ...,\"TEST...\", ...=\"ID\")\n",
    "#fetch the contents of the updated table\n",
    "test... <- sql...(conn, \"TEST...\", strings...=FALSE)\n",
    "test...\n",
    "```\n",
    "  \n",
    "</div>"
   ]
  },
  {
   "cell_type": "markdown",
   "metadata": {},
   "source": [
    "<div align=\"left\">\n",
    "<a href=\"#solh\" class=\"btn btn-default\" data-toggle=\"collapse\" >Click here to view/hide solution</a></div>\n",
    "<div id=\"solh\" class=\"collapse\"><br>\n",
    "  \n",
    "```\n",
    "sqlUpdate(conn, testrdb2,\"TESTR2\", index=\"ID\")\n",
    "#fetch the contents of the updated table\n",
    "testrdb3 <- sqlFetch(conn, \"TESTR2\", stringsAsFactors=FALSE)\n",
    "testrdb3\n",
    "```\n",
    "  \n",
    "</div>"
   ]
  },
  {
   "cell_type": "markdown",
   "metadata": {},
   "source": [
    "Note: Rather than use SQLUpdate, sometimes it may be more efficient to modify the data using the SQL UPDATE statement via sqlQuery()"
   ]
  },
  {
   "cell_type": "markdown",
   "metadata": {},
   "source": [
    "<a id=\"refi\"></a>\n",
    "<h3>i. Close the connection</h3>"
   ]
  },
  {
   "cell_type": "code",
   "execution_count": 25,
   "metadata": {
    "collapsed": true
   },
   "outputs": [],
   "source": [
    "close(conn) "
   ]
  },
  {
   "cell_type": "markdown",
   "metadata": {},
   "source": [
    "<div align=\"left\">\n",
    "<a href=\"#tipi\" class=\"btn btn-default\" data-toggle=\"collapse\" >Click here to view/hide tip</a></div>\n",
    "<div id=\"tipi\" class=\"collapse\"><br>\n",
    "  \n",
    "```\n",
    "# Fill in the ...\n",
    "...(...)\n",
    "```\n",
    "  \n",
    "</div>"
   ]
  },
  {
   "cell_type": "markdown",
   "metadata": {},
   "source": [
    "<div align=\"left\">\n",
    "<a href=\"#soli\" class=\"btn btn-default\" data-toggle=\"collapse\" >Click here to view/hide solution</a></div>\n",
    "<div id=\"soli\" class=\"collapse\"><br>\n",
    "  \n",
    "```\n",
    "close(conn) \n",
    "```\n",
    "  \n",
    "</div>"
   ]
  },
  {
   "cell_type": "markdown",
   "metadata": {},
   "source": [
    "<a id=\"refj\"></a>\n",
    "<h3>Summary</h3>"
   ]
  },
  {
   "cell_type": "markdown",
   "metadata": {},
   "source": [
    "In this lab you learned how to modify data in a database using R.\n",
    "\n",
    "This notebook is part of the free course on Cognitive Class called *Using R with Databases*. If you accessed this notebook outside the course, you can take this free self-paced course, online by going to: https://cognitiveclass.ai/courses/using-r-with-databases/"
   ]
  },
  {
   "cell_type": "markdown",
   "metadata": {},
   "source": [
    "<hr>\n",
    "<h3>Tell your friends that you're taking the Using R with Database course!</h3>\n",
    "\n",
    "<script type=\"text/javascript\" async src=\"https://platform.twitter.com/widgets.js\"></script>\n",
    "\n",
    "<a href=https://twitter.com/intent/tweet?url=https%3A%2F%2Fgoo.gl%2Fb6kJAj&via=bigdatau&text=I%20can%20now%20program%20in%20R!%20I%20finished%20this%20R%20course%20on%20IBM%27s%20Big%20Data%20University!&hashtags=rstats%2Cdatascience&related=bigdatau>\n",
    "<textarea name=\"textarea1\" disabled=\"disabled\" style=\"resize:none;border-color:#00aced;color:#808080;height:80px\" cols=75>Just learnt how to modify data in databases using R from #jupyter notebooks Thanks @cognitiveclass</textarea></a>\n",
    "<p></p><a class=\"twitter-share-button\" data-size=large href=https://twitter.com/intent/tweet?url=https%3A%2F%2Fgoo.gl%2Fb6kJAj&via=bigdatau&text=I%20can%20now%20program%20in%20R!%20I%20finished%20this%20R%20course%20on%20IBM%27s%20Big%20Data%20University!&hashtags=rstats%2Cdatascience&related=bigdatau></a>\n",
    "\n",
    "<a href=https://twitter.com/intent/tweet?text=Just+learnt+how+to+modify+data+in+databases+using+R+from+%23jupyter+notebooks+Thanks+%40BigDataU>Tweet Now!</a>"
   ]
  },
  {
   "cell_type": "markdown",
   "metadata": {},
   "source": [
    "#### Thank you for completing this lab on modifying data using R.\n",
    "<hr>"
   ]
  },
  {
   "cell_type": "markdown",
   "metadata": {},
   "source": [
    "### About the Authors:  \n",
    "Hi! It's [Rav Ahuja](https://ca.linkedin.com/in/rav-ahuja-8aa4562a) and [Agatha Colangelo](https://www.linkedin.com/in/agathacolangelo), the authors of this notebook. We hope you found this lab on modifying data using R easy to do! There's lots more to learn about R and Relational Databases but you're well on your way. Feel free to connect with us if you have any questions.\n",
    "<hr>"
   ]
  },
  {
   "cell_type": "markdown",
   "metadata": {},
   "source": [
    "Copyright &copy; 2017 [Cognitive Class](https://cognitiveclass.ai/?utm_source=bducopyrightlink&utm_medium=dswb&utm_campaign=bdu). This notebook and its source code are released under the terms of the [MIT License](https://cognitiveclass.ai/mit-license/)."
   ]
  }
 ],
 "metadata": {
  "kernelspec": {
   "display_name": "R",
   "language": "R",
   "name": "ir"
  },
  "language_info": {
   "codemirror_mode": "r",
   "file_extension": ".r",
   "mimetype": "text/x-r-source",
   "name": "R",
   "pygments_lexer": "r",
   "version": "3.5.1"
  },
  "widgets": {
   "state": {},
   "version": "1.1.2"
  }
 },
 "nbformat": 4,
 "nbformat_minor": 2
}
