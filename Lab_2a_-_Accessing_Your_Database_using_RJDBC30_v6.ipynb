{
 "cells": [
  {
   "cell_type": "markdown",
   "metadata": {},
   "source": [
    "<a href=\"https://www.bigdatauniversity.com/?utm_source=worldofwatson&utm_medium=notebook&utm_campaign=sparklab\"><img src = \"https://ibm.box.com/shared/static/n4369i3g2fkg38kendjtcbw6hzm4vel5.png\" width = 100> </a>\n",
    "\n",
    "<h1 align=center> <font size = 6>Lab 2a. Accessing Your Database using RJDBC</font></h1>"
   ]
  },
  {
   "cell_type": "markdown",
   "metadata": {},
   "source": [
    "### Welcome!\n",
    "\n",
    "In this hands-on lab, we will discover how to connect and query data from database servers with R using RJDBC."
   ]
  },
  {
   "cell_type": "markdown",
   "metadata": {},
   "source": [
    "<div class=\"alert alert-block alert-info\" style=\"margin-top: 20px\">\n",
    "<h3>Tasks</h3>\n",
    "<ol><ol><ol>\n",
    "<li><a href=\"#ref4a\">Load the RJDBC library</a></li>\n",
    "<li><a href=\"#ref4b\">Provide database credentials</a></li>\n",
    "<li><a href=\"#ref4c\">Connect to the database</a></li>\n",
    "<li><a href=\"#ref4d\">Execute a Query (and retrieve results)</a></li>\n",
    "<li><a href=\"#ref4e\">Analyze the results</a></li>\n",
    "<li><a href=\"#ref4f\">Dis-connect</a></li>\n",
    "</ol></ol></ol>\n",
    "<p></p>\n",
    "Estimated Time Needed: <strong>15 min</strong>\n",
    "</div>"
   ]
  },
  {
   "cell_type": "markdown",
   "metadata": {},
   "source": [
    "<b>Pre-requisite</b>: In this lab we will use Jupyter Notebooks within CC Labs to access data in a Db2 Warehouse on Cloud database using RJDBC.  Information about Jupyter notebooks, CC Labs, and Db2 Warehouse services is provided in the lab setup."
   ]
  },
  {
   "cell_type": "markdown",
   "metadata": {},
   "source": [
    "<a id=\"ref4a\"></a>\n",
    "### a. Load the RJDBC library\n",
    "The RJDBC package is pre-installed in your workbench. Let’s load the RJDBC package by clicking on the following cell and executing it (Shift+Enter):"
   ]
  },
  {
   "cell_type": "code",
   "execution_count": null,
   "metadata": {
    "collapsed": false
   },
   "outputs": [],
   "source": []
  },
  {
   "cell_type": "markdown",
   "metadata": {},
   "source": [
    "<div align=\"left\">\n",
    "<a href=\"#tipa\" class=\"btn btn-default\" data-toggle=\"collapse\" >Click here to view/hide tip</a></div>\n",
    "<div id=\"tipa\" class=\"collapse\"><br>\n",
    "  \n",
    "```\n",
    "# Fill in the ...\n",
    "library(...);\n",
    "```\n",
    "  \n",
    "</div>"
   ]
  },
  {
   "cell_type": "markdown",
   "metadata": {},
   "source": [
    "<div align=\"left\">\n",
    "<a href=\"#sola\" class=\"btn btn-default\" data-toggle=\"collapse\" >Click here to view/hide solution</a></div>\n",
    "<div id=\"sola\" class=\"collapse\"><br>\n",
    "  \n",
    "```\n",
    "library(RJDBC);\n",
    "```\n",
    "  \n",
    "</div>"
   ]
  },
  {
   "cell_type": "markdown",
   "metadata": {},
   "source": [
    "<a id=\"ref4b\"></a>\n",
    "### b. Provide database credentials\n",
    "In the following cell enter the connection details for your instance of <b>Db2 Warehouse</b> and run it. Remember to update the values for hostname, userid, and password.\n",
    "\n",
    "For instructions on using <b>Db2 Warehouse</b>, go to <b>Lab 1</b>."
   ]
  },
  {
   "cell_type": "code",
   "execution_count": 1,
   "metadata": {
    "collapsed": true
   },
   "outputs": [],
   "source": []
  },
  {
   "cell_type": "markdown",
   "metadata": {},
   "source": [
    "<div align=\"left\">\n",
    "<a href=\"#tipb\" class=\"btn btn-default\" data-toggle=\"collapse\" >Click here to view/hide tip</a></div>\n",
    "<div id=\"tipb\" class=\"collapse\"><br>\n",
    "  \n",
    "```\n",
    "# Fill in the ...\n",
    "dsn_driver = \"com.ibm.db2....\"\n",
    "dsn_database = \"...\"            \n",
    "dsn_hostname = \"<yourhostname>\"  \n",
    "dsn_port = \"...\"               \n",
    "dsn_protocol = \"...\"           \n",
    "dsn_uid = \"<userid>\"        \n",
    "dsn_pwd = \"<password>\"      \n",
    "```\n",
    "  \n",
    "</div>"
   ]
  },
  {
   "cell_type": "markdown",
   "metadata": {},
   "source": [
    "<div align=\"left\">\n",
    "<a href=\"#solbx\" class=\"btn btn-default\" data-toggle=\"collapse\" >Click here to view/hide solution</a></div>\n",
    "<div id=\"solbx\" class=\"collapse\"><br>\n",
    "  \n",
    "```\n",
    "#Enter the values for you database connection\n",
    "dsn_driver = \"com.ibm.db2.jcc.DB2Driver\"\n",
    "dsn_database = \"BLUDB\"            # e.g. \"BLUDB\"\n",
    "dsn_hostname = \"<yourhostname>\"   # e.g. replace <yourhostname> with your hostname, e.g., \"Db2 Warehouse01.datascientstworkbench.com\"\n",
    "dsn_port = \"50000\"                # e.g. \"50000\" \n",
    "dsn_protocol = \"TCPIP\"            # i.e. \"TCPIP\"\n",
    "dsn_uid = \"<userid>\"              # e.g. replace <userid> with your userid\n",
    "dsn_pwd = \"<password>\"            # e.g. replace <password> with your password\n",
    "```\n",
    "  \n",
    "</div>"
   ]
  },
  {
   "cell_type": "markdown",
   "metadata": {},
   "source": [
    "<a id=\"ref4c\"></a>\n",
    "### c. Connect to the database\n",
    "First we will specify which database driver to use. Then create a JDBC connection string."
   ]
  },
  {
   "cell_type": "code",
   "execution_count": null,
   "metadata": {
    "collapsed": true
   },
   "outputs": [],
   "source": []
  },
  {
   "cell_type": "markdown",
   "metadata": {},
   "source": [
    "<div align=\"left\">\n",
    "<a href=\"#tipc1\" class=\"btn btn-default\" data-toggle=\"collapse\" >Click here to view/hide tip</a></div>\n",
    "<div id=\"tipc1\" class=\"collapse\"><br>\n",
    "  \n",
    "```\n",
    "# Fill in the ...\n",
    "jcc = JDBC(\"com.ibm.db2.jcc....r\", \"<path to db2jcc-db2jcc4.jar>\");\n",
    "jdbc_path = paste(\"jdbc:db2://\",  dsn_port, \":\", ..., \"/\", dsn_database, ...);\n",
    "```\n",
    "  \n",
    "</div>"
   ]
  },
  {
   "cell_type": "markdown",
   "metadata": {},
   "source": [
    "<div align=\"left\">\n",
    "<a href=\"#solc1\" class=\"btn btn-default\" data-toggle=\"collapse\" >Click here to view/hide solution</a></div>\n",
    "<div id=\"solc1\" class=\"collapse\"><br>\n",
    "  \n",
    "```\n",
    "jcc = JDBC(\"com.ibm.db2.jcc.DB2Driver\", \"~/.rlang/db2jcc-db2jcc4.jar\");\n",
    "jdbc_path = paste(\"jdbc:db2://\",  dsn_hostname, \":\", dsn_port, \"/\", dsn_database, sep=\"\");\n",
    "```\n",
    "  \n",
    "</div>"
   ]
  },
  {
   "cell_type": "markdown",
   "metadata": {},
   "source": [
    "Now, let's use the driver and connection string to actually connect to the database using the RJDBC function dbConnect()."
   ]
  },
  {
   "cell_type": "code",
   "execution_count": null,
   "metadata": {
    "collapsed": true
   },
   "outputs": [],
   "source": []
  },
  {
   "cell_type": "markdown",
   "metadata": {},
   "source": [
    "<div align=\"left\">\n",
    "<a href=\"#tipc2\" class=\"btn btn-default\" data-toggle=\"collapse\" >Click here to view/hide tip</a></div>\n",
    "<div id=\"tipc2\" class=\"collapse\"><br>\n",
    "  \n",
    "```\n",
    "# Fill in the ...\n",
    "conn = dbConnect(..., ..., user=..., password=...)\n",
    "```\n",
    "  \n",
    "</div>"
   ]
  },
  {
   "cell_type": "markdown",
   "metadata": {},
   "source": [
    "<div align=\"left\">\n",
    "<a href=\"#solc2\" class=\"btn btn-default\" data-toggle=\"collapse\" >Click here to view/hide solution</a></div>\n",
    "<div id=\"solc2\" class=\"collapse\"><br>\n",
    "  \n",
    "```\n",
    "conn = dbConnect(jcc, jdbc_path, user=dsn_uid, password=dsn_pwd)\n",
    "```\n",
    "  \n",
    "</div>"
   ]
  },
  {
   "cell_type": "markdown",
   "metadata": {},
   "source": [
    "<a id=\"ref4d\"></a>\n",
    "### d. Execute a Query (and return the results)\n",
    "Next, execute a query against a sample table and fetch the results into a R dataframe."
   ]
  },
  {
   "cell_type": "code",
   "execution_count": null,
   "metadata": {
    "collapsed": true
   },
   "outputs": [],
   "source": []
  },
  {
   "cell_type": "markdown",
   "metadata": {},
   "source": [
    "<div align=\"left\">\n",
    "<a href=\"#tipd1\" class=\"btn btn-default\" data-toggle=\"collapse\" >Click here to view/hide tip</a></div>\n",
    "<div id=\"tipd1\" class=\"collapse\"><br>\n",
    "  \n",
    "```\n",
    "Fill in the ...\n",
    "query = \"SELECT * FROM ...\";\n",
    "rs = dbSendQuery(...);\n",
    "df = fetch(...);\n",
    "```\n",
    "  \n",
    "</div>"
   ]
  },
  {
   "cell_type": "markdown",
   "metadata": {},
   "source": [
    "<div align=\"left\">\n",
    "<a href=\"#sold1\" class=\"btn btn-default\" data-toggle=\"collapse\" >Click here to view/hide solution</a></div>\n",
    "<div id=\"sold1\" class=\"collapse\"><br>\n",
    "  \n",
    "```\n",
    "query = \"SELECT * FROM GOSALES.ORDER_DETAILS\";\n",
    "rs = dbSendQuery(conn, query);\n",
    "df = fetch(rs, -1);\n",
    "```\n",
    "  \n",
    "</div>"
   ]
  },
  {
   "cell_type": "markdown",
   "metadata": {},
   "source": [
    "This dataframe is quite large … let’s examine the contents by looking at the first few rows: "
   ]
  },
  {
   "cell_type": "code",
   "execution_count": null,
   "metadata": {
    "collapsed": true
   },
   "outputs": [],
   "source": []
  },
  {
   "cell_type": "markdown",
   "metadata": {},
   "source": [
    "<div align=\"left\">\n",
    "<a href=\"#tipd2\" class=\"btn btn-default\" data-toggle=\"collapse\" >Click here to view/hide tip</a></div>\n",
    "<div id=\"tipd2\" class=\"collapse\"><br>\n",
    "  \n",
    "```\n",
    "# Fill in the ...\n",
    "head(...)\n",
    "```\n",
    "  \n",
    "</div>"
   ]
  },
  {
   "cell_type": "markdown",
   "metadata": {},
   "source": [
    "<div align=\"left\">\n",
    "<a href=\"#sold2\" class=\"btn btn-default\" data-toggle=\"collapse\" >Click here to view/hide solution</a></div>\n",
    "<div id=\"sold2\" class=\"collapse\"><br>\n",
    "  \n",
    "```\n",
    "head(df)\n",
    "```\n",
    "  \n",
    "</div>"
   ]
  },
  {
   "cell_type": "markdown",
   "metadata": {},
   "source": [
    "<a id=\"ref4e\"></a>\n",
    "### e. Analyze the results\n",
    "Once the data is available in a R dataframe we can use standard R expressions to extract and analyze the information we are interested in. \n",
    "Let’s for example look at the order details for the order(s) with the highest QUANTITY:"
   ]
  },
  {
   "cell_type": "code",
   "execution_count": null,
   "metadata": {
    "collapsed": true
   },
   "outputs": [],
   "source": []
  },
  {
   "cell_type": "markdown",
   "metadata": {},
   "source": [
    "<div align=\"left\">\n",
    "<a href=\"#tipe\" class=\"btn btn-default\" data-toggle=\"collapse\" >Click here to view/hide tip</a></div>\n",
    "<div id=\"tipe\" class=\"collapse\"><br>\n",
    "  \n",
    "```\n",
    "# Fill in the ...\n",
    "maxqty = max(..., na.rm=...)\n",
    "print(df[df$QUANTITY==...,c(...)])\n",
    "```\n",
    "  \n",
    "</div>"
   ]
  },
  {
   "cell_type": "markdown",
   "metadata": {},
   "source": [
    "<div align=\"left\">\n",
    "<a href=\"#sole\" class=\"btn btn-default\" data-toggle=\"collapse\" >Click here to view/hide solution</a></div>\n",
    "<div id=\"sole\" class=\"collapse\"><br>\n",
    "  \n",
    "```\n",
    "maxqty = max(df$QUANTITY, na.rm=TRUE)\n",
    "print(df[df$QUANTITY==maxqty,c(1:9)])\n",
    "```\n",
    "  \n",
    "</div>"
   ]
  },
  {
   "cell_type": "markdown",
   "metadata": {},
   "source": [
    "<a id=\"ref4f\"></a>\n",
    "### f. Dis-connect\n",
    "Finally, as a best practice we should close the database connection once we're done with it."
   ]
  },
  {
   "cell_type": "code",
   "execution_count": null,
   "metadata": {
    "collapsed": true
   },
   "outputs": [],
   "source": []
  },
  {
   "cell_type": "markdown",
   "metadata": {},
   "source": [
    "<div align=\"left\">\n",
    "<a href=\"#tipf\" class=\"btn btn-default\" data-toggle=\"collapse\" >Click here to view/hide tip</a></div>\n",
    "<div id=\"tipf\" class=\"collapse\"><br>\n",
    "  \n",
    "```\n",
    "# Fill in the ...\n",
    "dbDisconnect(...)\n",
    "```\n",
    "  \n",
    "</div>"
   ]
  },
  {
   "cell_type": "markdown",
   "metadata": {},
   "source": [
    "<div align=\"left\">\n",
    "<a href=\"#solf\" class=\"btn btn-default\" data-toggle=\"collapse\" >Click here to view/hide solution</a></div>\n",
    "<div id=\"solf\" class=\"collapse\"><br>\n",
    "  \n",
    "```\n",
    "dbDisconnect(conn)\n",
    "```\n",
    "  \n",
    "</div>"
   ]
  },
  {
   "cell_type": "markdown",
   "metadata": {},
   "source": [
    "<a id=\"ref4g\"></a>\n",
    "### Summary\n",
    "In this lab you accessed data in a Db2 Warehouse on Cloud databse using RJDBC connection from a R notebook in Jupyter, and fetched the results of a query for analysis in a R dataframe.\n",
    "\n",
    "This notebook is part of the free course on Cognitive Class called *Using R with Databases*. If you accessed this notebook outside the course, you can take this free self-paced course, online by going to: \n",
    "https://cognitiveclass.ai/courses/using-r-with-databases/"
   ]
  },
  {
   "cell_type": "markdown",
   "metadata": {},
   "source": [
    "<hr>\n",
    "<h3>Tell your friends that you're taking the Using R with Database course!</h3>\n",
    "\n",
    "<script type=\"text/javascript\" async src=\"https://platform.twitter.com/widgets.js\"></script>\n",
    "\n",
    "<a href=\"https://twitter.com/intent/tweet?url=https%3A%2F%2Fgoo.gl%2Fb6kJAj&via=bigdatau&text=I%20can%20now%20program%20in%20R!%20I%20finished%20this%20R%20course%20on%20IBM%27s%20Big%20Data%20University!&hashtags=rstats%2Cdatascience&related=bigdatau\">\n",
    "<textarea name=\"textarea1\" disabled=\"disabled\" style=\"resize:none;border-color:#00aced;color:#808080;height:80px\" cols=75>Just learnt how to use #RJDBC to access my database from #jupyter notebooks Thanks @cognitiveclass</textarea></a>\n",
    "<p></p><a class=\"twitter-share-button\" data-size=large href=\"https://twitter.com/intent/tweet?url=https%3A%2F%2Fgoo.gl%2Fb6kJAj&via=bigdatau&text=I%20can%20now%20program%20in%20R!%20I%20finished%20this%20R%20course%20on%20IBM%27s%20Big%20Data%20University!&hashtags=rstats%2Cdatascience&related=bigdatau\"></a>\n",
    "\n",
    "<a href=\"https://twitter.com/intent/tweet?text=Just+learnt+how+to+use+%23RJDBC+to+access+my+database+from+%23jupyter+notebooks+Thanks+%40BigDataU\">Tweet Now!</a>\n"
   ]
  },
  {
   "cell_type": "markdown",
   "metadata": {},
   "source": [
    "#### Thank you for completing this module on getting connected and querying databases using RJDBC.\n",
    "<hr>"
   ]
  },
  {
   "cell_type": "markdown",
   "metadata": {},
   "source": [
    "### About the Authors:  \n",
    "Hi! It's [Rav Ahuja](https://ca.linkedin.com/in/rav-ahuja-8aa4562a) and [Agatha Colangelo](https://www.linkedin.com/in/agathacolangelo), the authors of this notebook. We hope you found this lab easy to do! There's lots more to learn about R and Relational Databases but you're well on your way. Feel free to connect with us if you have any questions.\n",
    "<hr>"
   ]
  },
  {
   "cell_type": "markdown",
   "metadata": {},
   "source": [
    "Copyright &copy; 2017 [Cognitive Class](https://cognitiveclass.ai/?utm_source=bducopyrightlink&utm_medium=dswb&utm_campaign=bdu). This notebook and its source code are released under the terms of the [MIT License](https://cognitiveclass.ai/mit-license/)."
   ]
  }
 ],
 "metadata": {
  "kernelspec": {
   "display_name": "R",
   "language": "R",
   "name": "ir"
  },
  "language_info": {
   "codemirror_mode": "r",
   "file_extension": ".r",
   "mimetype": "text/x-r-source",
   "name": "R",
   "pygments_lexer": "r",
   "version": "3.5.1"
  },
  "widgets": {
   "state": {},
   "version": "1.1.2"
  }
 },
 "nbformat": 4,
 "nbformat_minor": 2
}
